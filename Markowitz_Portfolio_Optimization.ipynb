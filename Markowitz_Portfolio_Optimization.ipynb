{
  "nbformat": 4,
  "nbformat_minor": 0,
  "metadata": {
    "colab": {
      "name": "Markowitz Portfolio Optimization.ipynb",
      "provenance": [],
      "authorship_tag": "ABX9TyN8aQGL37Ki4fR1wOgDTYrA",
      "include_colab_link": true
    },
    "kernelspec": {
      "name": "python3",
      "display_name": "Python 3"
    }
  },
  "cells": [
    {
      "cell_type": "markdown",
      "metadata": {
        "id": "view-in-github",
        "colab_type": "text"
      },
      "source": [
        "<a href=\"https://colab.research.google.com/github/armandordorica/Portfolio_Optimization/blob/master/Markowitz_Portfolio_Optimization.ipynb\" target=\"_parent\"><img src=\"https://colab.research.google.com/assets/colab-badge.svg\" alt=\"Open In Colab\"/></a>"
      ]
    },
    {
      "cell_type": "code",
      "metadata": {
        "id": "AC03JOS7kwZc",
        "colab_type": "code",
        "colab": {
          "base_uri": "https://localhost:8080/",
          "height": 34
        },
        "outputId": "a74f765d-3d70-4d32-b599-11f43c7430f6"
      },
      "source": [
        ""
      ],
      "execution_count": null,
      "outputs": [
        {
          "output_type": "stream",
          "text": [
            "L5_Data.csv  \u001b[0m\u001b[01;34msample_data\u001b[0m/\n"
          ],
          "name": "stdout"
        }
      ]
    },
    {
      "cell_type": "markdown",
      "metadata": {
        "id": "ZCPIUcdUo5yC",
        "colab_type": "text"
      },
      "source": [
        "# **1. Classic Markowitz - Fixed Required Return Minimized Variance Portfolio**"
      ]
    },
    {
      "cell_type": "code",
      "metadata": {
        "id": "kslaGjydkZUF",
        "colab_type": "code",
        "colab": {}
      },
      "source": [
        "# -*- coding: utf-8 -*-\n",
        "\"\"\"\n",
        "Created on Fri May 10 16:08:38 2019\n",
        "\n",
        "@author: Rosario\n",
        "Classic Markowitz for Fixed Required Return w Minimizing Variance Portfolio\n",
        "\"\"\"\n",
        "\n",
        "import numpy as np\n",
        "import pandas as pd\n",
        "import scipy.optimize as sco\n",
        "\n",
        "# load data\n",
        "data= pd.read_csv('L5_Data.csv', index_col =0)\n"
      ],
      "execution_count": null,
      "outputs": []
    },
    {
      "cell_type": "code",
      "metadata": {
        "id": "DeTaunBqk2BD",
        "colab_type": "code",
        "colab": {
          "base_uri": "https://localhost:8080/",
          "height": 417
        },
        "outputId": "f63cc971-cdd4-48ab-89b4-5f094353fdbe"
      },
      "source": [
        "data"
      ],
      "execution_count": null,
      "outputs": [
        {
          "output_type": "execute_result",
          "data": {
            "text/html": [
              "<div>\n",
              "<style scoped>\n",
              "    .dataframe tbody tr th:only-of-type {\n",
              "        vertical-align: middle;\n",
              "    }\n",
              "\n",
              "    .dataframe tbody tr th {\n",
              "        vertical-align: top;\n",
              "    }\n",
              "\n",
              "    .dataframe thead th {\n",
              "        text-align: right;\n",
              "    }\n",
              "</style>\n",
              "<table border=\"1\" class=\"dataframe\">\n",
              "  <thead>\n",
              "    <tr style=\"text-align: right;\">\n",
              "      <th></th>\n",
              "      <th>AAPL</th>\n",
              "      <th>MSFT</th>\n",
              "      <th>YHOO</th>\n",
              "      <th>DB</th>\n",
              "      <th>GLD</th>\n",
              "    </tr>\n",
              "    <tr>\n",
              "      <th>Date</th>\n",
              "      <th></th>\n",
              "      <th></th>\n",
              "      <th></th>\n",
              "      <th></th>\n",
              "      <th></th>\n",
              "    </tr>\n",
              "  </thead>\n",
              "  <tbody>\n",
              "    <tr>\n",
              "      <th>2010-01-04</th>\n",
              "      <td>28.588685</td>\n",
              "      <td>26.593966</td>\n",
              "      <td>17.100000</td>\n",
              "      <td>61.392277</td>\n",
              "      <td>109.800003</td>\n",
              "    </tr>\n",
              "    <tr>\n",
              "      <th>2010-01-05</th>\n",
              "      <td>28.638111</td>\n",
              "      <td>26.602557</td>\n",
              "      <td>17.230000</td>\n",
              "      <td>62.565957</td>\n",
              "      <td>109.699997</td>\n",
              "    </tr>\n",
              "    <tr>\n",
              "      <th>2010-01-06</th>\n",
              "      <td>28.182584</td>\n",
              "      <td>26.439299</td>\n",
              "      <td>17.170000</td>\n",
              "      <td>61.484485</td>\n",
              "      <td>111.510002</td>\n",
              "    </tr>\n",
              "    <tr>\n",
              "      <th>2010-01-07</th>\n",
              "      <td>28.130486</td>\n",
              "      <td>26.164338</td>\n",
              "      <td>16.700001</td>\n",
              "      <td>62.180321</td>\n",
              "      <td>110.820000</td>\n",
              "    </tr>\n",
              "    <tr>\n",
              "      <th>2010-01-08</th>\n",
              "      <td>28.317506</td>\n",
              "      <td>26.344781</td>\n",
              "      <td>16.700001</td>\n",
              "      <td>64.427088</td>\n",
              "      <td>111.370003</td>\n",
              "    </tr>\n",
              "    <tr>\n",
              "      <th>...</th>\n",
              "      <td>...</td>\n",
              "      <td>...</td>\n",
              "      <td>...</td>\n",
              "      <td>...</td>\n",
              "      <td>...</td>\n",
              "    </tr>\n",
              "    <tr>\n",
              "      <th>2014-09-08</th>\n",
              "      <td>96.706827</td>\n",
              "      <td>45.257913</td>\n",
              "      <td>41.810001</td>\n",
              "      <td>34.039067</td>\n",
              "      <td>120.730003</td>\n",
              "    </tr>\n",
              "    <tr>\n",
              "      <th>2014-09-09</th>\n",
              "      <td>96.343043</td>\n",
              "      <td>45.540346</td>\n",
              "      <td>40.779999</td>\n",
              "      <td>33.834365</td>\n",
              "      <td>120.870003</td>\n",
              "    </tr>\n",
              "    <tr>\n",
              "      <th>2014-09-10</th>\n",
              "      <td>99.302455</td>\n",
              "      <td>45.618262</td>\n",
              "      <td>41.139999</td>\n",
              "      <td>34.399735</td>\n",
              "      <td>120.260002</td>\n",
              "    </tr>\n",
              "    <tr>\n",
              "      <th>2014-09-11</th>\n",
              "      <td>99.725228</td>\n",
              "      <td>45.774088</td>\n",
              "      <td>41.259998</td>\n",
              "      <td>34.360744</td>\n",
              "      <td>119.470001</td>\n",
              "    </tr>\n",
              "    <tr>\n",
              "      <th>2014-09-12</th>\n",
              "      <td>99.951366</td>\n",
              "      <td>45.481914</td>\n",
              "      <td>42.880001</td>\n",
              "      <td>34.146292</td>\n",
              "      <td>118.379997</td>\n",
              "    </tr>\n",
              "  </tbody>\n",
              "</table>\n",
              "<p>1182 rows × 5 columns</p>\n",
              "</div>"
            ],
            "text/plain": [
              "                 AAPL       MSFT       YHOO         DB         GLD\n",
              "Date                                                              \n",
              "2010-01-04  28.588685  26.593966  17.100000  61.392277  109.800003\n",
              "2010-01-05  28.638111  26.602557  17.230000  62.565957  109.699997\n",
              "2010-01-06  28.182584  26.439299  17.170000  61.484485  111.510002\n",
              "2010-01-07  28.130486  26.164338  16.700001  62.180321  110.820000\n",
              "2010-01-08  28.317506  26.344781  16.700001  64.427088  111.370003\n",
              "...               ...        ...        ...        ...         ...\n",
              "2014-09-08  96.706827  45.257913  41.810001  34.039067  120.730003\n",
              "2014-09-09  96.343043  45.540346  40.779999  33.834365  120.870003\n",
              "2014-09-10  99.302455  45.618262  41.139999  34.399735  120.260002\n",
              "2014-09-11  99.725228  45.774088  41.259998  34.360744  119.470001\n",
              "2014-09-12  99.951366  45.481914  42.880001  34.146292  118.379997\n",
              "\n",
              "[1182 rows x 5 columns]"
            ]
          },
          "metadata": {
            "tags": []
          },
          "execution_count": 27
        }
      ]
    },
    {
      "cell_type": "code",
      "metadata": {
        "id": "Mvp1Mmmmkuuj",
        "colab_type": "code",
        "colab": {}
      },
      "source": [
        "\n",
        "#Compute the (log) returns from prices.\n",
        "#returns=np.log(data/data.shift(1)) #do not use\n",
        "returns=(data-data.shift(1))/data.shift(1)\n",
        "\n",
        "#Get the number of assets as a variable.\n",
        "no_assets=len(returns.columns.tolist())\n",
        "\n",
        "# Application: Minimize variance of a portfolio\n",
        "# subject to a target return: TargetRet\n",
        "\n",
        "# A portfolio-building function\n",
        "def portfolio(weights):\n",
        "    weights = np.array(weights)\n",
        "    P_ret = np.sum(returns.mean()*weights)*252\n",
        "    P_vol = np.sqrt(np.dot(weights.T, np.dot(returns.cov()*252, weights)))\n",
        "    return np.array([P_ret,P_vol, P_ret/P_vol])\n",
        "\n"
      ],
      "execution_count": null,
      "outputs": []
    },
    {
      "cell_type": "markdown",
      "metadata": {
        "id": "pAMLzP0Snssd",
        "colab_type": "text"
      },
      "source": [
        "#The required return is in `TargetRet`\n"
      ]
    },
    {
      "cell_type": "code",
      "metadata": {
        "id": "ZEHOxBwwnrJG",
        "colab_type": "code",
        "colab": {}
      },
      "source": [
        "TargetRet=[0.08]\n"
      ],
      "execution_count": null,
      "outputs": []
    },
    {
      "cell_type": "markdown",
      "metadata": {
        "id": "RlnDq2Lcnz5B",
        "colab_type": "text"
      },
      "source": [
        "# Constraints \n",
        "**Set up the constraint that the portfolio return is equal to the TargetRet and the portfolio weights add up to one.**"
      ]
    },
    {
      "cell_type": "code",
      "metadata": {
        "id": "wttn2Mqcny_l",
        "colab_type": "code",
        "colab": {}
      },
      "source": [
        "cons=({'type':'eq', 'fun':lambda x: portfolio(x)[0]-TargetRet},\n",
        "      {'type':'eq', 'fun':lambda x: np.sum(x)-1})\n"
      ],
      "execution_count": null,
      "outputs": []
    },
    {
      "cell_type": "markdown",
      "metadata": {
        "id": "-wNVdfZRn8cS",
        "colab_type": "text"
      },
      "source": [
        "**Set up boundaries for the portfolio weights (between 0 and 1) (=no short selling)**"
      ]
    },
    {
      "cell_type": "code",
      "metadata": {
        "id": "qOd6vMrQn6gq",
        "colab_type": "code",
        "colab": {}
      },
      "source": [
        "bnds=tuple((0,1) for x in range(no_assets))\n",
        "\n",
        "#Optimisation function.\n",
        "#scipy.optimize.minimize(fun, x0, args=(), method=None, jac=None, hess=None, hessp=None, bounds=None, constraints=(), tol=None, callback=None, options=None)\n",
        "#fun : callable\n",
        "#The objective function to be minimized.\n",
        "#in this case: potfolio(x)[1] = P_vol \n",
        "#x0 : ndarray, shape (n,)\n",
        "#Initial guess. Array of real elements of size (n,), where ‘n’ is the number of independent variables.\n",
        "#In this case: [0.2, 0.2, 0.2, 0.2, 0.2]\n",
        "#method : str or callable, optional\n",
        "#Type of solver\n",
        "#In this case: Sequential Least SQuares Programming (SLSQP)\n",
        "#bounds : sequence or Bounds, Sequence of (min, max) pairs for each element in x. \n",
        "#in this case: bnds\n",
        "#constraints : {Constraint, dict} \n",
        "#Equality constraint means that the constraint function result is to be zero whereas \n",
        "#inequality means that it is to be non-negative\n"
      ],
      "execution_count": null,
      "outputs": []
    },
    {
      "cell_type": "markdown",
      "metadata": {
        "id": "fMfQsMEfnHBK",
        "colab_type": "text"
      },
      "source": [
        "#Optimisation function - we minimize the variance "
      ]
    },
    {
      "cell_type": "code",
      "metadata": {
        "id": "ASyKaUXPk83O",
        "colab_type": "code",
        "colab": {}
      },
      "source": [
        "result=sco.minimize(lambda x: portfolio(x)[1], no_assets*[1.0/no_assets], \n",
        "                 method='SLSQP', bounds=bnds, constraints=cons)\n"
      ],
      "execution_count": null,
      "outputs": []
    },
    {
      "cell_type": "code",
      "metadata": {
        "id": "qwKQRYhroc8U",
        "colab_type": "code",
        "colab": {}
      },
      "source": [
        "answer = portfolio(result['x'])"
      ],
      "execution_count": null,
      "outputs": []
    },
    {
      "cell_type": "code",
      "metadata": {
        "id": "EY-SoxuqnFoB",
        "colab_type": "code",
        "colab": {
          "base_uri": "https://localhost:8080/",
          "height": 88
        },
        "outputId": "fcc6623b-a4ea-4470-f7b8-48de48877d68"
      },
      "source": [
        "   ##The weights of the minimum volatilty portfolio having the required return is:\n",
        "FinalWeights = result['x']\n",
        "print(\"Final Weights=\", FinalWeights) #final weights\n",
        "print(\"Portfolio's return : {} \\n Portfolio's volatility :{}, \\n Portfolio's Sharpe Ratio:{} \".format(answer[0], answer[1], answer[2])) # statistics  P_ret,P_vol, P_ret/P_vol\n",
        "\n"
      ],
      "execution_count": null,
      "outputs": [
        {
          "output_type": "stream",
          "text": [
            "Final Weights= [0.00899536 0.27650849 0.07623892 0.0041522  0.63410502]\n",
            "Portfolio's return : 0.07999999999356923 \n",
            " Portfolio's volatility :0.13886528013359659, \n",
            " Portfolio's Sharpe Ratio:0.5760979268295466 \n"
          ],
          "name": "stdout"
        }
      ]
    },
    {
      "cell_type": "markdown",
      "metadata": {
        "id": "cnQPaDUdpDKD",
        "colab_type": "text"
      },
      "source": [
        "# **2.Classic Markowitz - Fixed Required Return Minimized Variance Portfolio - Efficient Frontier**"
      ]
    },
    {
      "cell_type": "code",
      "metadata": {
        "id": "K_sd8406oXvB",
        "colab_type": "code",
        "colab": {
          "base_uri": "https://localhost:8080/",
          "height": 417
        },
        "outputId": "61386f61-3172-4487-86d2-386d81e13124"
      },
      "source": [
        "import numpy as np\n",
        "import pandas as pd\n",
        "import matplotlib.pyplot as plt\n",
        "import scipy.optimize as sco\n",
        "\n",
        "# load data\n",
        "data= pd.read_csv('L5_Data.csv', index_col =0)\n",
        "data"
      ],
      "execution_count": null,
      "outputs": [
        {
          "output_type": "execute_result",
          "data": {
            "text/html": [
              "<div>\n",
              "<style scoped>\n",
              "    .dataframe tbody tr th:only-of-type {\n",
              "        vertical-align: middle;\n",
              "    }\n",
              "\n",
              "    .dataframe tbody tr th {\n",
              "        vertical-align: top;\n",
              "    }\n",
              "\n",
              "    .dataframe thead th {\n",
              "        text-align: right;\n",
              "    }\n",
              "</style>\n",
              "<table border=\"1\" class=\"dataframe\">\n",
              "  <thead>\n",
              "    <tr style=\"text-align: right;\">\n",
              "      <th></th>\n",
              "      <th>AAPL</th>\n",
              "      <th>MSFT</th>\n",
              "      <th>YHOO</th>\n",
              "      <th>DB</th>\n",
              "      <th>GLD</th>\n",
              "    </tr>\n",
              "    <tr>\n",
              "      <th>Date</th>\n",
              "      <th></th>\n",
              "      <th></th>\n",
              "      <th></th>\n",
              "      <th></th>\n",
              "      <th></th>\n",
              "    </tr>\n",
              "  </thead>\n",
              "  <tbody>\n",
              "    <tr>\n",
              "      <th>2010-01-04</th>\n",
              "      <td>28.588685</td>\n",
              "      <td>26.593966</td>\n",
              "      <td>17.100000</td>\n",
              "      <td>61.392277</td>\n",
              "      <td>109.800003</td>\n",
              "    </tr>\n",
              "    <tr>\n",
              "      <th>2010-01-05</th>\n",
              "      <td>28.638111</td>\n",
              "      <td>26.602557</td>\n",
              "      <td>17.230000</td>\n",
              "      <td>62.565957</td>\n",
              "      <td>109.699997</td>\n",
              "    </tr>\n",
              "    <tr>\n",
              "      <th>2010-01-06</th>\n",
              "      <td>28.182584</td>\n",
              "      <td>26.439299</td>\n",
              "      <td>17.170000</td>\n",
              "      <td>61.484485</td>\n",
              "      <td>111.510002</td>\n",
              "    </tr>\n",
              "    <tr>\n",
              "      <th>2010-01-07</th>\n",
              "      <td>28.130486</td>\n",
              "      <td>26.164338</td>\n",
              "      <td>16.700001</td>\n",
              "      <td>62.180321</td>\n",
              "      <td>110.820000</td>\n",
              "    </tr>\n",
              "    <tr>\n",
              "      <th>2010-01-08</th>\n",
              "      <td>28.317506</td>\n",
              "      <td>26.344781</td>\n",
              "      <td>16.700001</td>\n",
              "      <td>64.427088</td>\n",
              "      <td>111.370003</td>\n",
              "    </tr>\n",
              "    <tr>\n",
              "      <th>...</th>\n",
              "      <td>...</td>\n",
              "      <td>...</td>\n",
              "      <td>...</td>\n",
              "      <td>...</td>\n",
              "      <td>...</td>\n",
              "    </tr>\n",
              "    <tr>\n",
              "      <th>2014-09-08</th>\n",
              "      <td>96.706827</td>\n",
              "      <td>45.257913</td>\n",
              "      <td>41.810001</td>\n",
              "      <td>34.039067</td>\n",
              "      <td>120.730003</td>\n",
              "    </tr>\n",
              "    <tr>\n",
              "      <th>2014-09-09</th>\n",
              "      <td>96.343043</td>\n",
              "      <td>45.540346</td>\n",
              "      <td>40.779999</td>\n",
              "      <td>33.834365</td>\n",
              "      <td>120.870003</td>\n",
              "    </tr>\n",
              "    <tr>\n",
              "      <th>2014-09-10</th>\n",
              "      <td>99.302455</td>\n",
              "      <td>45.618262</td>\n",
              "      <td>41.139999</td>\n",
              "      <td>34.399735</td>\n",
              "      <td>120.260002</td>\n",
              "    </tr>\n",
              "    <tr>\n",
              "      <th>2014-09-11</th>\n",
              "      <td>99.725228</td>\n",
              "      <td>45.774088</td>\n",
              "      <td>41.259998</td>\n",
              "      <td>34.360744</td>\n",
              "      <td>119.470001</td>\n",
              "    </tr>\n",
              "    <tr>\n",
              "      <th>2014-09-12</th>\n",
              "      <td>99.951366</td>\n",
              "      <td>45.481914</td>\n",
              "      <td>42.880001</td>\n",
              "      <td>34.146292</td>\n",
              "      <td>118.379997</td>\n",
              "    </tr>\n",
              "  </tbody>\n",
              "</table>\n",
              "<p>1182 rows × 5 columns</p>\n",
              "</div>"
            ],
            "text/plain": [
              "                 AAPL       MSFT       YHOO         DB         GLD\n",
              "Date                                                              \n",
              "2010-01-04  28.588685  26.593966  17.100000  61.392277  109.800003\n",
              "2010-01-05  28.638111  26.602557  17.230000  62.565957  109.699997\n",
              "2010-01-06  28.182584  26.439299  17.170000  61.484485  111.510002\n",
              "2010-01-07  28.130486  26.164338  16.700001  62.180321  110.820000\n",
              "2010-01-08  28.317506  26.344781  16.700001  64.427088  111.370003\n",
              "...               ...        ...        ...        ...         ...\n",
              "2014-09-08  96.706827  45.257913  41.810001  34.039067  120.730003\n",
              "2014-09-09  96.343043  45.540346  40.779999  33.834365  120.870003\n",
              "2014-09-10  99.302455  45.618262  41.139999  34.399735  120.260002\n",
              "2014-09-11  99.725228  45.774088  41.259998  34.360744  119.470001\n",
              "2014-09-12  99.951366  45.481914  42.880001  34.146292  118.379997\n",
              "\n",
              "[1182 rows x 5 columns]"
            ]
          },
          "metadata": {
            "tags": []
          },
          "execution_count": 53
        }
      ]
    },
    {
      "cell_type": "markdown",
      "metadata": {
        "id": "Mys7t3zIpjSe",
        "colab_type": "text"
      },
      "source": [
        "**Compute the (log) returns from prices**\n"
      ]
    },
    {
      "cell_type": "code",
      "metadata": {
        "id": "6Ux3sC1QpX36",
        "colab_type": "code",
        "colab": {}
      },
      "source": [
        "\n",
        "returns=(data-data.shift(1))/data.shift(1)\n"
      ],
      "execution_count": null,
      "outputs": []
    },
    {
      "cell_type": "markdown",
      "metadata": {
        "id": "i_U4Wv31poAK",
        "colab_type": "text"
      },
      "source": [
        "**Get the number of assets as a variable**\n"
      ]
    },
    {
      "cell_type": "code",
      "metadata": {
        "id": "PSzSVievpqrB",
        "colab_type": "code",
        "colab": {}
      },
      "source": [
        "\n",
        "no_assets=len(returns.columns.tolist())\n",
        "\n",
        "# Problem: Minimize variance of a portfolio\n",
        "# subject to a target return: TargetRet\n",
        "\n",
        "# A portfolio-building function\n",
        "def portfolio(weights):\n",
        "    weights = np.array(weights)\n",
        "    P_ret = np.sum(returns.mean()*weights)*252\n",
        "    P_vol = np.sqrt(np.dot(weights.T, np.dot(returns.cov()*252, weights)))\n",
        "    return np.array([P_ret,P_vol, P_ret/P_vol])\n"
      ],
      "execution_count": null,
      "outputs": []
    },
    {
      "cell_type": "markdown",
      "metadata": {
        "id": "ItHEGcfZpyDq",
        "colab_type": "text"
      },
      "source": [
        "**The required return is: `TargetRet=[0.08]`**"
      ]
    },
    {
      "cell_type": "code",
      "metadata": {
        "id": "0VMRnHUApwLz",
        "colab_type": "code",
        "colab": {}
      },
      "source": [
        "TargetRet=[0.08]\n"
      ],
      "execution_count": null,
      "outputs": []
    },
    {
      "cell_type": "markdown",
      "metadata": {
        "id": "ltBhztJDp5mC",
        "colab_type": "text"
      },
      "source": [
        "**Set up the constraint that the portfolio return is equal to the TargetRet and the portfolio weights add up to one**"
      ]
    },
    {
      "cell_type": "code",
      "metadata": {
        "id": "h3cc_34sp_yg",
        "colab_type": "code",
        "colab": {}
      },
      "source": [
        "cons=({'type':'eq', 'fun':lambda x: portfolio(x)[0]-TargetRet},\n",
        "      {'type':'eq', 'fun':lambda x: np.sum(x)-1})\n",
        "\n",
        "#Set up boundaries for the portfolio weights (between 0 and 1) (=no short selling)\n",
        "bnds=tuple((0,1) for x in range(no_assets))\n"
      ],
      "execution_count": null,
      "outputs": []
    },
    {
      "cell_type": "code",
      "metadata": {
        "id": "8u5BxrpbqDhZ",
        "colab_type": "code",
        "colab": {
          "base_uri": "https://localhost:8080/",
          "height": 70
        },
        "outputId": "528fe3ac-4ea0-4d98-e134-69cbe5218078"
      },
      "source": [
        "\n",
        "#Optimisation function.\n",
        "#scipy.optimize.minimize(fun, x0, args=(), method=None, jac=None, hess=None, hessp=None, bounds=None, constraints=(), tol=None, callback=None, options=None)\n",
        "#fun : callable\n",
        "#The objective function to be minimized.\n",
        "#in this case: potfolio(x)[1] = P_vol \n",
        "#x0 : ndarray, shape (n,)\n",
        "#Initial guess. Array of real elements of size (n,), where ‘n’ is the number of independent variables.\n",
        "#In this case: [0.2, 0.2, 0.2, 0.2, 0.2]\n",
        "#method : str or callable, optional\n",
        "#Type of solver\n",
        "#In this case: Sequential Least SQuares Programming (SLSQP)\n",
        "#bounds : sequence or Bounds, Sequence of (min, max) pairs for each element in x. \n",
        "#in this case: bnds\n",
        "#constraints : {Constraint, dict} \n",
        "#Equality constraint means that the constraint function result is to be zero whereas \n",
        "#inequality means that it is to be non-negative\n",
        "\n",
        "#Optimisation function.\n",
        "#we minimize the variance \n",
        "result=sco.minimize(lambda x: portfolio(x)[1], no_assets*[1.0/no_assets], \n",
        "                 method='SLSQP', bounds=bnds, constraints=cons)\n",
        "\n",
        "\n",
        "##The weights of the minimum volatilty portfolio having the required return is:\n",
        "FinalWeights = result['x']\n",
        "print(\"Final Weights=\", FinalWeights) #final weights\n",
        "print(\"P_ret,P_vol,P_ret/P_vol=\", portfolio(result['x'])) # statistics  P_ret,P_vol, P_ret/P_vol"
      ],
      "execution_count": null,
      "outputs": [
        {
          "output_type": "stream",
          "text": [
            "Final Weights= [5.63564030e-01 1.00753426e-01 2.56675574e-01 1.81620805e-17\n",
            " 7.90069707e-02]\n",
            "P_ret,P_vol,P_ret/P_vol= [0.25       0.20175483 1.23912769]\n"
          ],
          "name": "stdout"
        }
      ]
    },
    {
      "cell_type": "markdown",
      "metadata": {
        "id": "wW-a6QQmqLvd",
        "colab_type": "text"
      },
      "source": [
        "# Efficient frontier plot\n",
        "* Problem: Minimize variance of a portfolio subject to a target return:TargetRet\n",
        "* We solve this problem for many levels of the target return (in a loop)\n",
        "* Each time we do, we get another point in the efficient frontier\n",
        "* We need to specify the constraint in a loop, as the target return is always changing.\n"
      ]
    },
    {
      "cell_type": "code",
      "metadata": {
        "id": "MkL36Rg0qK7e",
        "colab_type": "code",
        "colab": {}
      },
      "source": [
        "\n",
        "#Define a range for target returns.\n",
        "TargetRet=np.linspace(0.0,0.25,50)\n",
        "\n",
        "#Define an (empty) vector for the corresponding minimum volatilities.\n",
        "MinVols=[]\n",
        "\n",
        "#Efficient Frontier Optimization Loop\n",
        "\n",
        "#In a loop of target returns, minimise standard deviation (volatility) under the\n",
        "#constraint that the portfolio return equals the target return.\n",
        "\n",
        "for tret in TargetRet:\n",
        "    #constraints:\n",
        "    #portfolio return (see P_ret above) should equal target return, sum of weights x equals 1\n",
        "    cons=({'type':'eq', 'fun':lambda x: portfolio(x)[0]-tret},\n",
        "          {'type':'eq', 'fun':lambda x: np.sum(x)-1})\n",
        "    #optimization function\n",
        "    #the objective function to be minimized is the portfolio function in particular,\n",
        "    #the vlatility output: P_vol above)\n",
        "    res=sco.minimize(lambda x: portfolio(x)[1], no_assets*[1.0/no_assets], \n",
        "                     method='SLSQP', bounds=bnds, constraints=cons)\n",
        "    MinVols.append(res['fun'])\n",
        "    print(res)\n",
        "\n",
        "MinVols=np.array(MinVols)\n",
        "\n",
        "#Efficient Frontier Optimization Results\n",
        "\n",
        "plt.clf()\n",
        "\n",
        "#Efficient Frontier Plot\n",
        "plt.figure(figsize=(9,6))\n",
        "plt.scatter(MinVols, TargetRet, marker='x')\n",
        "plt.grid()\n",
        "plt.xlabel('Volatility', fontsize=18)\n",
        "plt.ylabel('Expected return', fontsize=18)\n",
        "plt.savefig('F2.pdf', bbox='tight')\n",
        "\n"
      ],
      "execution_count": null,
      "outputs": []
    },
    {
      "cell_type": "markdown",
      "metadata": {
        "id": "OE_JvDiYrDcE",
        "colab_type": "text"
      },
      "source": [
        "**Showing the optimal weights of each of the five securities**"
      ]
    },
    {
      "cell_type": "code",
      "metadata": {
        "id": "vQ4LJsQoqt4-",
        "colab_type": "code",
        "colab": {
          "base_uri": "https://localhost:8080/",
          "height": 52
        },
        "outputId": "6bcf4b19-c7f4-49e3-e0f9-a8e17344638c"
      },
      "source": [
        "res['x']"
      ],
      "execution_count": null,
      "outputs": [
        {
          "output_type": "execute_result",
          "data": {
            "text/plain": [
              "array([5.63564030e-01, 1.00753426e-01, 2.56675574e-01, 1.81620805e-17,\n",
              "       7.90069707e-02])"
            ]
          },
          "metadata": {
            "tags": []
          },
          "execution_count": 54
        }
      ]
    },
    {
      "cell_type": "markdown",
      "metadata": {
        "id": "yem_DT7-sGIe",
        "colab_type": "text"
      },
      "source": [
        "# 3. Classic Markowitz - Minimum Variance Portfolio"
      ]
    },
    {
      "cell_type": "code",
      "metadata": {
        "id": "m8xQYF9zsJk6",
        "colab_type": "code",
        "colab": {
          "base_uri": "https://localhost:8080/",
          "height": 52
        },
        "outputId": "04af3e69-e0c0-4923-e740-b59be1669369"
      },
      "source": [
        "# -*- coding: utf-8 -*-\n",
        "\"\"\"\n",
        "Created on Fri May 10 16:08:38 2019\n",
        "\n",
        "Classic Markowitz for Minimum Variance Portfolio (no fixed return required)\n",
        "\n",
        "@author: Rosario\n",
        "\"\"\"\n",
        "\n",
        "import numpy as np\n",
        "import pandas as pd\n",
        "import scipy.optimize as sco\n",
        "\n",
        "# load data\n",
        "data= pd.read_csv('L5_Data.csv', index_col =0)\n",
        "\n",
        "#Compute the (log) returns from prices.\n",
        "#returns=np.log(data/data.shift(1)) #do not use\n",
        "returns=(data-data.shift(1))/data.shift(1)\n",
        "\n",
        "#Get the number of assets as a variable.\n",
        "no_assets=len(returns.columns.tolist())\n",
        "\n",
        "#Application: Minimum variance portfolio\n",
        "#Minimum variance portfolio \n",
        "\n",
        "# A portfolio-building function\n",
        "def portfolio(weights):\n",
        "    weights = np.array(weights)\n",
        "    P_ret = np.sum(returns.mean()*weights)*252\n",
        "    P_vol = np.sqrt(np.dot(weights.T, np.dot(returns.cov()*252, weights)))\n",
        "    return np.array([P_ret,P_vol, P_ret/P_vol])\n",
        "\n",
        "#Define a function for the portfolio variance.\n",
        "#Variance is the square of the volatility a.k.a. standard deviation\n",
        "def Variance(weights):\n",
        "\treturn portfolio(weights)[1]**2\n",
        "\n",
        "#Set up the constraint that portfolio weights add up to one.\n",
        "cons=({'type':'eq', 'fun':lambda x: np.sum(x)-1})\n",
        "#Set up boundaries for the portfolio weights (between 0 and 1) (=no short selling)\n",
        "bnds=tuple((0,1) for x in range(no_assets))\n",
        "\n",
        "#Optimisation function.\n",
        "#scipy.optimize.minimize(fun, x0, args=(), method=None, jac=None, hess=None, hessp=None, bounds=None, constraints=(), tol=None, callback=None, options=None)\n",
        "#fun : callable\n",
        "#The objective function to be minimized.\n",
        "#in this case: Variance \n",
        "#x0 : ndarray, shape (n,)\n",
        "#Initial guess. Array of real elements of size (n,), where ‘n’ is the number of independent variables.\n",
        "#In this case: [0.2, 0.2, 0.2, 0.2, 0.2]\n",
        "#method : str or callable, optional\n",
        "#Type of solver\n",
        "#In this case: Sequential Least SQuares Programming (SLSQP)\n",
        "#bounds : sequence or Bounds, Sequence of (min, max) pairs for each element in x. \n",
        "#in this case: bnds\n",
        "#constraints : {Constraint, dict} \n",
        "#Equality constraint means that the constraint function result is to be zero whereas \n",
        "#inequality means that it is to be non-negative\n",
        "\n",
        "#Optimisation function.\n",
        "#we minimize the variance\n",
        "result = sco.minimize(Variance, no_assets*[1.0/no_assets], method='SLSQP', bounds=bnds, constraints=cons)\n",
        "\n",
        "#Print optimized minimum Variance portfolio weights.\n",
        "print(\"weights= \", result['x'].round(3)) # weights\n",
        "#Minimum variance portfolio properties.\n",
        "print(\"P_ret,P_vol,P_ret/P_vol=\", portfolio(result['x'])) # statistics  P_ret,P_vol, P_ret/P_vol\n"
      ],
      "execution_count": null,
      "outputs": [
        {
          "output_type": "stream",
          "text": [
            "weights=  [0.107 0.248 0.109 0.    0.536]\n",
            "P_ret,P_vol,P_ret/P_vol= [0.11071119 0.1348326  0.82110102]\n"
          ],
          "name": "stdout"
        }
      ]
    },
    {
      "cell_type": "markdown",
      "metadata": {
        "id": "DfnWtrtKrUHU",
        "colab_type": "text"
      },
      "source": [
        "# 4. Classic Markowitz - Maximum Sharpe Portfolio or Market Portfolio "
      ]
    },
    {
      "cell_type": "code",
      "metadata": {
        "id": "_56D88e5rS2x",
        "colab_type": "code",
        "colab": {
          "base_uri": "https://localhost:8080/",
          "height": 52
        },
        "outputId": "3f57e019-ac9e-420b-b4bc-8ed898f5ff5f"
      },
      "source": [
        "\n",
        "import numpy as np\n",
        "import pandas as pd\n",
        "import scipy.optimize as sco\n",
        "\n",
        "# load data\n",
        "data= pd.read_csv('L5_Data.csv', index_col =0)\n",
        "\n",
        "#Compute the (log) returns from prices.\n",
        "#returns=np.log(data/data.shift(1)) #do not use\n",
        "returns=(data-data.shift(1))/data.shift(1)\n",
        "\n",
        "#Get the number of assets as a variable.\n",
        "no_assets=len(returns.columns.tolist())\n",
        "\n",
        "#Application: Minimum variance portfolio\n",
        "#Minimum variance portfolio \n",
        "\n",
        "\n",
        "#Let the risk-free rate, r_f = 1%.\n",
        "r_f = .01\n",
        "\n",
        "# A portfolio-building function\n",
        "def portfolio_CAPM(weights, r_f):\n",
        "    weights = np.array(weights)\n",
        "    P_ret = np.sum(returns.mean()*weights)*252\n",
        "    P_vol = np.sqrt(np.dot(weights.T, np.dot(returns.cov()*252, weights)))\n",
        "    return np.array([P_ret,P_vol, (P_ret-r_f)/P_vol]) #modified to include risk-free rate\n",
        "\n",
        "def Sharpe_CAPM(weights):\n",
        "    return -portfolio_CAPM(weights, r_f)[2]\n",
        "\n",
        "#Set up the constraint that portfolio weights add up to one.\n",
        "cons=({'type':'eq', 'fun':lambda x: np.sum(x)-1})\n",
        "#Set up boundaries for the portfolio weights (between 0 and 1) (=no short selling)\n",
        "bnds=tuple((0,1) for x in range(no_assets))\n",
        "\n",
        "#Optimisation function.\n",
        "#scipy.optimize.minimize(fun, x0, args=(), method=None, jac=None, hess=None, hessp=None, bounds=None, constraints=(), tol=None, callback=None, options=None)\n",
        "#fun : callable\n",
        "#The objective function to be minimized.\n",
        "#in this case: Sharpe\n",
        "#x0 : ndarray, shape (n,)\n",
        "#Initial guess. Array of real elements of size (n,), where ‘n’ is the number of independent variables.\n",
        "#In this case: [0.2, 0.2, 0.2, 0.2, 0.2]\n",
        "#method : str or callable, optional\n",
        "#Type of solver\n",
        "#In this case: Sequential Least SQuares Programming (SLSQP)\n",
        "#bounds : sequence or Bounds, Sequence of (min, max) pairs for each element in x. \n",
        "#in this case: bnds\n",
        "#constraints : {Constraint, dict} \n",
        "#Equality constraint means that the constraint function result is to be zero whereas \n",
        "#inequality means that it is to be non-negative\n",
        "\n",
        "#Optimisation function.\n",
        "#we minimize the variance\n",
        "result = sco.minimize(Sharpe_CAPM, no_assets*[1.0/no_assets], method='SLSQP', bounds=bnds, constraints=cons)\n",
        "\n",
        "#Print optimized minimum Variance portfolio weights.\n",
        "print(\"weights= \",result['x'].round(3)) # weights\n",
        "#Minimum variance portfolio properties.\n",
        "print(\"P_ret,P_vol,P_ret/P_vol= \", portfolio_CAPM(result['x'], r_f)) # statistics  P_ret,P_vol, P_ret/P_vol\n"
      ],
      "execution_count": null,
      "outputs": [
        {
          "output_type": "stream",
          "text": [
            "weights=  [0.615 0.083 0.274 0.    0.028]\n",
            "P_ret,P_vol,P_ret/P_vol=  [0.26574934 0.21469091 1.19124438]\n"
          ],
          "name": "stdout"
        }
      ]
    },
    {
      "cell_type": "code",
      "metadata": {
        "id": "zoQFuMbRrsdF",
        "colab_type": "code",
        "colab": {}
      },
      "source": [
        ""
      ],
      "execution_count": null,
      "outputs": []
    }
  ]
}