{
  "nbformat": 4,
  "nbformat_minor": 0,
  "metadata": {
    "colab": {
      "name": "Markowitz Portfolio Optimization.ipynb",
      "provenance": [],
      "toc_visible": true,
      "authorship_tag": "ABX9TyPNLqVpQN7rW0xqTWHbNWw0",
      "include_colab_link": true
    },
    "kernelspec": {
      "name": "python3",
      "display_name": "Python 3"
    }
  },
  "cells": [
    {
      "cell_type": "markdown",
      "metadata": {
        "id": "view-in-github",
        "colab_type": "text"
      },
      "source": [
        "<a href=\"https://colab.research.google.com/github/armandordorica/Portfolio_Optimization/blob/master/Markowitz_Portfolio_Optimization.ipynb\" target=\"_parent\"><img src=\"https://colab.research.google.com/assets/colab-badge.svg\" alt=\"Open In Colab\"/></a>"
      ]
    },
    {
      "cell_type": "code",
      "metadata": {
        "id": "AC03JOS7kwZc",
        "colab_type": "code",
        "colab": {
          "base_uri": "https://localhost:8080/",
          "height": 34
        },
        "outputId": "9a029e53-590a-4d65-cf92-8c9a68b8e8eb"
      },
      "source": [
        "ls"
      ],
      "execution_count": 2,
      "outputs": [
        {
          "output_type": "stream",
          "text": [
            "\u001b[0m\u001b[01;34msample_data\u001b[0m/\n"
          ],
          "name": "stdout"
        }
      ]
    },
    {
      "cell_type": "markdown",
      "metadata": {
        "id": "ZCPIUcdUo5yC",
        "colab_type": "text"
      },
      "source": [
        "# **1. Classic Markowitz - Fixed Required Return Minimized Variance Portfolio**"
      ]
    },
    {
      "cell_type": "code",
      "metadata": {
        "id": "kslaGjydkZUF",
        "colab_type": "code",
        "colab": {}
      },
      "source": [
        "# -*- coding: utf-8 -*-\n",
        "\"\"\"\n",
        "Created on Fri May 10 16:08:38 2019\n",
        "\n",
        "@author: Rosario\n",
        "Classic Markowitz for Fixed Required Return w Minimizing Variance Portfolio\n",
        "\"\"\"\n",
        "\n",
        "import numpy as np\n",
        "import pandas as pd\n",
        "import scipy.optimize as sco\n",
        "\n",
        "# load data\n",
        "data= pd.read_csv('L5_Data.csv', index_col =0)\n"
      ],
      "execution_count": 3,
      "outputs": []
    },
    {
      "cell_type": "code",
      "metadata": {
        "id": "DeTaunBqk2BD",
        "colab_type": "code",
        "colab": {
          "base_uri": "https://localhost:8080/",
          "height": 417
        },
        "outputId": "26dfb8a9-afe6-46ba-ed82-0104ff2bf454"
      },
      "source": [
        "data"
      ],
      "execution_count": 4,
      "outputs": [
        {
          "output_type": "execute_result",
          "data": {
            "text/html": [
              "<div>\n",
              "<style scoped>\n",
              "    .dataframe tbody tr th:only-of-type {\n",
              "        vertical-align: middle;\n",
              "    }\n",
              "\n",
              "    .dataframe tbody tr th {\n",
              "        vertical-align: top;\n",
              "    }\n",
              "\n",
              "    .dataframe thead th {\n",
              "        text-align: right;\n",
              "    }\n",
              "</style>\n",
              "<table border=\"1\" class=\"dataframe\">\n",
              "  <thead>\n",
              "    <tr style=\"text-align: right;\">\n",
              "      <th></th>\n",
              "      <th>AAPL</th>\n",
              "      <th>MSFT</th>\n",
              "      <th>YHOO</th>\n",
              "      <th>DB</th>\n",
              "      <th>GLD</th>\n",
              "    </tr>\n",
              "    <tr>\n",
              "      <th>Date</th>\n",
              "      <th></th>\n",
              "      <th></th>\n",
              "      <th></th>\n",
              "      <th></th>\n",
              "      <th></th>\n",
              "    </tr>\n",
              "  </thead>\n",
              "  <tbody>\n",
              "    <tr>\n",
              "      <th>2010-01-04</th>\n",
              "      <td>28.588685</td>\n",
              "      <td>26.593966</td>\n",
              "      <td>17.100000</td>\n",
              "      <td>61.392277</td>\n",
              "      <td>109.800003</td>\n",
              "    </tr>\n",
              "    <tr>\n",
              "      <th>2010-01-05</th>\n",
              "      <td>28.638111</td>\n",
              "      <td>26.602557</td>\n",
              "      <td>17.230000</td>\n",
              "      <td>62.565957</td>\n",
              "      <td>109.699997</td>\n",
              "    </tr>\n",
              "    <tr>\n",
              "      <th>2010-01-06</th>\n",
              "      <td>28.182584</td>\n",
              "      <td>26.439299</td>\n",
              "      <td>17.170000</td>\n",
              "      <td>61.484485</td>\n",
              "      <td>111.510002</td>\n",
              "    </tr>\n",
              "    <tr>\n",
              "      <th>2010-01-07</th>\n",
              "      <td>28.130486</td>\n",
              "      <td>26.164338</td>\n",
              "      <td>16.700001</td>\n",
              "      <td>62.180321</td>\n",
              "      <td>110.820000</td>\n",
              "    </tr>\n",
              "    <tr>\n",
              "      <th>2010-01-08</th>\n",
              "      <td>28.317506</td>\n",
              "      <td>26.344781</td>\n",
              "      <td>16.700001</td>\n",
              "      <td>64.427088</td>\n",
              "      <td>111.370003</td>\n",
              "    </tr>\n",
              "    <tr>\n",
              "      <th>...</th>\n",
              "      <td>...</td>\n",
              "      <td>...</td>\n",
              "      <td>...</td>\n",
              "      <td>...</td>\n",
              "      <td>...</td>\n",
              "    </tr>\n",
              "    <tr>\n",
              "      <th>2014-09-08</th>\n",
              "      <td>96.706827</td>\n",
              "      <td>45.257913</td>\n",
              "      <td>41.810001</td>\n",
              "      <td>34.039067</td>\n",
              "      <td>120.730003</td>\n",
              "    </tr>\n",
              "    <tr>\n",
              "      <th>2014-09-09</th>\n",
              "      <td>96.343043</td>\n",
              "      <td>45.540346</td>\n",
              "      <td>40.779999</td>\n",
              "      <td>33.834365</td>\n",
              "      <td>120.870003</td>\n",
              "    </tr>\n",
              "    <tr>\n",
              "      <th>2014-09-10</th>\n",
              "      <td>99.302455</td>\n",
              "      <td>45.618262</td>\n",
              "      <td>41.139999</td>\n",
              "      <td>34.399735</td>\n",
              "      <td>120.260002</td>\n",
              "    </tr>\n",
              "    <tr>\n",
              "      <th>2014-09-11</th>\n",
              "      <td>99.725228</td>\n",
              "      <td>45.774088</td>\n",
              "      <td>41.259998</td>\n",
              "      <td>34.360744</td>\n",
              "      <td>119.470001</td>\n",
              "    </tr>\n",
              "    <tr>\n",
              "      <th>2014-09-12</th>\n",
              "      <td>99.951366</td>\n",
              "      <td>45.481914</td>\n",
              "      <td>42.880001</td>\n",
              "      <td>34.146292</td>\n",
              "      <td>118.379997</td>\n",
              "    </tr>\n",
              "  </tbody>\n",
              "</table>\n",
              "<p>1182 rows × 5 columns</p>\n",
              "</div>"
            ],
            "text/plain": [
              "                 AAPL       MSFT       YHOO         DB         GLD\n",
              "Date                                                              \n",
              "2010-01-04  28.588685  26.593966  17.100000  61.392277  109.800003\n",
              "2010-01-05  28.638111  26.602557  17.230000  62.565957  109.699997\n",
              "2010-01-06  28.182584  26.439299  17.170000  61.484485  111.510002\n",
              "2010-01-07  28.130486  26.164338  16.700001  62.180321  110.820000\n",
              "2010-01-08  28.317506  26.344781  16.700001  64.427088  111.370003\n",
              "...               ...        ...        ...        ...         ...\n",
              "2014-09-08  96.706827  45.257913  41.810001  34.039067  120.730003\n",
              "2014-09-09  96.343043  45.540346  40.779999  33.834365  120.870003\n",
              "2014-09-10  99.302455  45.618262  41.139999  34.399735  120.260002\n",
              "2014-09-11  99.725228  45.774088  41.259998  34.360744  119.470001\n",
              "2014-09-12  99.951366  45.481914  42.880001  34.146292  118.379997\n",
              "\n",
              "[1182 rows x 5 columns]"
            ]
          },
          "metadata": {
            "tags": []
          },
          "execution_count": 4
        }
      ]
    },
    {
      "cell_type": "code",
      "metadata": {
        "id": "Mvp1Mmmmkuuj",
        "colab_type": "code",
        "colab": {}
      },
      "source": [
        "\n",
        "#Compute the (log) returns from prices.\n",
        "#returns=np.log(data/data.shift(1)) #do not use\n",
        "returns=(data-data.shift(1))/data.shift(1)\n",
        "\n",
        "#Get the number of assets as a variable.\n",
        "no_assets=len(returns.columns.tolist())\n",
        "\n",
        "# Application: Minimize variance of a portfolio\n",
        "# subject to a target return: TargetRet\n",
        "\n",
        "# A portfolio-building function\n",
        "def portfolio(weights):\n",
        "    weights = np.array(weights)\n",
        "    P_ret = np.sum(returns.mean()*weights)*252\n",
        "    P_vol = np.sqrt(np.dot(weights.T, np.dot(returns.cov()*252, weights)))\n",
        "    return np.array([P_ret,P_vol, P_ret/P_vol])\n",
        "\n"
      ],
      "execution_count": 5,
      "outputs": []
    },
    {
      "cell_type": "markdown",
      "metadata": {
        "id": "pAMLzP0Snssd",
        "colab_type": "text"
      },
      "source": [
        "#The required return is in `TargetRet`\n"
      ]
    },
    {
      "cell_type": "code",
      "metadata": {
        "id": "ZEHOxBwwnrJG",
        "colab_type": "code",
        "colab": {}
      },
      "source": [
        "TargetRet=[0.08]\n"
      ],
      "execution_count": 6,
      "outputs": []
    },
    {
      "cell_type": "markdown",
      "metadata": {
        "id": "RlnDq2Lcnz5B",
        "colab_type": "text"
      },
      "source": [
        "# Constraints \n",
        "**Set up the constraint that the portfolio return is equal to the TargetRet and the portfolio weights add up to one.**"
      ]
    },
    {
      "cell_type": "code",
      "metadata": {
        "id": "wttn2Mqcny_l",
        "colab_type": "code",
        "colab": {}
      },
      "source": [
        "cons=({'type':'eq', 'fun':lambda x: portfolio(x)[0]-TargetRet},\n",
        "      {'type':'eq', 'fun':lambda x: np.sum(x)-1})\n"
      ],
      "execution_count": 7,
      "outputs": []
    },
    {
      "cell_type": "markdown",
      "metadata": {
        "id": "-wNVdfZRn8cS",
        "colab_type": "text"
      },
      "source": [
        "**Set up boundaries for the portfolio weights (between 0 and 1) (=no short selling)**"
      ]
    },
    {
      "cell_type": "code",
      "metadata": {
        "id": "qOd6vMrQn6gq",
        "colab_type": "code",
        "colab": {}
      },
      "source": [
        "bnds=tuple((0,1) for x in range(no_assets))\n",
        "\n",
        "#Optimisation function.\n",
        "#scipy.optimize.minimize(fun, x0, args=(), method=None, jac=None, hess=None, hessp=None, bounds=None, constraints=(), tol=None, callback=None, options=None)\n",
        "#fun : callable\n",
        "#The objective function to be minimized.\n",
        "#in this case: potfolio(x)[1] = P_vol \n",
        "#x0 : ndarray, shape (n,)\n",
        "#Initial guess. Array of real elements of size (n,), where ‘n’ is the number of independent variables.\n",
        "#In this case: [0.2, 0.2, 0.2, 0.2, 0.2]\n",
        "#method : str or callable, optional\n",
        "#Type of solver\n",
        "#In this case: Sequential Least SQuares Programming (SLSQP)\n",
        "#bounds : sequence or Bounds, Sequence of (min, max) pairs for each element in x. \n",
        "#in this case: bnds\n",
        "#constraints : {Constraint, dict} \n",
        "#Equality constraint means that the constraint function result is to be zero whereas \n",
        "#inequality means that it is to be non-negative\n"
      ],
      "execution_count": 8,
      "outputs": []
    },
    {
      "cell_type": "markdown",
      "metadata": {
        "id": "fMfQsMEfnHBK",
        "colab_type": "text"
      },
      "source": [
        "#Optimisation function - we minimize the variance "
      ]
    },
    {
      "cell_type": "code",
      "metadata": {
        "id": "ASyKaUXPk83O",
        "colab_type": "code",
        "colab": {}
      },
      "source": [
        "result=sco.minimize(lambda x: portfolio(x)[1], no_assets*[1.0/no_assets], \n",
        "                 method='SLSQP', bounds=bnds, constraints=cons)\n"
      ],
      "execution_count": 9,
      "outputs": []
    },
    {
      "cell_type": "code",
      "metadata": {
        "id": "qwKQRYhroc8U",
        "colab_type": "code",
        "colab": {}
      },
      "source": [
        "answer = portfolio(result['x'])"
      ],
      "execution_count": 10,
      "outputs": []
    },
    {
      "cell_type": "code",
      "metadata": {
        "id": "EY-SoxuqnFoB",
        "colab_type": "code",
        "colab": {
          "base_uri": "https://localhost:8080/",
          "height": 88
        },
        "outputId": "b7cf230a-5c0c-4a47-cf0e-aa3ccb9e739f"
      },
      "source": [
        "   ##The weights of the minimum volatilty portfolio having the required return is:\n",
        "FinalWeights = result['x']\n",
        "print(\"Final Weights=\", FinalWeights) #final weights\n",
        "print(\"Portfolio's return : {} \\n Portfolio's volatility :{}, \\n Portfolio's Sharpe Ratio:{} \".format(answer[0], answer[1], answer[2])) # statistics  P_ret,P_vol, P_ret/P_vol\n",
        "\n"
      ],
      "execution_count": 11,
      "outputs": [
        {
          "output_type": "stream",
          "text": [
            "Final Weights= [0.00899536 0.27650849 0.07623892 0.0041522  0.63410502]\n",
            "Portfolio's return : 0.07999999999356923 \n",
            " Portfolio's volatility :0.13886528013359659, \n",
            " Portfolio's Sharpe Ratio:0.5760979268295466 \n"
          ],
          "name": "stdout"
        }
      ]
    },
    {
      "cell_type": "code",
      "metadata": {
        "id": "ErMDUQ2IlCK3",
        "colab_type": "code",
        "colab": {
          "base_uri": "https://localhost:8080/",
          "height": 34
        },
        "outputId": "4ef45491-7c75-4938-82ab-68c92159b85f"
      },
      "source": [
        "sum(FinalWeights)\n",
        "w1 = FinalWeights\n",
        "w1"
      ],
      "execution_count": 12,
      "outputs": [
        {
          "output_type": "execute_result",
          "data": {
            "text/plain": [
              "array([0.00899536, 0.27650849, 0.07623892, 0.0041522 , 0.63410502])"
            ]
          },
          "metadata": {
            "tags": []
          },
          "execution_count": 12
        }
      ]
    },
    {
      "cell_type": "markdown",
      "metadata": {
        "id": "cnQPaDUdpDKD",
        "colab_type": "text"
      },
      "source": [
        "# **2.Classic Markowitz - Fixed Required Return Minimized Variance Portfolio - Efficient Frontier**"
      ]
    },
    {
      "cell_type": "code",
      "metadata": {
        "id": "K_sd8406oXvB",
        "colab_type": "code",
        "colab": {
          "base_uri": "https://localhost:8080/",
          "height": 417
        },
        "outputId": "bddad150-996f-4c6a-eaba-cddb79b06068"
      },
      "source": [
        "import numpy as np\n",
        "import pandas as pd\n",
        "import matplotlib.pyplot as plt\n",
        "import scipy.optimize as sco\n",
        "\n",
        "# load data\n",
        "data= pd.read_csv('L5_Data.csv', index_col =0)\n",
        "data"
      ],
      "execution_count": 13,
      "outputs": [
        {
          "output_type": "execute_result",
          "data": {
            "text/html": [
              "<div>\n",
              "<style scoped>\n",
              "    .dataframe tbody tr th:only-of-type {\n",
              "        vertical-align: middle;\n",
              "    }\n",
              "\n",
              "    .dataframe tbody tr th {\n",
              "        vertical-align: top;\n",
              "    }\n",
              "\n",
              "    .dataframe thead th {\n",
              "        text-align: right;\n",
              "    }\n",
              "</style>\n",
              "<table border=\"1\" class=\"dataframe\">\n",
              "  <thead>\n",
              "    <tr style=\"text-align: right;\">\n",
              "      <th></th>\n",
              "      <th>AAPL</th>\n",
              "      <th>MSFT</th>\n",
              "      <th>YHOO</th>\n",
              "      <th>DB</th>\n",
              "      <th>GLD</th>\n",
              "    </tr>\n",
              "    <tr>\n",
              "      <th>Date</th>\n",
              "      <th></th>\n",
              "      <th></th>\n",
              "      <th></th>\n",
              "      <th></th>\n",
              "      <th></th>\n",
              "    </tr>\n",
              "  </thead>\n",
              "  <tbody>\n",
              "    <tr>\n",
              "      <th>2010-01-04</th>\n",
              "      <td>28.588685</td>\n",
              "      <td>26.593966</td>\n",
              "      <td>17.100000</td>\n",
              "      <td>61.392277</td>\n",
              "      <td>109.800003</td>\n",
              "    </tr>\n",
              "    <tr>\n",
              "      <th>2010-01-05</th>\n",
              "      <td>28.638111</td>\n",
              "      <td>26.602557</td>\n",
              "      <td>17.230000</td>\n",
              "      <td>62.565957</td>\n",
              "      <td>109.699997</td>\n",
              "    </tr>\n",
              "    <tr>\n",
              "      <th>2010-01-06</th>\n",
              "      <td>28.182584</td>\n",
              "      <td>26.439299</td>\n",
              "      <td>17.170000</td>\n",
              "      <td>61.484485</td>\n",
              "      <td>111.510002</td>\n",
              "    </tr>\n",
              "    <tr>\n",
              "      <th>2010-01-07</th>\n",
              "      <td>28.130486</td>\n",
              "      <td>26.164338</td>\n",
              "      <td>16.700001</td>\n",
              "      <td>62.180321</td>\n",
              "      <td>110.820000</td>\n",
              "    </tr>\n",
              "    <tr>\n",
              "      <th>2010-01-08</th>\n",
              "      <td>28.317506</td>\n",
              "      <td>26.344781</td>\n",
              "      <td>16.700001</td>\n",
              "      <td>64.427088</td>\n",
              "      <td>111.370003</td>\n",
              "    </tr>\n",
              "    <tr>\n",
              "      <th>...</th>\n",
              "      <td>...</td>\n",
              "      <td>...</td>\n",
              "      <td>...</td>\n",
              "      <td>...</td>\n",
              "      <td>...</td>\n",
              "    </tr>\n",
              "    <tr>\n",
              "      <th>2014-09-08</th>\n",
              "      <td>96.706827</td>\n",
              "      <td>45.257913</td>\n",
              "      <td>41.810001</td>\n",
              "      <td>34.039067</td>\n",
              "      <td>120.730003</td>\n",
              "    </tr>\n",
              "    <tr>\n",
              "      <th>2014-09-09</th>\n",
              "      <td>96.343043</td>\n",
              "      <td>45.540346</td>\n",
              "      <td>40.779999</td>\n",
              "      <td>33.834365</td>\n",
              "      <td>120.870003</td>\n",
              "    </tr>\n",
              "    <tr>\n",
              "      <th>2014-09-10</th>\n",
              "      <td>99.302455</td>\n",
              "      <td>45.618262</td>\n",
              "      <td>41.139999</td>\n",
              "      <td>34.399735</td>\n",
              "      <td>120.260002</td>\n",
              "    </tr>\n",
              "    <tr>\n",
              "      <th>2014-09-11</th>\n",
              "      <td>99.725228</td>\n",
              "      <td>45.774088</td>\n",
              "      <td>41.259998</td>\n",
              "      <td>34.360744</td>\n",
              "      <td>119.470001</td>\n",
              "    </tr>\n",
              "    <tr>\n",
              "      <th>2014-09-12</th>\n",
              "      <td>99.951366</td>\n",
              "      <td>45.481914</td>\n",
              "      <td>42.880001</td>\n",
              "      <td>34.146292</td>\n",
              "      <td>118.379997</td>\n",
              "    </tr>\n",
              "  </tbody>\n",
              "</table>\n",
              "<p>1182 rows × 5 columns</p>\n",
              "</div>"
            ],
            "text/plain": [
              "                 AAPL       MSFT       YHOO         DB         GLD\n",
              "Date                                                              \n",
              "2010-01-04  28.588685  26.593966  17.100000  61.392277  109.800003\n",
              "2010-01-05  28.638111  26.602557  17.230000  62.565957  109.699997\n",
              "2010-01-06  28.182584  26.439299  17.170000  61.484485  111.510002\n",
              "2010-01-07  28.130486  26.164338  16.700001  62.180321  110.820000\n",
              "2010-01-08  28.317506  26.344781  16.700001  64.427088  111.370003\n",
              "...               ...        ...        ...        ...         ...\n",
              "2014-09-08  96.706827  45.257913  41.810001  34.039067  120.730003\n",
              "2014-09-09  96.343043  45.540346  40.779999  33.834365  120.870003\n",
              "2014-09-10  99.302455  45.618262  41.139999  34.399735  120.260002\n",
              "2014-09-11  99.725228  45.774088  41.259998  34.360744  119.470001\n",
              "2014-09-12  99.951366  45.481914  42.880001  34.146292  118.379997\n",
              "\n",
              "[1182 rows x 5 columns]"
            ]
          },
          "metadata": {
            "tags": []
          },
          "execution_count": 13
        }
      ]
    },
    {
      "cell_type": "markdown",
      "metadata": {
        "id": "Mys7t3zIpjSe",
        "colab_type": "text"
      },
      "source": [
        "**Compute the (log) returns from prices**\n"
      ]
    },
    {
      "cell_type": "code",
      "metadata": {
        "id": "6Ux3sC1QpX36",
        "colab_type": "code",
        "colab": {}
      },
      "source": [
        "\n",
        "returns=(data-data.shift(1))/data.shift(1)\n"
      ],
      "execution_count": 14,
      "outputs": []
    },
    {
      "cell_type": "markdown",
      "metadata": {
        "id": "i_U4Wv31poAK",
        "colab_type": "text"
      },
      "source": [
        "**Get the number of assets as a variable**\n"
      ]
    },
    {
      "cell_type": "code",
      "metadata": {
        "id": "PSzSVievpqrB",
        "colab_type": "code",
        "colab": {}
      },
      "source": [
        "\n",
        "no_assets=len(returns.columns.tolist())\n",
        "\n",
        "# Problem: Minimize variance of a portfolio\n",
        "# subject to a target return: TargetRet\n",
        "\n",
        "# A portfolio-building function\n",
        "def portfolio(weights):\n",
        "    weights = np.array(weights)\n",
        "    P_ret = np.sum(returns.mean()*weights)*252\n",
        "    P_vol = np.sqrt(np.dot(weights.T, np.dot(returns.cov()*252, weights)))\n",
        "    return np.array([P_ret,P_vol, P_ret/P_vol])\n"
      ],
      "execution_count": 15,
      "outputs": []
    },
    {
      "cell_type": "markdown",
      "metadata": {
        "id": "ItHEGcfZpyDq",
        "colab_type": "text"
      },
      "source": [
        "**The required return is: `TargetRet=[0.08]`**"
      ]
    },
    {
      "cell_type": "code",
      "metadata": {
        "id": "0VMRnHUApwLz",
        "colab_type": "code",
        "colab": {}
      },
      "source": [
        "TargetRet=[0.08]\n"
      ],
      "execution_count": 16,
      "outputs": []
    },
    {
      "cell_type": "markdown",
      "metadata": {
        "id": "ltBhztJDp5mC",
        "colab_type": "text"
      },
      "source": [
        "**Set up the constraint that the portfolio return is equal to the TargetRet and the portfolio weights add up to one**"
      ]
    },
    {
      "cell_type": "code",
      "metadata": {
        "id": "h3cc_34sp_yg",
        "colab_type": "code",
        "colab": {}
      },
      "source": [
        "cons=({'type':'eq', 'fun':lambda x: portfolio(x)[0]-TargetRet},\n",
        "      {'type':'eq', 'fun':lambda x: np.sum(x)-1})\n",
        "\n",
        "#Set up boundaries for the portfolio weights (between 0 and 1) (=no short selling)\n",
        "bnds=tuple((0,1) for x in range(no_assets))\n"
      ],
      "execution_count": 17,
      "outputs": []
    },
    {
      "cell_type": "code",
      "metadata": {
        "id": "8u5BxrpbqDhZ",
        "colab_type": "code",
        "colab": {
          "base_uri": "https://localhost:8080/",
          "height": 52
        },
        "outputId": "222a3437-60d4-48f7-f4c0-b04e1cbafa29"
      },
      "source": [
        "\n",
        "#Optimisation function.\n",
        "#scipy.optimize.minimize(fun, x0, args=(), method=None, jac=None, hess=None, hessp=None, bounds=None, constraints=(), tol=None, callback=None, options=None)\n",
        "#fun : callable\n",
        "#The objective function to be minimized.\n",
        "#in this case: potfolio(x)[1] = P_vol \n",
        "#x0 : ndarray, shape (n,)\n",
        "#Initial guess. Array of real elements of size (n,), where ‘n’ is the number of independent variables.\n",
        "#In this case: [0.2, 0.2, 0.2, 0.2, 0.2]\n",
        "#method : str or callable, optional\n",
        "#Type of solver\n",
        "#In this case: Sequential Least SQuares Programming (SLSQP)\n",
        "#bounds : sequence or Bounds, Sequence of (min, max) pairs for each element in x. \n",
        "#in this case: bnds\n",
        "#constraints : {Constraint, dict} \n",
        "#Equality constraint means that the constraint function result is to be zero whereas \n",
        "#inequality means that it is to be non-negative\n",
        "\n",
        "#Optimisation function.\n",
        "#we minimize the variance \n",
        "result=sco.minimize(lambda x: portfolio(x)[1], no_assets*[1.0/no_assets], \n",
        "                 method='SLSQP', bounds=bnds, constraints=cons)\n",
        "\n",
        "\n",
        "##The weights of the minimum volatilty portfolio having the required return is:\n",
        "FinalWeights = result['x']\n",
        "print(\"Final Weights=\", FinalWeights) #final weights\n",
        "print(\"P_ret,P_vol,P_ret/P_vol=\", portfolio(result['x'])) # statistics  P_ret,P_vol, P_ret/P_vol"
      ],
      "execution_count": 18,
      "outputs": [
        {
          "output_type": "stream",
          "text": [
            "Final Weights= [0.00899536 0.27650849 0.07623892 0.0041522  0.63410502]\n",
            "P_ret,P_vol,P_ret/P_vol= [0.08       0.13886528 0.57609793]\n"
          ],
          "name": "stdout"
        }
      ]
    },
    {
      "cell_type": "markdown",
      "metadata": {
        "id": "wW-a6QQmqLvd",
        "colab_type": "text"
      },
      "source": [
        "# Efficient frontier plot\n",
        "* Problem: Minimize variance of a portfolio subject to a target return:TargetRet\n",
        "* We solve this problem for many levels of the target return (in a loop)\n",
        "* Each time we do, we get another point in the efficient frontier\n",
        "* We need to specify the constraint in a loop, as the target return is always changing.\n"
      ]
    },
    {
      "cell_type": "code",
      "metadata": {
        "id": "MkL36Rg0qK7e",
        "colab_type": "code",
        "colab": {
          "base_uri": "https://localhost:8080/",
          "height": 1000
        },
        "outputId": "fc5f2c8f-20c2-48bd-9c91-cc0f693f791f"
      },
      "source": [
        "\n",
        "#Define a range for target returns.\n",
        "TargetRet=np.linspace(0.0,0.25,50)\n",
        "\n",
        "#Define an (empty) vector for the corresponding minimum volatilities.\n",
        "MinVols=[]\n",
        "\n",
        "#Efficient Frontier Optimization Loop\n",
        "\n",
        "#In a loop of target returns, minimise standard deviation (volatility) under the\n",
        "#constraint that the portfolio return equals the target return.\n",
        "\n",
        "for tret in TargetRet:\n",
        "    #constraints:\n",
        "    #portfolio return (see P_ret above) should equal target return, sum of weights x equals 1\n",
        "    cons=({'type':'eq', 'fun':lambda x: portfolio(x)[0]-tret},\n",
        "          {'type':'eq', 'fun':lambda x: np.sum(x)-1})\n",
        "    #optimization function\n",
        "    #the objective function to be minimized is the portfolio function in particular,\n",
        "    #the vlatility output: P_vol above)\n",
        "    res=sco.minimize(lambda x: portfolio(x)[1], no_assets*[1.0/no_assets], \n",
        "                     method='SLSQP', bounds=bnds, constraints=cons)\n",
        "    MinVols.append(res['fun'])\n",
        "    print(res)\n",
        "\n",
        "MinVols=np.array(MinVols)\n",
        "\n",
        "#Efficient Frontier Optimization Results\n",
        "\n",
        "plt.clf()\n",
        "\n",
        "#Efficient Frontier Plot\n",
        "plt.figure(figsize=(9,6))\n",
        "plt.scatter(MinVols, TargetRet, marker='x')\n",
        "plt.grid()\n",
        "plt.xlabel('Volatility', fontsize=18)\n",
        "plt.ylabel('Expected return', fontsize=18)\n",
        "plt.savefig('F2.pdf', bbox='tight')\n",
        "\n"
      ],
      "execution_count": 19,
      "outputs": [
        {
          "output_type": "stream",
          "text": [
            "     fun: 0.22919089726708258\n",
            "     jac: array([0.09593865, 0.09905604, 0.1025685 , 0.38407913, 0.09248459])\n",
            " message: 'Optimization terminated successfully.'\n",
            "    nfev: 21\n",
            "     nit: 3\n",
            "    njev: 3\n",
            "  status: 0\n",
            " success: True\n",
            "       x: array([2.84203420e-17, 4.59701721e-17, 0.00000000e+00, 4.68823286e-01,\n",
            "       5.31176714e-01])\n",
            "     fun: 0.2089461213771026\n",
            "     jac: array([0.09249772, 0.09305288, 0.09394051, 0.36122499, 0.1097224 ])\n",
            " message: 'Optimization terminated successfully.'\n",
            "    nfev: 21\n",
            "     nit: 3\n",
            "    njev: 3\n",
            "  status: 0\n",
            " success: True\n",
            "       x: array([0.00000000e+00, 0.00000000e+00, 9.32324229e-17, 3.94523666e-01,\n",
            "       6.05476334e-01])\n",
            "     fun: 0.19212116276042834\n",
            "     jac: array([0.08674637, 0.08423504, 0.08197558, 0.32753123, 0.12833315])\n",
            " message: 'Optimization terminated successfully.'\n",
            "    nfev: 28\n",
            "     nit: 4\n",
            "    njev: 4\n",
            "  status: 0\n",
            " success: True\n",
            "       x: array([0.00000000e+00, 1.17961196e-16, 7.00062014e-17, 3.20224046e-01,\n",
            "       6.79775954e-01])\n",
            "     fun: 0.17967928644317252\n",
            "     jac: array([0.07794214, 0.0719261 , 0.06606206, 0.28035954, 0.14684474])\n",
            " message: 'Optimization terminated successfully.'\n",
            "    nfev: 28\n",
            "     nit: 4\n",
            "    njev: 4\n",
            "  status: 0\n",
            " success: True\n",
            "       x: array([0.00000000e+00, 2.77555756e-17, 2.00756052e-17, 2.45924426e-01,\n",
            "       7.54075574e-01])\n",
            "     fun: 0.17252879431462637\n",
            "     jac: array([0.06766767, 0.05913711, 0.04919657, 0.22735865, 0.16116274])\n",
            " message: 'Optimization terminated successfully.'\n",
            "    nfev: 35\n",
            "     nit: 5\n",
            "    njev: 5\n",
            "  status: 0\n",
            " success: True\n",
            "       x: array([2.22930207e-17, 4.66757450e-03, 0.00000000e+00, 1.78897241e-01,\n",
            "       8.16435185e-01])\n",
            "     fun: 0.16780489227706133\n",
            "     jac: array([0.06890528, 0.06609191, 0.05026126, 0.22326061, 0.16182643])\n",
            " message: 'Optimization terminated successfully.'\n",
            "    nfev: 42\n",
            "     nit: 6\n",
            "    njev: 6\n",
            "  status: 0\n",
            " success: True\n",
            "       x: array([4.25001448e-17, 4.05874452e-02, 0.00000000e+00, 1.60563501e-01,\n",
            "       7.98849054e-01])\n",
            "     fun: 0.16340733078321493\n",
            "     jac: array([0.07044735, 0.07390997, 0.051845  , 0.22006695, 0.16185469])\n",
            " message: 'Optimization terminated successfully.'\n",
            "    nfev: 36\n",
            "     nit: 5\n",
            "    njev: 5\n",
            "  status: 0\n",
            " success: True\n",
            "       x: array([0.00000000e+00, 7.67669023e-02, 1.45310147e-17, 1.42634216e-01,\n",
            "       7.80598882e-01])\n",
            "     fun: 0.1593629743375051\n",
            "     jac: array([0.07158874, 0.08144731, 0.05290779, 0.21483513, 0.16183183])\n",
            " message: 'Optimization terminated successfully.'\n",
            "    nfev: 36\n",
            "     nit: 5\n",
            "    njev: 5\n",
            "  status: 0\n",
            " success: True\n",
            "       x: array([2.24559814e-17, 1.12946039e-01, 0.00000000e+00, 1.24704432e-01,\n",
            "       7.62349529e-01])\n",
            "     fun: 0.15569945403285526\n",
            "     jac: array([0.07255473, 0.08906614, 0.05380847, 0.20857826, 0.16146532])\n",
            " message: 'Optimization terminated successfully.'\n",
            "    nfev: 35\n",
            "     nit: 5\n",
            "    njev: 5\n",
            "  status: 0\n",
            " success: True\n",
            "       x: array([0.00000000e+00, 1.49333762e-01, 3.20257915e-18, 1.07099642e-01,\n",
            "       7.43566596e-01])\n",
            "     fun: 0.15244390991609497\n",
            "     jac: array([0.07338045, 0.09680888, 0.0546213 , 0.20152206, 0.1606399 ])\n",
            " message: 'Optimization terminated successfully.'\n",
            "    nfev: 35\n",
            "     nit: 5\n",
            "    njev: 5\n",
            "  status: 0\n",
            " success: True\n",
            "       x: array([7.91988894e-18, 1.85276872e-01, 0.00000000e+00, 8.88021096e-02,\n",
            "       7.25921019e-01])\n",
            "     fun: 0.1496232989179636\n",
            "     jac: array([0.07413562, 0.10476236, 0.05547228, 0.19405581, 0.15921205])\n",
            " message: 'Optimization terminated successfully.'\n",
            "    nfev: 35\n",
            "     nit: 5\n",
            "    njev: 5\n",
            "  status: 0\n",
            " success: True\n",
            "       x: array([3.06366069e-18, 2.21450273e-01, 7.09579763e-20, 7.08633897e-02,\n",
            "       7.07686337e-01])\n",
            "     fun: 0.14718323056935037\n",
            "     jac: array([0.07536442, 0.10961603, 0.06222154, 0.19005113, 0.15793113])\n",
            " message: 'Optimization terminated successfully.'\n",
            "    nfev: 49\n",
            "     nit: 7\n",
            "    njev: 7\n",
            "  status: 0\n",
            " success: True\n",
            "       x: array([0.        , 0.23758129, 0.01184438, 0.05804751, 0.69252682])\n",
            "     fun: 0.1449702820019094\n",
            "     jac: array([0.07646214, 0.11320368, 0.070429  , 0.18582707, 0.15674879])\n",
            " message: 'Optimization terminated successfully.'\n",
            "    nfev: 49\n",
            "     nit: 7\n",
            "    njev: 7\n",
            "  status: 0\n",
            " success: True\n",
            "       x: array([0.        , 0.24770102, 0.02696175, 0.0459104 , 0.67942683])\n",
            "     fun: 0.14298939060183385\n",
            "     jac: array([0.07741748, 0.11662153, 0.07869827, 0.18096722, 0.15532717])\n",
            " message: 'Optimization terminated successfully.'\n",
            "    nfev: 49\n",
            "     nit: 7\n",
            "    njev: 7\n",
            "  status: 0\n",
            " success: True\n",
            "       x: array([8.39247491e-19, 2.57673156e-01, 4.21045496e-02, 3.36213465e-02,\n",
            "       6.66600948e-01])\n",
            "     fun: 0.14125097610333687\n",
            "     jac: array([0.07835406, 0.12025013, 0.08696925, 0.17598048, 0.15346727])\n",
            " message: 'Optimization terminated successfully.'\n",
            "    nfev: 49\n",
            "     nit: 7\n",
            "    njev: 7\n",
            "  status: 0\n",
            " success: True\n",
            "       x: array([0.        , 0.26869261, 0.05676494, 0.02148358, 0.65305887])\n",
            "     fun: 0.1397629746019123\n",
            "     jac: array([0.07934119, 0.12281575, 0.09538728, 0.17026139, 0.15168392])\n",
            " message: 'Optimization terminated successfully.'\n",
            "    nfev: 42\n",
            "     nit: 6\n",
            "    njev: 6\n",
            "  status: 0\n",
            " success: True\n",
            "       x: array([0.00085397, 0.27606477, 0.072238  , 0.00953195, 0.64131131])\n",
            "     fun: 0.13846327647535303\n",
            "     jac: array([0.08477996, 0.12420998, 0.09952189, 0.1670755 , 0.1505583 ])\n",
            " message: 'Optimization terminated successfully.'\n",
            "    nfev: 42\n",
            "     nit: 6\n",
            "    njev: 6\n",
            "  status: 0\n",
            " success: True\n",
            "       x: array([0.01295195, 0.276659  , 0.07802315, 0.00172262, 0.63064328])\n",
            "     fun: 0.13731718545813834\n",
            "     jac: array([0.09302931, 0.12655414, 0.10543215, 0.17076859, 0.14847706])\n",
            " message: 'Optimization terminated successfully.'\n",
            "    nfev: 35\n",
            "     nit: 5\n",
            "    njev: 5\n",
            "  status: 0\n",
            " success: True\n",
            "       x: array([0.02852259, 0.2736512 , 0.08314861, 0.        , 0.6146776 ])\n",
            "     fun: 0.13638220525220637\n",
            "     jac: array([0.10204975, 0.12876815, 0.11188233, 0.17615079, 0.14602486])\n",
            " message: 'Optimization terminated successfully.'\n",
            "    nfev: 35\n",
            "     nit: 5\n",
            "    njev: 5\n",
            "  status: 0\n",
            " success: True\n",
            "       x: array([4.51783374e-02, 2.68615400e-01, 8.84676703e-02, 1.73472348e-18,\n",
            "       5.97738593e-01])\n",
            "     fun: 0.13566422817545956\n",
            "     jac: array([0.11101108, 0.13082099, 0.11824062, 0.181328  , 0.14330038])\n",
            " message: 'Optimization terminated successfully.'\n",
            "    nfev: 35\n",
            "     nit: 5\n",
            "    njev: 5\n",
            "  status: 0\n",
            " success: True\n",
            "       x: array([6.18082013e-02, 2.63639584e-01, 9.37896104e-02, 9.21571847e-19,\n",
            "       5.80762605e-01])\n",
            "     fun: 0.1351667423969563\n",
            "     jac: array([0.11986137, 0.13269693, 0.12448247, 0.18626915, 0.14030749])\n",
            " message: 'Optimization terminated successfully.'\n",
            "    nfev: 35\n",
            "     nit: 5\n",
            "    njev: 5\n",
            "  status: 0\n",
            " success: True\n",
            "       x: array([7.83981189e-02, 2.58720385e-01, 9.91342451e-02, 5.96311195e-18,\n",
            "       5.63747251e-01])\n",
            "     fun: 0.1348922090269021\n",
            "     jac: array([0.12854569, 0.13437591, 0.13059335, 0.19094381, 0.13705597])\n",
            " message: 'Optimization terminated successfully.'\n",
            "    nfev: 35\n",
            "     nit: 5\n",
            "    njev: 5\n",
            "  status: 0\n",
            " success: True\n",
            "       x: array([0.09492785, 0.25382781, 0.10454287, 0.        , 0.54670147])\n",
            "     fun: 0.1348419535488599\n",
            "     jac: array([0.13700765, 0.1358202 , 0.13657266, 0.19531609, 0.13356722])\n",
            " message: 'Optimization terminated successfully.'\n",
            "    nfev: 35\n",
            "     nit: 5\n",
            "    njev: 5\n",
            "  status: 0\n",
            " success: True\n",
            "       x: array([1.11378313e-01, 2.48855627e-01, 1.10093971e-01, 4.60785923e-19,\n",
            "       5.29672090e-01])\n",
            "     fun: 0.13501598989793995\n",
            "     jac: array([0.1452039 , 0.13693639, 0.14241487, 0.19932114, 0.12989338])\n",
            " message: 'Optimization terminated successfully.'\n",
            "    nfev: 35\n",
            "     nit: 5\n",
            "    njev: 5\n",
            "  status: 0\n",
            " success: True\n",
            "       x: array([0.12778896, 0.24349188, 0.11589514, 0.        , 0.51282402])\n",
            "     fun: 0.1354129137769343\n",
            "     jac: array([0.15317852, 0.13753974, 0.14795354, 0.20281919, 0.12615082])\n",
            " message: 'Optimization terminated successfully.'\n",
            "    nfev: 35\n",
            "     nit: 5\n",
            "    njev: 5\n",
            "  status: 0\n",
            " success: True\n",
            "       x: array([1.44492046e-01, 2.37144809e-01, 1.21818952e-01, 9.48676901e-18,\n",
            "       4.96544193e-01])\n",
            "     fun: 0.13603113593842497\n",
            "     jac: array([0.16109973, 0.13773526, 0.15267678, 0.20577095, 0.12237124])\n",
            " message: 'Optimization terminated successfully.'\n",
            "    nfev: 35\n",
            "     nit: 5\n",
            "    njev: 5\n",
            "  status: 0\n",
            " success: True\n",
            "       x: array([1.62041581e-01, 2.30357126e-01, 1.26876505e-01, 2.82231378e-17,\n",
            "       4.80724789e-01])\n",
            "     fun: 0.13686919992270846\n",
            "     jac: array([0.1688142 , 0.13815358, 0.1566788 , 0.20853075, 0.11828777])\n",
            " message: 'Optimization terminated successfully.'\n",
            "    nfev: 35\n",
            "     nit: 5\n",
            "    njev: 5\n",
            "  status: 0\n",
            " success: True\n",
            "       x: array([1.79776549e-01, 2.25322151e-01, 1.30805459e-01, 1.38235777e-17,\n",
            "       4.64095840e-01])\n",
            "     fun: 0.1379209046617663\n",
            "     jac: array([0.17587594, 0.13843157, 0.16100771, 0.2110803 , 0.11396919])\n",
            " message: 'Optimization terminated successfully.'\n",
            "    nfev: 43\n",
            "     nit: 6\n",
            "    njev: 6\n",
            "  status: 0\n",
            " success: True\n",
            "       x: array([0.19578053, 0.21931614, 0.13745635, 0.        , 0.44744699])\n",
            "     fun: 0.13918288812326302\n",
            "     jac: array([0.18221711, 0.13816324, 0.16588214, 0.21323715, 0.10960025])\n",
            " message: 'Optimization terminated successfully.'\n",
            "    nfev: 49\n",
            "     nit: 7\n",
            "    njev: 7\n",
            "  status: 0\n",
            " success: True\n",
            "       x: array([2.12591471e-01, 2.13821697e-01, 1.42808415e-01, 1.57480366e-17,\n",
            "       4.30778416e-01])\n",
            "     fun: 0.1406489973530674\n",
            "     jac: array([0.18848141, 0.13790688, 0.16965798, 0.21502325, 0.10515214])\n",
            " message: 'Optimization terminated successfully.'\n",
            "    nfev: 49\n",
            "     nit: 7\n",
            "    njev: 7\n",
            "  status: 0\n",
            " success: True\n",
            "       x: array([0.22941783, 0.20835744, 0.14812531, 0.        , 0.41409942])\n",
            "     fun: 0.1423129390119342\n",
            "     jac: array([0.19435776, 0.13746722, 0.17308729, 0.21646789, 0.10065763])\n",
            " message: 'Optimization terminated successfully.'\n",
            "    nfev: 49\n",
            "     nit: 7\n",
            "    njev: 7\n",
            "  status: 0\n",
            " success: True\n",
            "       x: array([2.46279527e-01, 2.02914166e-01, 1.53386040e-01, 7.47591279e-18,\n",
            "       3.97420267e-01])\n",
            "     fun: 0.1441679449248178\n",
            "     jac: array([0.19987186, 0.13685592, 0.17611547, 0.21757507, 0.09614962])\n",
            " message: 'Optimization terminated successfully.'\n",
            "    nfev: 49\n",
            "     nit: 7\n",
            "    njev: 7\n",
            "  status: 0\n",
            " success: True\n",
            "       x: array([2.63263288e-01, 1.97504671e-01, 1.58472446e-01, 3.93971964e-17,\n",
            "       3.80759595e-01])\n",
            "     fun: 0.1462063771160269\n",
            "     jac: array([0.20485881, 0.13608921, 0.17913646, 0.21843069, 0.09160724])\n",
            " message: 'Optimization terminated successfully.'\n",
            "    nfev: 49\n",
            "     nit: 7\n",
            "    njev: 7\n",
            "  status: 0\n",
            " success: True\n",
            "       x: array([2.79833696e-01, 1.91978241e-01, 1.64150484e-01, 3.19026489e-17,\n",
            "       3.64037580e-01])\n",
            "     fun: 0.14842091107452424\n",
            "     jac: array([0.20938545, 0.13525467, 0.18200865, 0.21906773, 0.08703752])\n",
            " message: 'Optimization terminated successfully.'\n",
            "    nfev: 42\n",
            "     nit: 6\n",
            "    njev: 6\n",
            "  status: 0\n",
            " success: True\n",
            "       x: array([0.29612469, 0.18666888, 0.17007811, 0.        , 0.34712832])\n",
            "     fun: 0.15080393187002564\n",
            "     jac: array([0.21365737, 0.13423464, 0.18433908, 0.21936458, 0.082565  ])\n",
            " message: 'Optimization terminated successfully.'\n",
            "    nfev: 42\n",
            "     nit: 6\n",
            "    njev: 6\n",
            "  status: 0\n",
            " success: True\n",
            "       x: array([0.31283422, 0.18122681, 0.17553417, 0.        , 0.33040479])\n",
            "     fun: 0.15334746548491776\n",
            "     jac: array([0.21756885, 0.13310669, 0.18640076, 0.21942202, 0.07814993])\n",
            " message: 'Optimization terminated successfully.'\n",
            "    nfev: 42\n",
            "     nit: 6\n",
            "    njev: 6\n",
            "  status: 0\n",
            " success: True\n",
            "       x: array([0.3295453 , 0.17578441, 0.18098842, 0.        , 0.31368187])\n",
            "     fun: 0.1560436629244619\n",
            "     jac: array([0.22113666, 0.13188615, 0.18820968, 0.21926253, 0.07380689])\n",
            " message: 'Optimization terminated successfully.'\n",
            "    nfev: 42\n",
            "     nit: 6\n",
            "    njev: 6\n",
            "  status: 0\n",
            " success: True\n",
            "       x: array([0.34625834, 0.17034151, 0.18644038, 0.        , 0.29695977])\n",
            "     fun: 0.1588847524606606\n",
            "     jac: array([0.22437909, 0.13058758, 0.18978262, 0.21890826, 0.0695482 ])\n",
            " message: 'Optimization terminated successfully.'\n",
            "    nfev: 42\n",
            "     nit: 6\n",
            "    njev: 6\n",
            "  status: 0\n",
            " success: True\n",
            "       x: array([3.62973666e-01, 1.64897949e-01, 1.91889739e-01, 2.84060969e-17,\n",
            "       2.80238646e-01])\n",
            "     fun: 0.16186310454197145\n",
            "     jac: array([0.22731528, 0.12922463, 0.19113675, 0.21838067, 0.06538392])\n",
            " message: 'Optimization terminated successfully.'\n",
            "    nfev: 42\n",
            "     nit: 6\n",
            "    njev: 6\n",
            "  status: 0\n",
            " success: True\n",
            "       x: array([3.79691382e-01, 1.59453564e-01, 1.97336437e-01, 2.74845251e-17,\n",
            "       2.63518617e-01])\n",
            "     fun: 0.16497128501687458\n",
            "     jac: array([0.22996482, 0.12780993, 0.19228928, 0.21770031, 0.06132212])\n",
            " message: 'Optimization terminated successfully.'\n",
            "    nfev: 42\n",
            "     nit: 6\n",
            "    njev: 6\n",
            "  status: 0\n",
            " success: True\n",
            "       x: array([3.96411351e-01, 1.54008308e-01, 2.02780677e-01, 3.17467949e-18,\n",
            "       2.46799664e-01])\n",
            "     fun: 0.1682020967716341\n",
            "     jac: array([0.23234733, 0.12635506, 0.19325717, 0.21688651, 0.05736894])\n",
            " message: 'Optimization terminated successfully.'\n",
            "    nfev: 42\n",
            "     nit: 6\n",
            "    njev: 6\n",
            "  status: 0\n",
            " success: True\n",
            "       x: array([0.41313328, 0.14856213, 0.20822286, 0.        , 0.23008173])\n",
            "     fun: 0.17154861133098884\n",
            "     jac: array([0.23448211, 0.1248705 , 0.19405693, 0.2159574 , 0.05352882])\n",
            " message: 'Optimization terminated successfully.'\n",
            "    nfev: 42\n",
            "     nit: 6\n",
            "    njev: 6\n",
            "  status: 0\n",
            " success: True\n",
            "       x: array([4.29856576e-01, 1.43115214e-01, 2.13663661e-01, 1.12587619e-17,\n",
            "       2.13364549e-01])\n",
            "     fun: 0.17500419124006533\n",
            "     jac: array([0.23638794, 0.12336569, 0.19470434, 0.21492967, 0.0498047 ])\n",
            " message: 'Optimization terminated successfully.'\n",
            "    nfev: 42\n",
            "     nit: 6\n",
            "    njev: 6\n",
            "  status: 0\n",
            " success: True\n",
            "       x: array([4.46580579e-01, 1.37667820e-01, 2.19103792e-01, 1.16839725e-17,\n",
            "       1.96647810e-01])\n",
            "     fun: 0.17856250465374493\n",
            "     jac: array([0.23808287, 0.12184905, 0.19521437, 0.21381869, 0.04619817])\n",
            " message: 'Optimization terminated successfully.'\n",
            "    nfev: 42\n",
            "     nit: 6\n",
            "    njev: 6\n",
            "  status: 0\n",
            " success: True\n",
            "       x: array([0.46330439, 0.13222058, 0.22454409, 0.        , 0.17993094])\n",
            "     fun: 0.1822175331733683\n",
            "     jac: array([0.23958406, 0.120328  , 0.19560117, 0.21263842, 0.04270974])\n",
            " message: 'Optimization terminated successfully.'\n",
            "    nfev: 42\n",
            "     nit: 6\n",
            "    njev: 6\n",
            "  status: 0\n",
            " success: True\n",
            "       x: array([4.80026978e-01, 1.26774083e-01, 2.29985590e-01, 1.21511111e-17,\n",
            "       1.63213349e-01])\n",
            "     fun: 0.18596357703961727\n",
            "     jac: array([0.24091227, 0.11883758, 0.19586016, 0.21141399, 0.03932839])\n",
            " message: 'Optimization terminated successfully.'\n",
            "    nfev: 42\n",
            "     nit: 6\n",
            "    njev: 6\n",
            "  status: 0\n",
            " success: True\n",
            "       x: array([4.96746305e-01, 1.21476818e-01, 2.35355523e-01, 3.80902246e-17,\n",
            "       1.46421353e-01])\n",
            "     fun: 0.18979526300069918\n",
            "     jac: array([0.24208142, 0.11737748, 0.19600799, 0.21015425, 0.03605496])\n",
            " message: 'Optimization terminated successfully.'\n",
            "    nfev: 42\n",
            "     nit: 6\n",
            "    njev: 6\n",
            "  status: 0\n",
            " success: True\n",
            "       x: array([0.5134599 , 0.11630705, 0.24066811, 0.        , 0.12956494])\n",
            "     fun: 0.19370750924893038\n",
            "     jac: array([0.24310159, 0.11592581, 0.19607227, 0.20885752, 0.03289745])\n",
            " message: 'Optimization terminated successfully.'\n",
            "    nfev: 42\n",
            "     nit: 6\n",
            "    njev: 6\n",
            "  status: 0\n",
            " success: True\n",
            "       x: array([0.53016764, 0.11112956, 0.24599216, 0.        , 0.11271064])\n",
            "     fun: 0.19769553114296806\n",
            "     jac: array([0.24398619, 0.11448672, 0.19606273, 0.20753269, 0.0298535 ])\n",
            " message: 'Optimization terminated successfully.'\n",
            "    nfev: 42\n",
            "     nit: 6\n",
            "    njev: 6\n",
            "  status: 0\n",
            " success: True\n",
            "       x: array([0.54686914, 0.10594487, 0.2513279 , 0.        , 0.09585809])\n",
            "     fun: 0.2017548334143233\n",
            "     jac: array([0.24474767, 0.11306373, 0.19598827, 0.20618759, 0.02692034])\n",
            " message: 'Optimization terminated successfully.'\n",
            "    nfev: 42\n",
            "     nit: 6\n",
            "    njev: 6\n",
            "  status: 0\n",
            " success: True\n",
            "       x: array([5.63564030e-01, 1.00753426e-01, 2.56675574e-01, 1.81620805e-17,\n",
            "       7.90069707e-02])\n"
          ],
          "name": "stdout"
        },
        {
          "output_type": "display_data",
          "data": {
            "text/plain": [
              "<Figure size 432x288 with 0 Axes>"
            ]
          },
          "metadata": {
            "tags": []
          }
        },
        {
          "output_type": "display_data",
          "data": {
            "image/png": "[encoded data removed]",
            "text/plain": [
              "<Figure size 648x432 with 1 Axes>"
            ]
          },
          "metadata": {
            "tags": [],
            "needs_background": "light"
          }
        }
      ]
    },
    {
      "cell_type": "markdown",
      "metadata": {
        "id": "OE_JvDiYrDcE",
        "colab_type": "text"
      },
      "source": [
        "**Showing the optimal weights of each of the five securities**"
      ]
    },
    {
      "cell_type": "code",
      "metadata": {
        "id": "vQ4LJsQoqt4-",
        "colab_type": "code",
        "colab": {
          "base_uri": "https://localhost:8080/",
          "height": 52
        },
        "outputId": "a2836d4e-5570-4d22-878a-75458802d960"
      },
      "source": [
        "res['x']"
      ],
      "execution_count": 20,
      "outputs": [
        {
          "output_type": "execute_result",
          "data": {
            "text/plain": [
              "array([5.63564030e-01, 1.00753426e-01, 2.56675574e-01, 1.81620805e-17,\n",
              "       7.90069707e-02])"
            ]
          },
          "metadata": {
            "tags": []
          },
          "execution_count": 20
        }
      ]
    },
    {
      "cell_type": "code",
      "metadata": {
        "id": "-FD4uru7o4mN",
        "colab_type": "code",
        "colab": {
          "base_uri": "https://localhost:8080/",
          "height": 52
        },
        "outputId": "356e4019-0b70-455b-d1a8-a9b31438d42e"
      },
      "source": [
        "w2 = res['x']\n",
        "w2"
      ],
      "execution_count": 21,
      "outputs": [
        {
          "output_type": "execute_result",
          "data": {
            "text/plain": [
              "array([5.63564030e-01, 1.00753426e-01, 2.56675574e-01, 1.81620805e-17,\n",
              "       7.90069707e-02])"
            ]
          },
          "metadata": {
            "tags": []
          },
          "execution_count": 21
        }
      ]
    },
    {
      "cell_type": "markdown",
      "metadata": {
        "id": "yem_DT7-sGIe",
        "colab_type": "text"
      },
      "source": [
        "# 3. Classic Markowitz - Minimum Variance Portfolio"
      ]
    },
    {
      "cell_type": "code",
      "metadata": {
        "id": "m8xQYF9zsJk6",
        "colab_type": "code",
        "colab": {
          "base_uri": "https://localhost:8080/",
          "height": 52
        },
        "outputId": "648f605e-f04d-4b39-d476-35dd41e2060b"
      },
      "source": [
        "# -*- coding: utf-8 -*-\n",
        "\"\"\"\n",
        "Created on Fri May 10 16:08:38 2019\n",
        "\n",
        "Classic Markowitz for Minimum Variance Portfolio (no fixed return required)\n",
        "\n",
        "@author: Rosario\n",
        "\"\"\"\n",
        "\n",
        "import numpy as np\n",
        "import pandas as pd\n",
        "import scipy.optimize as sco\n",
        "\n",
        "# load data\n",
        "data= pd.read_csv('L5_Data.csv', index_col =0)\n",
        "\n",
        "#Compute the (log) returns from prices.\n",
        "#returns=np.log(data/data.shift(1)) #do not use\n",
        "returns=(data-data.shift(1))/data.shift(1)\n",
        "\n",
        "#Get the number of assets as a variable.\n",
        "no_assets=len(returns.columns.tolist())\n",
        "\n",
        "#Application: Minimum variance portfolio\n",
        "#Minimum variance portfolio \n",
        "\n",
        "# A portfolio-building function\n",
        "def portfolio(weights):\n",
        "    weights = np.array(weights)\n",
        "    P_ret = np.sum(returns.mean()*weights)*252\n",
        "    P_vol = np.sqrt(np.dot(weights.T, np.dot(returns.cov()*252, weights)))\n",
        "    return np.array([P_ret,P_vol, P_ret/P_vol])\n",
        "\n",
        "#Define a function for the portfolio variance.\n",
        "#Variance is the square of the volatility a.k.a. standard deviation\n",
        "def Variance(weights):\n",
        "\treturn portfolio(weights)[1]**2\n",
        "\n",
        "#Set up the constraint that portfolio weights add up to one.\n",
        "cons=({'type':'eq', 'fun':lambda x: np.sum(x)-1})\n",
        "#Set up boundaries for the portfolio weights (between 0 and 1) (=no short selling)\n",
        "bnds=tuple((0,1) for x in range(no_assets))\n",
        "\n",
        "#Optimisation function.\n",
        "#scipy.optimize.minimize(fun, x0, args=(), method=None, jac=None, hess=None, hessp=None, bounds=None, constraints=(), tol=None, callback=None, options=None)\n",
        "#fun : callable\n",
        "#The objective function to be minimized.\n",
        "#in this case: Variance \n",
        "#x0 : ndarray, shape (n,)\n",
        "#Initial guess. Array of real elements of size (n,), where ‘n’ is the number of independent variables.\n",
        "#In this case: [0.2, 0.2, 0.2, 0.2, 0.2]\n",
        "#method : str or callable, optional\n",
        "#Type of solver\n",
        "#In this case: Sequential Least SQuares Programming (SLSQP)\n",
        "#bounds : sequence or Bounds, Sequence of (min, max) pairs for each element in x. \n",
        "#in this case: bnds\n",
        "#constraints : {Constraint, dict} \n",
        "#Equality constraint means that the constraint function result is to be zero whereas \n",
        "#inequality means that it is to be non-negative\n",
        "\n",
        "#Optimisation function.\n",
        "#we minimize the variance\n",
        "result = sco.minimize(Variance, no_assets*[1.0/no_assets], method='SLSQP', bounds=bnds, constraints=cons)\n",
        "\n",
        "#Print optimized minimum Variance portfolio weights.\n",
        "print(\"weights= \", result['x'].round(3)) # weights\n",
        "#Minimum variance portfolio properties.\n",
        "print(\"P_ret,P_vol,P_ret/P_vol=\", portfolio(result['x'])) # statistics  P_ret,P_vol, P_ret/P_vol\n"
      ],
      "execution_count": 22,
      "outputs": [
        {
          "output_type": "stream",
          "text": [
            "weights=  [0.107 0.248 0.109 0.    0.536]\n",
            "P_ret,P_vol,P_ret/P_vol= [0.11071119 0.1348326  0.82110102]\n"
          ],
          "name": "stdout"
        }
      ]
    },
    {
      "cell_type": "code",
      "metadata": {
        "id": "V1j0tE-8pMh9",
        "colab_type": "code",
        "colab": {
          "base_uri": "https://localhost:8080/",
          "height": 34
        },
        "outputId": "38bd0c09-4cc1-49e7-b108-aaf653a68f6f"
      },
      "source": [
        "w3 = result['x'].round(3)\n",
        "w3"
      ],
      "execution_count": 23,
      "outputs": [
        {
          "output_type": "execute_result",
          "data": {
            "text/plain": [
              "array([0.107, 0.248, 0.109, 0.   , 0.536])"
            ]
          },
          "metadata": {
            "tags": []
          },
          "execution_count": 23
        }
      ]
    },
    {
      "cell_type": "markdown",
      "metadata": {
        "id": "DfnWtrtKrUHU",
        "colab_type": "text"
      },
      "source": [
        "# 4. Classic Markowitz - Maximum Sharpe Portfolio or Market Portfolio "
      ]
    },
    {
      "cell_type": "code",
      "metadata": {
        "id": "_56D88e5rS2x",
        "colab_type": "code",
        "colab": {
          "base_uri": "https://localhost:8080/",
          "height": 52
        },
        "outputId": "62f6375f-fbfd-4875-9897-5bd77ef96929"
      },
      "source": [
        "\n",
        "import numpy as np\n",
        "import pandas as pd\n",
        "import scipy.optimize as sco\n",
        "\n",
        "# load data\n",
        "data= pd.read_csv('L5_Data.csv', index_col =0)\n",
        "\n",
        "#Compute the (log) returns from prices.\n",
        "#returns=np.log(data/data.shift(1)) #do not use\n",
        "returns=(data-data.shift(1))/data.shift(1)\n",
        "\n",
        "#Get the number of assets as a variable.\n",
        "no_assets=len(returns.columns.tolist())\n",
        "\n",
        "#Application: Minimum variance portfolio\n",
        "#Minimum variance portfolio \n",
        "\n",
        "\n",
        "#Let the risk-free rate, r_f = 1%.\n",
        "r_f = .01\n",
        "\n",
        "# A portfolio-building function\n",
        "def portfolio_CAPM(weights, r_f):\n",
        "    weights = np.array(weights)\n",
        "    P_ret = np.sum(returns.mean()*weights)*252\n",
        "    P_vol = np.sqrt(np.dot(weights.T, np.dot(returns.cov()*252, weights)))\n",
        "    return np.array([P_ret,P_vol, (P_ret-r_f)/P_vol]) #modified to include risk-free rate\n",
        "\n",
        "def Sharpe_CAPM(weights):\n",
        "    return -portfolio_CAPM(weights, r_f)[2]\n",
        "\n",
        "#Set up the constraint that portfolio weights add up to one.\n",
        "cons=({'type':'eq', 'fun':lambda x: np.sum(x)-1})\n",
        "#Set up boundaries for the portfolio weights (between 0 and 1) (=no short selling)\n",
        "bnds=tuple((0,1) for x in range(no_assets))\n",
        "\n",
        "#Optimisation function.\n",
        "#scipy.optimize.minimize(fun, x0, args=(), method=None, jac=None, hess=None, hessp=None, bounds=None, constraints=(), tol=None, callback=None, options=None)\n",
        "#fun : callable\n",
        "#The objective function to be minimized.\n",
        "#in this case: Sharpe\n",
        "#x0 : ndarray, shape (n,)\n",
        "#Initial guess. Array of real elements of size (n,), where ‘n’ is the number of independent variables.\n",
        "#In this case: [0.2, 0.2, 0.2, 0.2, 0.2]\n",
        "#method : str or callable, optional\n",
        "#Type of solver\n",
        "#In this case: Sequential Least SQuares Programming (SLSQP)\n",
        "#bounds : sequence or Bounds, Sequence of (min, max) pairs for each element in x. \n",
        "#in this case: bnds\n",
        "#constraints : {Constraint, dict} \n",
        "#Equality constraint means that the constraint function result is to be zero whereas \n",
        "#inequality means that it is to be non-negative\n",
        "\n",
        "#Optimisation function.\n",
        "#we minimize the variance\n",
        "result = sco.minimize(Sharpe_CAPM, no_assets*[1.0/no_assets], method='SLSQP', bounds=bnds, constraints=cons)\n",
        "\n",
        "#Print optimized minimum Variance portfolio weights.\n",
        "print(\"weights= \",result['x'].round(3)) # weights\n",
        "#Minimum variance portfolio properties.\n",
        "print(\"P_ret,P_vol,P_ret/P_vol= \", portfolio_CAPM(result['x'], r_f)) # statistics  P_ret,P_vol, P_ret/P_vol\n"
      ],
      "execution_count": 24,
      "outputs": [
        {
          "output_type": "stream",
          "text": [
            "weights=  [0.615 0.083 0.274 0.    0.028]\n",
            "P_ret,P_vol,P_ret/P_vol=  [0.26574934 0.21469091 1.19124438]\n"
          ],
          "name": "stdout"
        }
      ]
    },
    {
      "cell_type": "code",
      "metadata": {
        "id": "zoQFuMbRrsdF",
        "colab_type": "code",
        "colab": {
          "base_uri": "https://localhost:8080/",
          "height": 34
        },
        "outputId": "30de8471-264c-4bca-a312-7683ebef3d7c"
      },
      "source": [
        "w4 = result['x'].round(3)\n",
        "w4"
      ],
      "execution_count": 25,
      "outputs": [
        {
          "output_type": "execute_result",
          "data": {
            "text/plain": [
              "array([0.615, 0.083, 0.274, 0.   , 0.028])"
            ]
          },
          "metadata": {
            "tags": []
          },
          "execution_count": 25
        }
      ]
    },
    {
      "cell_type": "markdown",
      "metadata": {
        "id": "Y109GoB6qR5v",
        "colab_type": "text"
      },
      "source": [
        "# 5. Classic Markowitz - Fixed Required Return Minimiized Variance Portfolio - Efficient Frontier - Fake [link text](https://)"
      ]
    },
    {
      "cell_type": "code",
      "metadata": {
        "id": "tGk7wPjKuPr2",
        "colab_type": "code",
        "colab": {
          "base_uri": "https://localhost:8080/",
          "height": 1000
        },
        "outputId": "523a4c47-9a62-4a07-ca6b-5a493c8bcd6d"
      },
      "source": [
        "# -*- coding: utf-8 -*-\n",
        "\"\"\"\n",
        "Created on Fri May 10 16:08:38 2019\n",
        "\n",
        "@author: Rosario\n",
        "Classic Markowitz for Fixed Required Return w Minimizing Variance Portfolio\n",
        "\"\"\"\n",
        "\n",
        "import numpy as np\n",
        "import pandas as pd\n",
        "import matplotlib.pyplot as plt\n",
        "import scipy.optimize as sco\n",
        "\n",
        "# load data\n",
        "data= pd.read_csv('L5_Data.csv', index_col =0)\n",
        "\n",
        "#Compute the (log) returns from prices.\n",
        "#returns=np.log(data/data.shift(1)) #do not use\n",
        "returns=(data-data.shift(1))/data.shift(1)\n",
        "\n",
        "#Get the number of assets as a variable.\n",
        "no_assets=len(returns.columns.tolist())\n",
        "\n",
        "# Problem: Minimize variance of a portfolio\n",
        "# subject to a target return: TargetRet\n",
        "\n",
        "# A portfolio-building function\n",
        "def portfolio(weights):\n",
        "    weights = np.array(weights)\n",
        "    P_ret = np.sum(returns.mean()*weights)*252\n",
        "    P_vol = np.sqrt(np.dot(weights.T, np.dot(returns.cov()*252, weights)))\n",
        "    return np.array([P_ret,P_vol, P_ret/P_vol])\n",
        "\n",
        "\n",
        "#The required return is:\n",
        "TargetRet=[0.08]\n",
        "\n",
        "#Set up the constraint that \n",
        "#the portfolio return is equal to the TargetRet and\n",
        "#the portfolio weights add up to one.\n",
        "\n",
        "cons=({'type':'eq', 'fun':lambda x: portfolio(x)[0]-TargetRet},\n",
        "      {'type':'eq', 'fun':lambda x: np.sum(x)-1})\n",
        "\n",
        "#Set up boundaries for the portfolio weights (between 0 and 1) (=no short selling)\n",
        "bnds=tuple((0,1) for x in range(no_assets))\n",
        "\n",
        "#Optimisation function.\n",
        "#scipy.optimize.minimize(fun, x0, args=(), method=None, jac=None, hess=None, hessp=None, bounds=None, constraints=(), tol=None, callback=None, options=None)\n",
        "#fun : callable\n",
        "#The objective function to be minimized.\n",
        "#in this case: potfolio(x)[1] = P_vol \n",
        "#x0 : ndarray, shape (n,)\n",
        "#Initial guess. Array of real elements of size (n,), where ‘n’ is the number of independent variables.\n",
        "#In this case: [0.2, 0.2, 0.2, 0.2, 0.2]\n",
        "#method : str or callable, optional\n",
        "#Type of solver\n",
        "#In this case: Sequential Least SQuares Programming (SLSQP)\n",
        "#bounds : sequence or Bounds, Sequence of (min, max) pairs for each element in x. \n",
        "#in this case: bnds\n",
        "#constraints : {Constraint, dict} \n",
        "#Equality constraint means that the constraint function result is to be zero whereas \n",
        "#inequality means that it is to be non-negative\n",
        "\n",
        "#Optimisation function.\n",
        "#we minimize the variance \n",
        "result=sco.minimize(lambda x: portfolio(x)[1], no_assets*[1.0/no_assets], \n",
        "                 method='SLSQP', bounds=bnds, constraints=cons)\n",
        "\n",
        "\n",
        "##The weights of the minimum volatilty portfolio having the required return is:\n",
        "FinalWeights = result['x']\n",
        "print(\"Final Weights=\", FinalWeights) #final weights\n",
        "print(\"P_ret,P_vol,P_ret/P_vol=\", portfolio(result['x'])) # statistics  P_ret,P_vol, P_ret/P_vol\n",
        "\n",
        "# Efficient frontier plot\n",
        "# Problem: Minimize variance of a portfolio\n",
        "# subject to a target return: TargetRet\n",
        "# We solve this problem for many levels of the target return (in a loop)\n",
        "# Each time we do, we get another point in the efficient frontier\n",
        "# We need to specify the constraint in a loop, as the target return\n",
        "# is always changing.\n",
        "\n",
        "#Define a range for target returns.\n",
        "TargetRet=np.linspace(0.0,0.25,50)\n",
        "\n",
        "#Define an (empty) vector for the corresponding minimum volatilities.\n",
        "MinVols=[]\n",
        "\n",
        "#Efficient Frontier Optimization Loop\n",
        "\n",
        "#In a loop of target returns, minimise standard deviation (volatility) under the\n",
        "#constraint that the portfolio return equals the target return.\n",
        "\n",
        "for tret in TargetRet:\n",
        "    #constraints:\n",
        "    #portfolio return (see P_ret above) should equal target return, sum of weights x equals 1\n",
        "    cons=({'type':'eq', 'fun':lambda x: portfolio(x)[0]-tret},\n",
        "          {'type':'eq', 'fun':lambda x: np.sum(x)-1})\n",
        "    #optimization function\n",
        "    #the objective function to be minimized is the portfolio function in particular, the vlatility output: P_vol above)\n",
        "    result=sco.minimize(lambda x: portfolio(x)[1], no_assets*[1.0/no_assets], \n",
        "                     method='SLSQP', bounds=bnds, constraints=cons)\n",
        "    MinVols.append(result['fun'])\n",
        "    print(result)\n",
        "\n",
        "MinVols=np.array(MinVols)\n",
        "\n",
        "#Efficient Frontier Optimization Results\n",
        "\n",
        "plt.clf()\n",
        "\n",
        "#Efficient Frontier Plot\n",
        "plt.figure(figsize=(9,6))\n",
        "plt.scatter(MinVols, TargetRet, marker='x')\n",
        "plt.grid()\n",
        "plt.xlabel('Volatility', fontsize=18)\n",
        "plt.ylabel('Expected return', fontsize=18)\n",
        "plt.savefig('F2.pdf', bbox='tight')\n",
        "\n",
        "#Flipped Optimization\n",
        "#It is possible to optimize the weights by targeting a level of volatility and maximizing the return. \n",
        "# However, doing so requires a different optimization setup altogehter. \n",
        "# We will continue using the current setup, but use a very inefficient work around (a lookup table)\n",
        "\n",
        "#If a given level of MinVol is required, this table can be used to identify the appropriate TargetRet.\n",
        "#Suppose we want to keep volatility below .16, then, use MinVols to identify the volatility near .16\n",
        "#And use TargetRet to identify the corresponding target return (the higher one of the two TargetRets, in the upper half of the parabola)\n",
        "#For example, if the MinVol =0.158885, then TargetRet=0.188776 (computers will have slightly different results)\n",
        "#We are going to do this selection of TargetRet by hand (for now) having looked first at the Table, but this can be done programmatically\n",
        "Table=pd.DataFrame(MinVols, columns=['MinVols'])\n",
        "Table['TargetRet']=pd.Series(TargetRet)\n",
        "print(Table.sort_values(by=['MinVols']))\n",
        "\n",
        "#For TargetRet=0.188776, what are the weights of the minimum volatility portfolio?\n",
        "\n",
        "#The required return is:\n",
        "TargetRet_1=[0.188776] #selected by hand, having looked at the Table\n",
        "MinVol_1=[]\n",
        "\n",
        "cons=({'type':'eq', 'fun':lambda x: portfolio(x)[0]-TargetRet_1},\n",
        "      {'type':'eq', 'fun':lambda x: np.sum(x)-1})\n",
        "result=sco.minimize(lambda x: portfolio(x)[1], no_assets*[1.0/no_assets], \n",
        "                 method='SLSQP', bounds=bnds, constraints=cons)\n",
        "MinVol_1.append(result['fun'])\n",
        "\n",
        "##The predicted volatility is:\n",
        "MinVol_1=np.array(MinVol_1)\n",
        "print('predicted volatility= ', TargetRet_1)\n",
        "print('required return= ', MinVol_1)\n",
        "##The weights of the portfolio with fixed required MinVol is:\n",
        "FinalWeights = result['x']\n",
        "print(\"Final Weights= \",FinalWeights)\n",
        "plt.scatter(MinVol_1, TargetRet_1, marker='o')\n",
        "\n",
        "\n",
        "\n"
      ],
      "execution_count": 33,
      "outputs": [
        {
          "output_type": "stream",
          "text": [
            "Final Weights= [0.00899536 0.27650849 0.07623892 0.0041522  0.63410502]\n",
            "P_ret,P_vol,P_ret/P_vol= [0.08       0.13886528 0.57609793]\n",
            "     fun: 0.22919089726708258\n",
            "     jac: array([0.09593865, 0.09905604, 0.1025685 , 0.38407913, 0.09248459])\n",
            " message: 'Optimization terminated successfully.'\n",
            "    nfev: 21\n",
            "     nit: 3\n",
            "    njev: 3\n",
            "  status: 0\n",
            " success: True\n",
            "       x: array([2.84203420e-17, 4.59701721e-17, 0.00000000e+00, 4.68823286e-01,\n",
            "       5.31176714e-01])\n",
            "     fun: 0.2089461213771026\n",
            "     jac: array([0.09249772, 0.09305288, 0.09394051, 0.36122499, 0.1097224 ])\n",
            " message: 'Optimization terminated successfully.'\n",
            "    nfev: 21\n",
            "     nit: 3\n",
            "    njev: 3\n",
            "  status: 0\n",
            " success: True\n",
            "       x: array([0.00000000e+00, 0.00000000e+00, 9.32324229e-17, 3.94523666e-01,\n",
            "       6.05476334e-01])\n",
            "     fun: 0.19212116276042834\n",
            "     jac: array([0.08674637, 0.08423504, 0.08197558, 0.32753123, 0.12833315])\n",
            " message: 'Optimization terminated successfully.'\n",
            "    nfev: 28\n",
            "     nit: 4\n",
            "    njev: 4\n",
            "  status: 0\n",
            " success: True\n",
            "       x: array([0.00000000e+00, 1.17961196e-16, 7.00062014e-17, 3.20224046e-01,\n",
            "       6.79775954e-01])\n",
            "     fun: 0.17967928644317252\n",
            "     jac: array([0.07794214, 0.0719261 , 0.06606206, 0.28035954, 0.14684474])\n",
            " message: 'Optimization terminated successfully.'\n",
            "    nfev: 28\n",
            "     nit: 4\n",
            "    njev: 4\n",
            "  status: 0\n",
            " success: True\n",
            "       x: array([0.00000000e+00, 2.77555756e-17, 2.00756052e-17, 2.45924426e-01,\n",
            "       7.54075574e-01])\n",
            "     fun: 0.17252879431462637\n",
            "     jac: array([0.06766767, 0.05913711, 0.04919657, 0.22735865, 0.16116274])\n",
            " message: 'Optimization terminated successfully.'\n",
            "    nfev: 35\n",
            "     nit: 5\n",
            "    njev: 5\n",
            "  status: 0\n",
            " success: True\n",
            "       x: array([2.22930207e-17, 4.66757450e-03, 0.00000000e+00, 1.78897241e-01,\n",
            "       8.16435185e-01])\n",
            "     fun: 0.16780489227706133\n",
            "     jac: array([0.06890528, 0.06609191, 0.05026126, 0.22326061, 0.16182643])\n",
            " message: 'Optimization terminated successfully.'\n",
            "    nfev: 42\n",
            "     nit: 6\n",
            "    njev: 6\n",
            "  status: 0\n",
            " success: True\n",
            "       x: array([4.25001448e-17, 4.05874452e-02, 0.00000000e+00, 1.60563501e-01,\n",
            "       7.98849054e-01])\n",
            "     fun: 0.16340733078321493\n",
            "     jac: array([0.07044735, 0.07390997, 0.051845  , 0.22006695, 0.16185469])\n",
            " message: 'Optimization terminated successfully.'\n",
            "    nfev: 36\n",
            "     nit: 5\n",
            "    njev: 5\n",
            "  status: 0\n",
            " success: True\n",
            "       x: array([0.00000000e+00, 7.67669023e-02, 1.45310147e-17, 1.42634216e-01,\n",
            "       7.80598882e-01])\n",
            "     fun: 0.1593629743375051\n",
            "     jac: array([0.07158874, 0.08144731, 0.05290779, 0.21483513, 0.16183183])\n",
            " message: 'Optimization terminated successfully.'\n",
            "    nfev: 36\n",
            "     nit: 5\n",
            "    njev: 5\n",
            "  status: 0\n",
            " success: True\n",
            "       x: array([2.24559814e-17, 1.12946039e-01, 0.00000000e+00, 1.24704432e-01,\n",
            "       7.62349529e-01])\n",
            "     fun: 0.15569945403285526\n",
            "     jac: array([0.07255473, 0.08906614, 0.05380847, 0.20857826, 0.16146532])\n",
            " message: 'Optimization terminated successfully.'\n",
            "    nfev: 35\n",
            "     nit: 5\n",
            "    njev: 5\n",
            "  status: 0\n",
            " success: True\n",
            "       x: array([0.00000000e+00, 1.49333762e-01, 3.20257915e-18, 1.07099642e-01,\n",
            "       7.43566596e-01])\n",
            "     fun: 0.15244390991609497\n",
            "     jac: array([0.07338045, 0.09680888, 0.0546213 , 0.20152206, 0.1606399 ])\n",
            " message: 'Optimization terminated successfully.'\n",
            "    nfev: 35\n",
            "     nit: 5\n",
            "    njev: 5\n",
            "  status: 0\n",
            " success: True\n",
            "       x: array([7.91988894e-18, 1.85276872e-01, 0.00000000e+00, 8.88021096e-02,\n",
            "       7.25921019e-01])\n",
            "     fun: 0.1496232989179636\n",
            "     jac: array([0.07413562, 0.10476236, 0.05547228, 0.19405581, 0.15921205])\n",
            " message: 'Optimization terminated successfully.'\n",
            "    nfev: 35\n",
            "     nit: 5\n",
            "    njev: 5\n",
            "  status: 0\n",
            " success: True\n",
            "       x: array([3.06366069e-18, 2.21450273e-01, 7.09579763e-20, 7.08633897e-02,\n",
            "       7.07686337e-01])\n",
            "     fun: 0.14718323056935037\n",
            "     jac: array([0.07536442, 0.10961603, 0.06222154, 0.19005113, 0.15793113])\n",
            " message: 'Optimization terminated successfully.'\n",
            "    nfev: 49\n",
            "     nit: 7\n",
            "    njev: 7\n",
            "  status: 0\n",
            " success: True\n",
            "       x: array([0.        , 0.23758129, 0.01184438, 0.05804751, 0.69252682])\n",
            "     fun: 0.1449702820019094\n",
            "     jac: array([0.07646214, 0.11320368, 0.070429  , 0.18582707, 0.15674879])\n",
            " message: 'Optimization terminated successfully.'\n",
            "    nfev: 49\n",
            "     nit: 7\n",
            "    njev: 7\n",
            "  status: 0\n",
            " success: True\n",
            "       x: array([0.        , 0.24770102, 0.02696175, 0.0459104 , 0.67942683])\n",
            "     fun: 0.14298939060183385\n",
            "     jac: array([0.07741748, 0.11662153, 0.07869827, 0.18096722, 0.15532717])\n",
            " message: 'Optimization terminated successfully.'\n",
            "    nfev: 49\n",
            "     nit: 7\n",
            "    njev: 7\n",
            "  status: 0\n",
            " success: True\n",
            "       x: array([8.39247491e-19, 2.57673156e-01, 4.21045496e-02, 3.36213465e-02,\n",
            "       6.66600948e-01])\n",
            "     fun: 0.14125097610333687\n",
            "     jac: array([0.07835406, 0.12025013, 0.08696925, 0.17598048, 0.15346727])\n",
            " message: 'Optimization terminated successfully.'\n",
            "    nfev: 49\n",
            "     nit: 7\n",
            "    njev: 7\n",
            "  status: 0\n",
            " success: True\n",
            "       x: array([0.        , 0.26869261, 0.05676494, 0.02148358, 0.65305887])\n",
            "     fun: 0.1397629746019123\n",
            "     jac: array([0.07934119, 0.12281575, 0.09538728, 0.17026139, 0.15168392])\n",
            " message: 'Optimization terminated successfully.'\n",
            "    nfev: 42\n",
            "     nit: 6\n",
            "    njev: 6\n",
            "  status: 0\n",
            " success: True\n",
            "       x: array([0.00085397, 0.27606477, 0.072238  , 0.00953195, 0.64131131])\n",
            "     fun: 0.13846327647535303\n",
            "     jac: array([0.08477996, 0.12420998, 0.09952189, 0.1670755 , 0.1505583 ])\n",
            " message: 'Optimization terminated successfully.'\n",
            "    nfev: 42\n",
            "     nit: 6\n",
            "    njev: 6\n",
            "  status: 0\n",
            " success: True\n",
            "       x: array([0.01295195, 0.276659  , 0.07802315, 0.00172262, 0.63064328])\n",
            "     fun: 0.13731718545813834\n",
            "     jac: array([0.09302931, 0.12655414, 0.10543215, 0.17076859, 0.14847706])\n",
            " message: 'Optimization terminated successfully.'\n",
            "    nfev: 35\n",
            "     nit: 5\n",
            "    njev: 5\n",
            "  status: 0\n",
            " success: True\n",
            "       x: array([0.02852259, 0.2736512 , 0.08314861, 0.        , 0.6146776 ])\n",
            "     fun: 0.13638220525220637\n",
            "     jac: array([0.10204975, 0.12876815, 0.11188233, 0.17615079, 0.14602486])\n",
            " message: 'Optimization terminated successfully.'\n",
            "    nfev: 35\n",
            "     nit: 5\n",
            "    njev: 5\n",
            "  status: 0\n",
            " success: True\n",
            "       x: array([4.51783374e-02, 2.68615400e-01, 8.84676703e-02, 1.73472348e-18,\n",
            "       5.97738593e-01])\n",
            "     fun: 0.13566422817545956\n",
            "     jac: array([0.11101108, 0.13082099, 0.11824062, 0.181328  , 0.14330038])\n",
            " message: 'Optimization terminated successfully.'\n",
            "    nfev: 35\n",
            "     nit: 5\n",
            "    njev: 5\n",
            "  status: 0\n",
            " success: True\n",
            "       x: array([6.18082013e-02, 2.63639584e-01, 9.37896104e-02, 9.21571847e-19,\n",
            "       5.80762605e-01])\n",
            "     fun: 0.1351667423969563\n",
            "     jac: array([0.11986137, 0.13269693, 0.12448247, 0.18626915, 0.14030749])\n",
            " message: 'Optimization terminated successfully.'\n",
            "    nfev: 35\n",
            "     nit: 5\n",
            "    njev: 5\n",
            "  status: 0\n",
            " success: True\n",
            "       x: array([7.83981189e-02, 2.58720385e-01, 9.91342451e-02, 5.96311195e-18,\n",
            "       5.63747251e-01])\n",
            "     fun: 0.1348922090269021\n",
            "     jac: array([0.12854569, 0.13437591, 0.13059335, 0.19094381, 0.13705597])\n",
            " message: 'Optimization terminated successfully.'\n",
            "    nfev: 35\n",
            "     nit: 5\n",
            "    njev: 5\n",
            "  status: 0\n",
            " success: True\n",
            "       x: array([0.09492785, 0.25382781, 0.10454287, 0.        , 0.54670147])\n",
            "     fun: 0.1348419535488599\n",
            "     jac: array([0.13700765, 0.1358202 , 0.13657266, 0.19531609, 0.13356722])\n",
            " message: 'Optimization terminated successfully.'\n",
            "    nfev: 35\n",
            "     nit: 5\n",
            "    njev: 5\n",
            "  status: 0\n",
            " success: True\n",
            "       x: array([1.11378313e-01, 2.48855627e-01, 1.10093971e-01, 4.60785923e-19,\n",
            "       5.29672090e-01])\n",
            "     fun: 0.13501598989793995\n",
            "     jac: array([0.1452039 , 0.13693639, 0.14241487, 0.19932114, 0.12989338])\n",
            " message: 'Optimization terminated successfully.'\n",
            "    nfev: 35\n",
            "     nit: 5\n",
            "    njev: 5\n",
            "  status: 0\n",
            " success: True\n",
            "       x: array([0.12778896, 0.24349188, 0.11589514, 0.        , 0.51282402])\n",
            "     fun: 0.1354129137769343\n",
            "     jac: array([0.15317852, 0.13753974, 0.14795354, 0.20281919, 0.12615082])\n",
            " message: 'Optimization terminated successfully.'\n",
            "    nfev: 35\n",
            "     nit: 5\n",
            "    njev: 5\n",
            "  status: 0\n",
            " success: True\n",
            "       x: array([1.44492046e-01, 2.37144809e-01, 1.21818952e-01, 9.48676901e-18,\n",
            "       4.96544193e-01])\n",
            "     fun: 0.13603113593842497\n",
            "     jac: array([0.16109973, 0.13773526, 0.15267678, 0.20577095, 0.12237124])\n",
            " message: 'Optimization terminated successfully.'\n",
            "    nfev: 35\n",
            "     nit: 5\n",
            "    njev: 5\n",
            "  status: 0\n",
            " success: True\n",
            "       x: array([1.62041581e-01, 2.30357126e-01, 1.26876505e-01, 2.82231378e-17,\n",
            "       4.80724789e-01])\n",
            "     fun: 0.13686919992270846\n",
            "     jac: array([0.1688142 , 0.13815358, 0.1566788 , 0.20853075, 0.11828777])\n",
            " message: 'Optimization terminated successfully.'\n",
            "    nfev: 35\n",
            "     nit: 5\n",
            "    njev: 5\n",
            "  status: 0\n",
            " success: True\n",
            "       x: array([1.79776549e-01, 2.25322151e-01, 1.30805459e-01, 1.38235777e-17,\n",
            "       4.64095840e-01])\n",
            "     fun: 0.1379209046617663\n",
            "     jac: array([0.17587594, 0.13843157, 0.16100771, 0.2110803 , 0.11396919])\n",
            " message: 'Optimization terminated successfully.'\n",
            "    nfev: 43\n",
            "     nit: 6\n",
            "    njev: 6\n",
            "  status: 0\n",
            " success: True\n",
            "       x: array([0.19578053, 0.21931614, 0.13745635, 0.        , 0.44744699])\n",
            "     fun: 0.13918288812326302\n",
            "     jac: array([0.18221711, 0.13816324, 0.16588214, 0.21323715, 0.10960025])\n",
            " message: 'Optimization terminated successfully.'\n",
            "    nfev: 49\n",
            "     nit: 7\n",
            "    njev: 7\n",
            "  status: 0\n",
            " success: True\n",
            "       x: array([2.12591471e-01, 2.13821697e-01, 1.42808415e-01, 1.57480366e-17,\n",
            "       4.30778416e-01])\n",
            "     fun: 0.1406489973530674\n",
            "     jac: array([0.18848141, 0.13790688, 0.16965798, 0.21502325, 0.10515214])\n",
            " message: 'Optimization terminated successfully.'\n",
            "    nfev: 49\n",
            "     nit: 7\n",
            "    njev: 7\n",
            "  status: 0\n",
            " success: True\n",
            "       x: array([0.22941783, 0.20835744, 0.14812531, 0.        , 0.41409942])\n",
            "     fun: 0.1423129390119342\n",
            "     jac: array([0.19435776, 0.13746722, 0.17308729, 0.21646789, 0.10065763])\n",
            " message: 'Optimization terminated successfully.'\n",
            "    nfev: 49\n",
            "     nit: 7\n",
            "    njev: 7\n",
            "  status: 0\n",
            " success: True\n",
            "       x: array([2.46279527e-01, 2.02914166e-01, 1.53386040e-01, 7.47591279e-18,\n",
            "       3.97420267e-01])\n",
            "     fun: 0.1441679449248178\n",
            "     jac: array([0.19987186, 0.13685592, 0.17611547, 0.21757507, 0.09614962])\n",
            " message: 'Optimization terminated successfully.'\n",
            "    nfev: 49\n",
            "     nit: 7\n",
            "    njev: 7\n",
            "  status: 0\n",
            " success: True\n",
            "       x: array([2.63263288e-01, 1.97504671e-01, 1.58472446e-01, 3.93971964e-17,\n",
            "       3.80759595e-01])\n",
            "     fun: 0.1462063771160269\n",
            "     jac: array([0.20485881, 0.13608921, 0.17913646, 0.21843069, 0.09160724])\n",
            " message: 'Optimization terminated successfully.'\n",
            "    nfev: 49\n",
            "     nit: 7\n",
            "    njev: 7\n",
            "  status: 0\n",
            " success: True\n",
            "       x: array([2.79833696e-01, 1.91978241e-01, 1.64150484e-01, 3.19026489e-17,\n",
            "       3.64037580e-01])\n",
            "     fun: 0.14842091107452424\n",
            "     jac: array([0.20938545, 0.13525467, 0.18200865, 0.21906773, 0.08703752])\n",
            " message: 'Optimization terminated successfully.'\n",
            "    nfev: 42\n",
            "     nit: 6\n",
            "    njev: 6\n",
            "  status: 0\n",
            " success: True\n",
            "       x: array([0.29612469, 0.18666888, 0.17007811, 0.        , 0.34712832])\n",
            "     fun: 0.15080393187002564\n",
            "     jac: array([0.21365737, 0.13423464, 0.18433908, 0.21936458, 0.082565  ])\n",
            " message: 'Optimization terminated successfully.'\n",
            "    nfev: 42\n",
            "     nit: 6\n",
            "    njev: 6\n",
            "  status: 0\n",
            " success: True\n",
            "       x: array([0.31283422, 0.18122681, 0.17553417, 0.        , 0.33040479])\n",
            "     fun: 0.15334746548491776\n",
            "     jac: array([0.21756885, 0.13310669, 0.18640076, 0.21942202, 0.07814993])\n",
            " message: 'Optimization terminated successfully.'\n",
            "    nfev: 42\n",
            "     nit: 6\n",
            "    njev: 6\n",
            "  status: 0\n",
            " success: True\n",
            "       x: array([0.3295453 , 0.17578441, 0.18098842, 0.        , 0.31368187])\n",
            "     fun: 0.1560436629244619\n",
            "     jac: array([0.22113666, 0.13188615, 0.18820968, 0.21926253, 0.07380689])\n",
            " message: 'Optimization terminated successfully.'\n",
            "    nfev: 42\n",
            "     nit: 6\n",
            "    njev: 6\n",
            "  status: 0\n",
            " success: True\n",
            "       x: array([0.34625834, 0.17034151, 0.18644038, 0.        , 0.29695977])\n",
            "     fun: 0.1588847524606606\n",
            "     jac: array([0.22437909, 0.13058758, 0.18978262, 0.21890826, 0.0695482 ])\n",
            " message: 'Optimization terminated successfully.'\n",
            "    nfev: 42\n",
            "     nit: 6\n",
            "    njev: 6\n",
            "  status: 0\n",
            " success: True\n",
            "       x: array([3.62973666e-01, 1.64897949e-01, 1.91889739e-01, 2.84060969e-17,\n",
            "       2.80238646e-01])\n",
            "     fun: 0.16186310454197145\n",
            "     jac: array([0.22731528, 0.12922463, 0.19113675, 0.21838067, 0.06538392])\n",
            " message: 'Optimization terminated successfully.'\n",
            "    nfev: 42\n",
            "     nit: 6\n",
            "    njev: 6\n",
            "  status: 0\n",
            " success: True\n",
            "       x: array([3.79691382e-01, 1.59453564e-01, 1.97336437e-01, 2.74845251e-17,\n",
            "       2.63518617e-01])\n",
            "     fun: 0.16497128501687458\n",
            "     jac: array([0.22996482, 0.12780993, 0.19228928, 0.21770031, 0.06132212])\n",
            " message: 'Optimization terminated successfully.'\n",
            "    nfev: 42\n",
            "     nit: 6\n",
            "    njev: 6\n",
            "  status: 0\n",
            " success: True\n",
            "       x: array([3.96411351e-01, 1.54008308e-01, 2.02780677e-01, 3.17467949e-18,\n",
            "       2.46799664e-01])\n",
            "     fun: 0.1682020967716341\n",
            "     jac: array([0.23234733, 0.12635506, 0.19325717, 0.21688651, 0.05736894])\n",
            " message: 'Optimization terminated successfully.'\n",
            "    nfev: 42\n",
            "     nit: 6\n",
            "    njev: 6\n",
            "  status: 0\n",
            " success: True\n",
            "       x: array([0.41313328, 0.14856213, 0.20822286, 0.        , 0.23008173])\n",
            "     fun: 0.17154861133098884\n",
            "     jac: array([0.23448211, 0.1248705 , 0.19405693, 0.2159574 , 0.05352882])\n",
            " message: 'Optimization terminated successfully.'\n",
            "    nfev: 42\n",
            "     nit: 6\n",
            "    njev: 6\n",
            "  status: 0\n",
            " success: True\n",
            "       x: array([4.29856576e-01, 1.43115214e-01, 2.13663661e-01, 1.12587619e-17,\n",
            "       2.13364549e-01])\n",
            "     fun: 0.17500419124006533\n",
            "     jac: array([0.23638794, 0.12336569, 0.19470434, 0.21492967, 0.0498047 ])\n",
            " message: 'Optimization terminated successfully.'\n",
            "    nfev: 42\n",
            "     nit: 6\n",
            "    njev: 6\n",
            "  status: 0\n",
            " success: True\n",
            "       x: array([4.46580579e-01, 1.37667820e-01, 2.19103792e-01, 1.16839725e-17,\n",
            "       1.96647810e-01])\n",
            "     fun: 0.17856250465374493\n",
            "     jac: array([0.23808287, 0.12184905, 0.19521437, 0.21381869, 0.04619817])\n",
            " message: 'Optimization terminated successfully.'\n",
            "    nfev: 42\n",
            "     nit: 6\n",
            "    njev: 6\n",
            "  status: 0\n",
            " success: True\n",
            "       x: array([0.46330439, 0.13222058, 0.22454409, 0.        , 0.17993094])\n",
            "     fun: 0.1822175331733683\n",
            "     jac: array([0.23958406, 0.120328  , 0.19560117, 0.21263842, 0.04270974])\n",
            " message: 'Optimization terminated successfully.'\n",
            "    nfev: 42\n",
            "     nit: 6\n",
            "    njev: 6\n",
            "  status: 0\n",
            " success: True\n",
            "       x: array([4.80026978e-01, 1.26774083e-01, 2.29985590e-01, 1.21511111e-17,\n",
            "       1.63213349e-01])\n",
            "     fun: 0.18596357703961727\n",
            "     jac: array([0.24091227, 0.11883758, 0.19586016, 0.21141399, 0.03932839])\n",
            " message: 'Optimization terminated successfully.'\n",
            "    nfev: 42\n",
            "     nit: 6\n",
            "    njev: 6\n",
            "  status: 0\n",
            " success: True\n",
            "       x: array([4.96746305e-01, 1.21476818e-01, 2.35355523e-01, 3.80902246e-17,\n",
            "       1.46421353e-01])\n",
            "     fun: 0.18979526300069918\n",
            "     jac: array([0.24208142, 0.11737748, 0.19600799, 0.21015425, 0.03605496])\n",
            " message: 'Optimization terminated successfully.'\n",
            "    nfev: 42\n",
            "     nit: 6\n",
            "    njev: 6\n",
            "  status: 0\n",
            " success: True\n",
            "       x: array([0.5134599 , 0.11630705, 0.24066811, 0.        , 0.12956494])\n",
            "     fun: 0.19370750924893038\n",
            "     jac: array([0.24310159, 0.11592581, 0.19607227, 0.20885752, 0.03289745])\n",
            " message: 'Optimization terminated successfully.'\n",
            "    nfev: 42\n",
            "     nit: 6\n",
            "    njev: 6\n",
            "  status: 0\n",
            " success: True\n",
            "       x: array([0.53016764, 0.11112956, 0.24599216, 0.        , 0.11271064])\n",
            "     fun: 0.19769553114296806\n",
            "     jac: array([0.24398619, 0.11448672, 0.19606273, 0.20753269, 0.0298535 ])\n",
            " message: 'Optimization terminated successfully.'\n",
            "    nfev: 42\n",
            "     nit: 6\n",
            "    njev: 6\n",
            "  status: 0\n",
            " success: True\n",
            "       x: array([0.54686914, 0.10594487, 0.2513279 , 0.        , 0.09585809])\n",
            "     fun: 0.2017548334143233\n",
            "     jac: array([0.24474767, 0.11306373, 0.19598827, 0.20618759, 0.02692034])\n",
            " message: 'Optimization terminated successfully.'\n",
            "    nfev: 42\n",
            "     nit: 6\n",
            "    njev: 6\n",
            "  status: 0\n",
            " success: True\n",
            "       x: array([5.63564030e-01, 1.00753426e-01, 2.56675574e-01, 1.81620805e-17,\n",
            "       7.90069707e-02])\n",
            "     MinVols  TargetRet\n",
            "22  0.134842   0.112245\n",
            "21  0.134892   0.107143\n",
            "23  0.135016   0.117347\n",
            "20  0.135167   0.102041\n",
            "24  0.135413   0.122449\n",
            "19  0.135664   0.096939\n",
            "25  0.136031   0.127551\n",
            "18  0.136382   0.091837\n",
            "26  0.136869   0.132653\n",
            "17  0.137317   0.086735\n",
            "27  0.137921   0.137755\n",
            "16  0.138463   0.081633\n",
            "28  0.139183   0.142857\n",
            "15  0.139763   0.076531\n",
            "29  0.140649   0.147959\n",
            "14  0.141251   0.071429\n",
            "30  0.142313   0.153061\n",
            "13  0.142989   0.066327\n",
            "31  0.144168   0.158163\n",
            "12  0.144970   0.061224\n",
            "32  0.146206   0.163265\n",
            "11  0.147183   0.056122\n",
            "33  0.148421   0.168367\n",
            "10  0.149623   0.051020\n",
            "34  0.150804   0.173469\n",
            "9   0.152444   0.045918\n",
            "35  0.153347   0.178571\n",
            "8   0.155699   0.040816\n",
            "36  0.156044   0.183673\n",
            "37  0.158885   0.188776\n",
            "7   0.159363   0.035714\n",
            "38  0.161863   0.193878\n",
            "6   0.163407   0.030612\n",
            "39  0.164971   0.198980\n",
            "5   0.167805   0.025510\n",
            "40  0.168202   0.204082\n",
            "41  0.171549   0.209184\n",
            "4   0.172529   0.020408\n",
            "42  0.175004   0.214286\n",
            "43  0.178563   0.219388\n",
            "3   0.179679   0.015306\n",
            "44  0.182218   0.224490\n",
            "45  0.185964   0.229592\n",
            "46  0.189795   0.234694\n",
            "2   0.192121   0.010204\n",
            "47  0.193708   0.239796\n",
            "48  0.197696   0.244898\n",
            "49  0.201755   0.250000\n",
            "1   0.208946   0.005102\n",
            "0   0.229191   0.000000\n",
            "predicted volatility=  [0.188776]\n",
            "required return=  [0.15888503]\n",
            "Final Weights=  [0.36297529 0.16489741 0.19189025 0.         0.28023705]\n"
          ],
          "name": "stdout"
        },
        {
          "output_type": "execute_result",
          "data": {
            "text/plain": [
              "<matplotlib.collections.PathCollection at 0x7fd7fcfb0ba8>"
            ]
          },
          "metadata": {
            "tags": []
          },
          "execution_count": 33
        },
        {
          "output_type": "display_data",
          "data": {
            "text/plain": [
              "<Figure size 432x288 with 0 Axes>"
            ]
          },
          "metadata": {
            "tags": []
          }
        },
        {
          "output_type": "display_data",
          "data": {
            "image/png": "[encoded data removed]",
            "text/plain": [
              "<Figure size 648x432 with 1 Axes>"
            ]
          },
          "metadata": {
            "tags": [],
            "needs_background": "light"
          }
        }
      ]
    },
    {
      "cell_type": "code",
      "metadata": {
        "id": "17kxzN9PvynC",
        "colab_type": "code",
        "colab": {}
      },
      "source": [
        "w5 = FinalWeights"
      ],
      "execution_count": 34,
      "outputs": []
    },
    {
      "cell_type": "markdown",
      "metadata": {
        "id": "nSTwCC0RtdzA",
        "colab_type": "text"
      },
      "source": [
        "# Summary of Results"
      ]
    },
    {
      "cell_type": "code",
      "metadata": {
        "id": "CRG7kzfJp_sO",
        "colab_type": "code",
        "colab": {
          "base_uri": "https://localhost:8080/",
          "height": 189
        },
        "outputId": "193cf72a-c73e-4d3f-96a3-d84ecb6b8eee"
      },
      "source": [
        "dict = {'program 1': w1, 'program 2': w2, 'program 3': w3, 'program 4':w4, 'program 5': w5}\n",
        "df = pd.DataFrame(dict, index =list(data.columns))\n",
        "df"
      ],
      "execution_count": 36,
      "outputs": [
        {
          "output_type": "execute_result",
          "data": {
            "text/html": [
              "<div>\n",
              "<style scoped>\n",
              "    .dataframe tbody tr th:only-of-type {\n",
              "        vertical-align: middle;\n",
              "    }\n",
              "\n",
              "    .dataframe tbody tr th {\n",
              "        vertical-align: top;\n",
              "    }\n",
              "\n",
              "    .dataframe thead th {\n",
              "        text-align: right;\n",
              "    }\n",
              "</style>\n",
              "<table border=\"1\" class=\"dataframe\">\n",
              "  <thead>\n",
              "    <tr style=\"text-align: right;\">\n",
              "      <th></th>\n",
              "      <th>program 1</th>\n",
              "      <th>program 2</th>\n",
              "      <th>program 3</th>\n",
              "      <th>program 4</th>\n",
              "      <th>program 5</th>\n",
              "    </tr>\n",
              "  </thead>\n",
              "  <tbody>\n",
              "    <tr>\n",
              "      <th>AAPL</th>\n",
              "      <td>0.008995</td>\n",
              "      <td>5.635640e-01</td>\n",
              "      <td>0.107</td>\n",
              "      <td>0.615</td>\n",
              "      <td>0.362975</td>\n",
              "    </tr>\n",
              "    <tr>\n",
              "      <th>MSFT</th>\n",
              "      <td>0.276508</td>\n",
              "      <td>1.007534e-01</td>\n",
              "      <td>0.248</td>\n",
              "      <td>0.083</td>\n",
              "      <td>0.164897</td>\n",
              "    </tr>\n",
              "    <tr>\n",
              "      <th>YHOO</th>\n",
              "      <td>0.076239</td>\n",
              "      <td>2.566756e-01</td>\n",
              "      <td>0.109</td>\n",
              "      <td>0.274</td>\n",
              "      <td>0.191890</td>\n",
              "    </tr>\n",
              "    <tr>\n",
              "      <th>DB</th>\n",
              "      <td>0.004152</td>\n",
              "      <td>1.816208e-17</td>\n",
              "      <td>0.000</td>\n",
              "      <td>0.000</td>\n",
              "      <td>0.000000</td>\n",
              "    </tr>\n",
              "    <tr>\n",
              "      <th>GLD</th>\n",
              "      <td>0.634105</td>\n",
              "      <td>7.900697e-02</td>\n",
              "      <td>0.536</td>\n",
              "      <td>0.028</td>\n",
              "      <td>0.280237</td>\n",
              "    </tr>\n",
              "  </tbody>\n",
              "</table>\n",
              "</div>"
            ],
            "text/plain": [
              "      program 1     program 2  program 3  program 4  program 5\n",
              "AAPL   0.008995  5.635640e-01      0.107      0.615   0.362975\n",
              "MSFT   0.276508  1.007534e-01      0.248      0.083   0.164897\n",
              "YHOO   0.076239  2.566756e-01      0.109      0.274   0.191890\n",
              "DB     0.004152  1.816208e-17      0.000      0.000   0.000000\n",
              "GLD    0.634105  7.900697e-02      0.536      0.028   0.280237"
            ]
          },
          "metadata": {
            "tags": []
          },
          "execution_count": 36
        }
      ]
    },
    {
      "cell_type": "code",
      "metadata": {
        "id": "P0lF5E1WrCYD",
        "colab_type": "code",
        "colab": {}
      },
      "source": [
        "x_axis = np.arange(0, 1, 0.01)"
      ],
      "execution_count": 37,
      "outputs": []
    },
    {
      "cell_type": "code",
      "metadata": {
        "id": "MOowyGSuq2B6",
        "colab_type": "code",
        "colab": {
          "base_uri": "https://localhost:8080/",
          "height": 283
        },
        "outputId": "9cc8315d-3344-4127-f891-d3f01b8ff73d"
      },
      "source": [
        "plt.scatter(df.index, df['program 1'], label='Program 1')\n",
        "plt.scatter(df.index, df['program 2'], label='Program 2')\n",
        "plt.scatter(df.index, df['program 3'], label='Program 3')\n",
        "plt.scatter(df.index, df['program 4'], label='Program 4')\n",
        "plt.scatter(df.index, df['program 5'], label='Program 5')\n",
        "\n",
        "plt.legend()"
      ],
      "execution_count": 38,
      "outputs": [
        {
          "output_type": "execute_result",
          "data": {
            "text/plain": [
              "<matplotlib.legend.Legend at 0x7fd7fce51860>"
            ]
          },
          "metadata": {
            "tags": []
          },
          "execution_count": 38
        },
        {
          "output_type": "display_data",
          "data": {
            "image/png": "[encoded data removed]",
            "text/plain": [
              "<Figure size 432x288 with 1 Axes>"
            ]
          },
          "metadata": {
            "tags": [],
            "needs_background": "light"
          }
        }
      ]
    },
    {
      "cell_type": "code",
      "metadata": {
        "id": "srKRdj-hqU8j",
        "colab_type": "code",
        "colab": {
          "base_uri": "https://localhost:8080/",
          "height": 283
        },
        "outputId": "29fdf1ac-cd2b-42ca-b2fa-1368463ee485"
      },
      "source": [
        "plt.scatter(df.columns, df.iloc[0], label='AAPL')\n",
        "plt.scatter(df.columns, df.iloc[1], label='MSFT')\n",
        "plt.scatter(df.columns, df.iloc[2], label='YHOO')\n",
        "plt.scatter(df.columns, df.iloc[3], label='DB')\n",
        "plt.scatter(df.columns, df.iloc[4], label='GLD')\n",
        "plt.legend()"
      ],
      "execution_count": 39,
      "outputs": [
        {
          "output_type": "execute_result",
          "data": {
            "text/plain": [
              "<matplotlib.legend.Legend at 0x7fd7fcdff518>"
            ]
          },
          "metadata": {
            "tags": []
          },
          "execution_count": 39
        },
        {
          "output_type": "display_data",
          "data": {
            "image/png": "[encoded data removed]",
            "text/plain": [
              "<Figure size 432x288 with 1 Axes>"
            ]
          },
          "metadata": {
            "tags": [],
            "needs_background": "light"
          }
        }
      ]
    },
    {
      "cell_type": "code",
      "metadata": {
        "id": "d7ywC1cawKDf",
        "colab_type": "code",
        "colab": {}
      },
      "source": [
        "df_dates = list(data.index)\n",
        "df_dates = np.array(df_dates)"
      ],
      "execution_count": 40,
      "outputs": []
    },
    {
      "cell_type": "code",
      "metadata": {
        "id": "suUVbdpgwQax",
        "colab_type": "code",
        "colab": {
          "base_uri": "https://localhost:8080/",
          "height": 88
        },
        "outputId": "373013a9-4f53-4553-fc71-5384dd4f42e4"
      },
      "source": [
        "data.index[0:len(data):100]"
      ],
      "execution_count": 41,
      "outputs": [
        {
          "output_type": "execute_result",
          "data": {
            "text/plain": [
              "Index(['2010-01-04', '2010-05-27', '2010-10-19', '2011-03-14', '2011-08-04',\n",
              "       '2011-12-27', '2012-05-21', '2012-10-11', '2013-03-11', '2013-08-01',\n",
              "       '2013-12-23', '2014-05-19'],\n",
              "      dtype='object', name='Date')"
            ]
          },
          "metadata": {
            "tags": []
          },
          "execution_count": 41
        }
      ]
    },
    {
      "cell_type": "code",
      "metadata": {
        "id": "lkK4Xke6qkra",
        "colab_type": "code",
        "colab": {
          "base_uri": "https://localhost:8080/",
          "height": 555
        },
        "outputId": "df0749f5-f398-4f6e-bf1c-89524179dde8"
      },
      "source": [
        "plt.figure(figsize = (18,9))\n",
        "plt.plot(df_dates, data['DB'], label='DB')\n",
        "plt.plot(df_dates, data['AAPL'], label='AAPL')\n",
        "plt.plot(df_dates, data['GLD'], label='GLD')\n",
        "plt.plot(df_dates, data['MSFT'], label='MSFT')\n",
        "plt.plot(df_dates, data['YHOO'], label='YHOO')\n",
        "\n",
        "plt.xticks(np.arange(0,len(data),200), data.index[0:len(data):100])\n",
        "\n",
        "plt.legend()\n",
        "\n",
        "\n"
      ],
      "execution_count": 42,
      "outputs": [
        {
          "output_type": "execute_result",
          "data": {
            "text/plain": [
              "<matplotlib.legend.Legend at 0x7fd7fcd61ac8>"
            ]
          },
          "metadata": {
            "tags": []
          },
          "execution_count": 42
        },
        {
          "output_type": "display_data",
          "data": {
            "image/png": "[encoded data removed]",
            "text/plain": [
              "<Figure size 1296x648 with 1 Axes>"
            ]
          },
          "metadata": {
            "tags": [],
            "needs_background": "light"
          }
        }
      ]
    },
    {
      "cell_type": "code",
      "metadata": {
        "id": "hKwmETrItSz-",
        "colab_type": "code",
        "colab": {}
      },
      "source": [
        ""
      ],
      "execution_count": null,
      "outputs": []
    }
  ]
}