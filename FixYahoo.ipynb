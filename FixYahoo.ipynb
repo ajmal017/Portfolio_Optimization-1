{
  "nbformat": 4,
  "nbformat_minor": 0,
  "metadata": {
    "colab": {
      "name": "FixYahoo.ipynb",
      "provenance": [],
      "authorship_tag": "ABX9TyOlDJh0KnRIoeJlSmPDE530",
      "include_colab_link": true
    },
    "kernelspec": {
      "name": "python3",
      "display_name": "Python 3"
    }
  },
  "cells": [
    {
      "cell_type": "markdown",
      "metadata": {
        "id": "view-in-github",
        "colab_type": "text"
      },
      "source": [
        "<a href=\"https://colab.research.google.com/github/armandordorica/Portfolio_Optimization/blob/master/FixYahoo.ipynb\" target=\"_parent\"><img src=\"https://colab.research.google.com/assets/colab-badge.svg\" alt=\"Open In Colab\"/></a>"
      ]
    },
    {
      "cell_type": "code",
      "metadata": {
        "id": "KsCs3QQaubU4",
        "colab_type": "code",
        "colab": {
          "base_uri": "https://localhost:8080/",
          "height": 342
        },
        "outputId": "cb5ce4da-3d16-4dd1-85e6-246ce60dab43"
      },
      "source": [
        "pip install yfinance"
      ],
      "execution_count": 1,
      "outputs": [
        {
          "output_type": "stream",
          "text": [
            "Collecting yfinance\n",
            "  Downloading https://files.pythonhosted.org/packages/c2/31/8b374a12b90def92a4e27d0fc595fc43635f395984e36a075244d98bd265/yfinance-0.1.54.tar.gz\n",
            "Requirement already satisfied: pandas>=0.24 in /usr/local/lib/python3.6/dist-packages (from yfinance) (1.0.5)\n",
            "Requirement already satisfied: numpy>=1.15 in /usr/local/lib/python3.6/dist-packages (from yfinance) (1.18.5)\n",
            "Requirement already satisfied: requests>=2.20 in /usr/local/lib/python3.6/dist-packages (from yfinance) (2.23.0)\n",
            "Requirement already satisfied: multitasking>=0.0.7 in /usr/local/lib/python3.6/dist-packages (from yfinance) (0.0.9)\n",
            "Requirement already satisfied: pytz>=2017.2 in /usr/local/lib/python3.6/dist-packages (from pandas>=0.24->yfinance) (2018.9)\n",
            "Requirement already satisfied: python-dateutil>=2.6.1 in /usr/local/lib/python3.6/dist-packages (from pandas>=0.24->yfinance) (2.8.1)\n",
            "Requirement already satisfied: certifi>=2017.4.17 in /usr/local/lib/python3.6/dist-packages (from requests>=2.20->yfinance) (2020.6.20)\n",
            "Requirement already satisfied: urllib3!=1.25.0,!=1.25.1,<1.26,>=1.21.1 in /usr/local/lib/python3.6/dist-packages (from requests>=2.20->yfinance) (1.24.3)\n",
            "Requirement already satisfied: idna<3,>=2.5 in /usr/local/lib/python3.6/dist-packages (from requests>=2.20->yfinance) (2.9)\n",
            "Requirement already satisfied: chardet<4,>=3.0.2 in /usr/local/lib/python3.6/dist-packages (from requests>=2.20->yfinance) (3.0.4)\n",
            "Requirement already satisfied: six>=1.5 in /usr/local/lib/python3.6/dist-packages (from python-dateutil>=2.6.1->pandas>=0.24->yfinance) (1.12.0)\n",
            "Building wheels for collected packages: yfinance\n",
            "  Building wheel for yfinance (setup.py) ... \u001b[?25l\u001b[?25hdone\n",
            "  Created wheel for yfinance: filename=yfinance-0.1.54-py2.py3-none-any.whl size=22409 sha256=68a91e04934910094aa2da7aaa6e1dd28be581e2c5e4b6a234fdd2077674afbb\n",
            "  Stored in directory: /root/.cache/pip/wheels/f9/e3/5b/ec24dd2984b12d61e0abf26289746c2436a0e7844f26f2515c\n",
            "Successfully built yfinance\n",
            "Installing collected packages: yfinance\n",
            "Successfully installed yfinance-0.1.54\n"
          ],
          "name": "stdout"
        }
      ]
    },
    {
      "cell_type": "code",
      "metadata": {
        "id": "KE8pAk06K0DQ",
        "colab_type": "code",
        "colab": {
          "base_uri": "https://localhost:8080/",
          "height": 70
        },
        "outputId": "6095c0b2-9688-4947-db09-77c95b867ed3"
      },
      "source": [
        "\n",
        "import pandas as pd\n",
        "pd.core.common.is_list_like = pd.api.types.is_list_like #datareader problem probably fixed in next version of datareader\n",
        "from pandas_datareader import data as pdr\n",
        "import datetime"
      ],
      "execution_count": 9,
      "outputs": [
        {
          "output_type": "stream",
          "text": [
            "/usr/local/lib/python3.6/dist-packages/pandas_datareader/compat/__init__.py:7: FutureWarning: pandas.util.testing is deprecated. Use the functions in the public API at pandas.testing instead.\n",
            "  from pandas.util.testing import assert_frame_equal\n"
          ],
          "name": "stderr"
        }
      ]
    },
    {
      "cell_type": "code",
      "metadata": {
        "id": "yc0xpMIvZm0L",
        "colab_type": "code",
        "colab": {}
      },
      "source": [
        "import yfinance as yf\n",
        "yf.pdr_override() # <== that's all it takes :-)"
      ],
      "execution_count": 10,
      "outputs": []
    },
    {
      "cell_type": "code",
      "metadata": {
        "id": "eviRrzf0Zqxj",
        "colab_type": "code",
        "colab": {
          "base_uri": "https://localhost:8080/",
          "height": 66
        },
        "outputId": "93418f26-8b30-4f8b-cd16-275b119ff4e6"
      },
      "source": [
        "# Example1\n",
        "# download dataframe\n",
        "data = pdr.get_data_yahoo(\"SPY\", start=\"2017-01-01\", end=\"2017-04-30\")\n",
        "# download Panel\n",
        "data2 = pdr.get_data_yahoo([\"SPY\", \"IWM\"], start=\"2017-01-01\", end=\"2017-04-30\")\n",
        "\n",
        "# example2\n",
        "start = datetime.datetime(2017, 1, 1)\n",
        "end = datetime.datetime.now()\n",
        "symbol = 'SPY'\n",
        "data = pdr.get_data_yahoo(symbol, start=start, end=end)\n",
        "data.to_csv(\"YahooSPY.csv\")\n"
      ],
      "execution_count": 14,
      "outputs": [
        {
          "output_type": "stream",
          "text": [
            "[*********************100%***********************]  1 of 1 completed\n",
            "[*********************100%***********************]  2 of 2 completed\n",
            "[*********************100%***********************]  1 of 1 completed\n"
          ],
          "name": "stdout"
        }
      ]
    },
    {
      "cell_type": "code",
      "metadata": {
        "id": "J4HhkR7HZ6Ue",
        "colab_type": "code",
        "colab": {
          "base_uri": "https://localhost:8080/",
          "height": 33
        },
        "outputId": "e389173d-9d2c-44f5-9512-bd7a03a5ca1b"
      },
      "source": [
        "ls"
      ],
      "execution_count": 13,
      "outputs": [
        {
          "output_type": "stream",
          "text": [
            "\u001b[0m\u001b[01;34msample_data\u001b[0m/  YahooSPY.csv\n"
          ],
          "name": "stdout"
        }
      ]
    },
    {
      "cell_type": "code",
      "metadata": {
        "id": "zS5TGiLCaDDI",
        "colab_type": "code",
        "colab": {}
      },
      "source": [
        "# Dow Jones Index + TLT:\n",
        "StockList = ['AXP', 'AAPL', 'BA','CAT','CVX','CSCO','KO','DIS','XOM','GS', 'HD', 'IBM','INTC','JNJ','JPM','MCD','MRK','MSFT','NKE','PFE', 'PG', 'TRV','UTX','UNH', 'VZ','V','WMT','WBA', 'TLT']\n",
        "# Dow Jones Index:\n",
        "StockList = ['AXP', 'AAPL', 'BA','CAT','CVX','CSCO','KO','DIS','XOM','GS', 'HD', 'IBM','INTC','JNJ','JPM','MCD','MRK','MSFT','NKE','PFE', 'PG', 'TRV','UTX','UNH', 'VZ','V','WMT','WBA']\n",
        "\n",
        "#21 industrial sectors+ TLT:\n",
        "StockList = [\"FDN\",\"IBB\",\"IEZ\",\"IGV\",\"IHE\",\"IHF\",\"IHI\",\"ITA\",\"ITB\",\"IYJ\",\"IYT\",\"IYW\",\"IYZ\",\"KBE\",\"KCE\",\"KIE\",\"PBJ\",\"PBS\",\"SMH\",\"VNQ\",\"TLT\"]\n",
        "#21 industrial sectors:\n",
        "StockList = [\"FDN\",\"IBB\",\"IEZ\",\"IGV\",\"IHE\",\"IHF\",\"IHI\",\"ITA\",\"ITB\",\"IYJ\",\"IYT\",\"IYW\",\"IYZ\",\"KBE\",\"KCE\",\"KIE\",\"PBJ\",\"PBS\",\"SMH\",\"VNQ\"]\n",
        "\n",
        "#10 sectors + TLT:\n",
        "StockList = [\"XLB\",\"XLE\", \"XLF\", \"XLI\", \"XLK\", \"XLP\", \"XLU\", \"XLV\", \"XLY\", \"XTR\", \"TLT\"] \n",
        "#10 sectors:\n",
        "StockList = [\"XLB\",\"XLE\", \"XLF\", \"XLI\", \"XLK\", \"XLP\", \"XLU\", \"XLV\", \"XLY\", \"XTR\"] \n",
        "\n",
        "#Bond etfs:\n",
        "stock_list = [\"BIL\",\"TIP\",\"IEI\",\"IEF\",\"TLH\",\"TLT\",\"SHY\"] \n",
        "\n",
        "#our ETF list + SHY:\n",
        "stock_list = [\"FDN\",\"IBB\",\"IEZ\",\"IGV\",\"IHE\",\"IHF\",\"IHI\",\"ITA\",\"ITB\",\"IYJ\",\"IYT\",\"IYW\",\"IYZ\",\"KBE\",\"KCE\",\"KIE\",\"PBJ\",\"PBS\",\"SMH\",\"VNQ\",\"SHY\"]"
      ],
      "execution_count": 15,
      "outputs": []
    },
    {
      "cell_type": "code",
      "metadata": {
        "id": "bYppDJX_aIsC",
        "colab_type": "code",
        "colab": {}
      },
      "source": [
        "stock_list = [\"SPY\", \"TLT\"]  #********************************************************this is good\n"
      ],
      "execution_count": 16,
      "outputs": []
    },
    {
      "cell_type": "code",
      "metadata": {
        "id": "5GNUpFX-bQ_k",
        "colab_type": "code",
        "colab": {}
      },
      "source": [
        "\n",
        "stock_str = \"\"\n",
        "for i in range(len(stock_list)):\n",
        "    stock_str  = stock_str + stock_list[i] + \".\""
      ],
      "execution_count": 18,
      "outputs": []
    },
    {
      "cell_type": "code",
      "metadata": {
        "id": "iq2F6fxebSYA",
        "colab_type": "code",
        "colab": {}
      },
      "source": [
        "main_df = pd.DataFrame()\n"
      ],
      "execution_count": 19,
      "outputs": []
    },
    {
      "cell_type": "code",
      "metadata": {
        "id": "6qdh16l2bUtk",
        "colab_type": "code",
        "colab": {
          "base_uri": "https://localhost:8080/",
          "height": 33
        },
        "outputId": "d6b4499d-ff17-46a2-c04e-c00612221131"
      },
      "source": [
        "start_date"
      ],
      "execution_count": 20,
      "outputs": [
        {
          "output_type": "execute_result",
          "data": {
            "text/plain": [
              "datetime.datetime(2009, 1, 30, 0, 0)"
            ]
          },
          "metadata": {
            "tags": []
          },
          "execution_count": 20
        }
      ]
    },
    {
      "cell_type": "code",
      "metadata": {
        "id": "Mhs-mLFLbWGK",
        "colab_type": "code",
        "colab": {}
      },
      "source": [
        "end_date = datetime.datetime.now()"
      ],
      "execution_count": 23,
      "outputs": []
    },
    {
      "cell_type": "code",
      "metadata": {
        "id": "zfe6hByMbc_o",
        "colab_type": "code",
        "colab": {
          "base_uri": "https://localhost:8080/",
          "height": 50
        },
        "outputId": "73f0d7bf-a383-4cbc-a337-a538b3bd5392"
      },
      "source": [
        "\n",
        "for stock in range(len(stock_list)):\n",
        "     df = pdr.get_data_yahoo(stock_list[stock], start=start_date, end=end_date)\n",
        "     df.drop(['Close','High', 'Low' , 'Open', 'Volume'], axis=1, inplace=True)\n",
        "     df.rename(columns={'Adj Close': stock_list[stock]}, inplace=True)\n",
        "     if main_df.empty:\n",
        "         main_df = df\n",
        "     else:\n",
        "        main_df = main_df.join(df) "
      ],
      "execution_count": 24,
      "outputs": [
        {
          "output_type": "stream",
          "text": [
            "[*********************100%***********************]  1 of 1 completed\n",
            "[*********************100%***********************]  1 of 1 completed\n"
          ],
          "name": "stdout"
        }
      ]
    },
    {
      "cell_type": "code",
      "metadata": {
        "id": "W3ALCMssbd_R",
        "colab_type": "code",
        "colab": {
          "base_uri": "https://localhost:8080/",
          "height": 420
        },
        "outputId": "247ad9b8-c0dc-4a25-fb9c-8ef6c925f432"
      },
      "source": [
        "main_df"
      ],
      "execution_count": 25,
      "outputs": [
        {
          "output_type": "execute_result",
          "data": {
            "text/html": [
              "<div>\n",
              "<style scoped>\n",
              "    .dataframe tbody tr th:only-of-type {\n",
              "        vertical-align: middle;\n",
              "    }\n",
              "\n",
              "    .dataframe tbody tr th {\n",
              "        vertical-align: top;\n",
              "    }\n",
              "\n",
              "    .dataframe thead th {\n",
              "        text-align: right;\n",
              "    }\n",
              "</style>\n",
              "<table border=\"1\" class=\"dataframe\">\n",
              "  <thead>\n",
              "    <tr style=\"text-align: right;\">\n",
              "      <th></th>\n",
              "      <th>SPY</th>\n",
              "      <th>TLT</th>\n",
              "    </tr>\n",
              "    <tr>\n",
              "      <th>Date</th>\n",
              "      <th></th>\n",
              "      <th></th>\n",
              "    </tr>\n",
              "  </thead>\n",
              "  <tbody>\n",
              "    <tr>\n",
              "      <th>2009-01-30</th>\n",
              "      <td>65.606117</td>\n",
              "      <td>74.425117</td>\n",
              "    </tr>\n",
              "    <tr>\n",
              "      <th>2009-02-02</th>\n",
              "      <td>65.408081</td>\n",
              "      <td>75.809845</td>\n",
              "    </tr>\n",
              "    <tr>\n",
              "      <th>2009-02-03</th>\n",
              "      <td>66.326889</td>\n",
              "      <td>74.004288</td>\n",
              "    </tr>\n",
              "    <tr>\n",
              "      <th>2009-02-04</th>\n",
              "      <td>66.002136</td>\n",
              "      <td>73.745323</td>\n",
              "    </tr>\n",
              "    <tr>\n",
              "      <th>2009-02-05</th>\n",
              "      <td>66.984314</td>\n",
              "      <td>73.810089</td>\n",
              "    </tr>\n",
              "    <tr>\n",
              "      <th>...</th>\n",
              "      <td>...</td>\n",
              "      <td>...</td>\n",
              "    </tr>\n",
              "    <tr>\n",
              "      <th>2020-06-24</th>\n",
              "      <td>304.089996</td>\n",
              "      <td>163.029999</td>\n",
              "    </tr>\n",
              "    <tr>\n",
              "      <th>2020-06-25</th>\n",
              "      <td>307.350006</td>\n",
              "      <td>163.500000</td>\n",
              "    </tr>\n",
              "    <tr>\n",
              "      <th>2020-06-26</th>\n",
              "      <td>300.049988</td>\n",
              "      <td>165.250000</td>\n",
              "    </tr>\n",
              "    <tr>\n",
              "      <th>2020-06-29</th>\n",
              "      <td>304.459991</td>\n",
              "      <td>164.729996</td>\n",
              "    </tr>\n",
              "    <tr>\n",
              "      <th>2020-06-30</th>\n",
              "      <td>308.359985</td>\n",
              "      <td>163.929993</td>\n",
              "    </tr>\n",
              "  </tbody>\n",
              "</table>\n",
              "<p>2874 rows × 2 columns</p>\n",
              "</div>"
            ],
            "text/plain": [
              "                   SPY         TLT\n",
              "Date                              \n",
              "2009-01-30   65.606117   74.425117\n",
              "2009-02-02   65.408081   75.809845\n",
              "2009-02-03   66.326889   74.004288\n",
              "2009-02-04   66.002136   73.745323\n",
              "2009-02-05   66.984314   73.810089\n",
              "...                ...         ...\n",
              "2020-06-24  304.089996  163.029999\n",
              "2020-06-25  307.350006  163.500000\n",
              "2020-06-26  300.049988  165.250000\n",
              "2020-06-29  304.459991  164.729996\n",
              "2020-06-30  308.359985  163.929993\n",
              "\n",
              "[2874 rows x 2 columns]"
            ]
          },
          "metadata": {
            "tags": []
          },
          "execution_count": 25
        }
      ]
    },
    {
      "cell_type": "code",
      "metadata": {
        "id": "ex76hnt2bhqx",
        "colab_type": "code",
        "colab": {}
      },
      "source": [
        "main_df.to_csv(stock_str+\"AP.csv\")\n"
      ],
      "execution_count": 27,
      "outputs": []
    },
    {
      "cell_type": "code",
      "metadata": {
        "id": "EqT75vwgbj0H",
        "colab_type": "code",
        "colab": {
          "base_uri": "https://localhost:8080/",
          "height": 33
        },
        "outputId": "eb4fb0ab-c399-48ec-aa3a-5ab2f85a9fcd"
      },
      "source": [
        "ls"
      ],
      "execution_count": 28,
      "outputs": [
        {
          "output_type": "stream",
          "text": [
            "\u001b[0m\u001b[01;34msample_data\u001b[0m/  SPY.TLT.AP.csv  YahooSPY.csv\n"
          ],
          "name": "stdout"
        }
      ]
    },
    {
      "cell_type": "code",
      "metadata": {
        "id": "iqrpIu9Dbp6a",
        "colab_type": "code",
        "colab": {
          "base_uri": "https://localhost:8080/",
          "height": 50
        },
        "outputId": "15422956-ae95-44ee-8e86-c08eafa88921"
      },
      "source": [
        "\n",
        "main_df = pd.DataFrame()\n",
        "\n",
        "for stock in range(len(stock_list)):\n",
        "     df = pdr.get_data_yahoo(stock_list[stock], start=start_date, end=end_date)\n",
        "     df.drop(['Adj Close','High', 'Low' , 'Open', 'Volume'], axis=1, inplace=True)\n",
        "     df.rename(columns={'Close': stock_list[stock]}, inplace=True)\n",
        "     if main_df.empty:\n",
        "         main_df = df\n",
        "     else:\n",
        "        main_df = main_df.join(df) "
      ],
      "execution_count": 29,
      "outputs": [
        {
          "output_type": "stream",
          "text": [
            "[*********************100%***********************]  1 of 1 completed\n",
            "[*********************100%***********************]  1 of 1 completed\n"
          ],
          "name": "stdout"
        }
      ]
    },
    {
      "cell_type": "code",
      "metadata": {
        "id": "CYpaqf6TbsAX",
        "colab_type": "code",
        "colab": {
          "base_uri": "https://localhost:8080/",
          "height": 420
        },
        "outputId": "48d92e91-44dd-4c33-ac24-0a1a865c49a3"
      },
      "source": [
        "main_df"
      ],
      "execution_count": 30,
      "outputs": [
        {
          "output_type": "execute_result",
          "data": {
            "text/html": [
              "<div>\n",
              "<style scoped>\n",
              "    .dataframe tbody tr th:only-of-type {\n",
              "        vertical-align: middle;\n",
              "    }\n",
              "\n",
              "    .dataframe tbody tr th {\n",
              "        vertical-align: top;\n",
              "    }\n",
              "\n",
              "    .dataframe thead th {\n",
              "        text-align: right;\n",
              "    }\n",
              "</style>\n",
              "<table border=\"1\" class=\"dataframe\">\n",
              "  <thead>\n",
              "    <tr style=\"text-align: right;\">\n",
              "      <th></th>\n",
              "      <th>SPY</th>\n",
              "      <th>TLT</th>\n",
              "    </tr>\n",
              "    <tr>\n",
              "      <th>Date</th>\n",
              "      <th></th>\n",
              "      <th></th>\n",
              "    </tr>\n",
              "  </thead>\n",
              "  <tbody>\n",
              "    <tr>\n",
              "      <th>2009-01-30</th>\n",
              "      <td>82.830002</td>\n",
              "      <td>103.750000</td>\n",
              "    </tr>\n",
              "    <tr>\n",
              "      <th>2009-02-02</th>\n",
              "      <td>82.580002</td>\n",
              "      <td>105.389999</td>\n",
              "    </tr>\n",
              "    <tr>\n",
              "      <th>2009-02-03</th>\n",
              "      <td>83.739998</td>\n",
              "      <td>102.879997</td>\n",
              "    </tr>\n",
              "    <tr>\n",
              "      <th>2009-02-04</th>\n",
              "      <td>83.330002</td>\n",
              "      <td>102.519997</td>\n",
              "    </tr>\n",
              "    <tr>\n",
              "      <th>2009-02-05</th>\n",
              "      <td>84.570000</td>\n",
              "      <td>102.610001</td>\n",
              "    </tr>\n",
              "    <tr>\n",
              "      <th>...</th>\n",
              "      <td>...</td>\n",
              "      <td>...</td>\n",
              "    </tr>\n",
              "    <tr>\n",
              "      <th>2020-06-24</th>\n",
              "      <td>304.089996</td>\n",
              "      <td>163.029999</td>\n",
              "    </tr>\n",
              "    <tr>\n",
              "      <th>2020-06-25</th>\n",
              "      <td>307.350006</td>\n",
              "      <td>163.500000</td>\n",
              "    </tr>\n",
              "    <tr>\n",
              "      <th>2020-06-26</th>\n",
              "      <td>300.049988</td>\n",
              "      <td>165.250000</td>\n",
              "    </tr>\n",
              "    <tr>\n",
              "      <th>2020-06-29</th>\n",
              "      <td>304.459991</td>\n",
              "      <td>164.729996</td>\n",
              "    </tr>\n",
              "    <tr>\n",
              "      <th>2020-06-30</th>\n",
              "      <td>308.359985</td>\n",
              "      <td>163.929993</td>\n",
              "    </tr>\n",
              "  </tbody>\n",
              "</table>\n",
              "<p>2874 rows × 2 columns</p>\n",
              "</div>"
            ],
            "text/plain": [
              "                   SPY         TLT\n",
              "Date                              \n",
              "2009-01-30   82.830002  103.750000\n",
              "2009-02-02   82.580002  105.389999\n",
              "2009-02-03   83.739998  102.879997\n",
              "2009-02-04   83.330002  102.519997\n",
              "2009-02-05   84.570000  102.610001\n",
              "...                ...         ...\n",
              "2020-06-24  304.089996  163.029999\n",
              "2020-06-25  307.350006  163.500000\n",
              "2020-06-26  300.049988  165.250000\n",
              "2020-06-29  304.459991  164.729996\n",
              "2020-06-30  308.359985  163.929993\n",
              "\n",
              "[2874 rows x 2 columns]"
            ]
          },
          "metadata": {
            "tags": []
          },
          "execution_count": 30
        }
      ]
    },
    {
      "cell_type": "code",
      "metadata": {
        "id": "G6-ED2FsbvJM",
        "colab_type": "code",
        "colab": {}
      },
      "source": [
        "main_df.to_csv(stock_str+\"csv\")\n"
      ],
      "execution_count": 31,
      "outputs": []
    },
    {
      "cell_type": "code",
      "metadata": {
        "id": "MtLLLW7bbw17",
        "colab_type": "code",
        "colab": {
          "base_uri": "https://localhost:8080/",
          "height": 33
        },
        "outputId": "2ce2fb55-fab6-4183-ad31-b626cfb768f4"
      },
      "source": [
        "ls"
      ],
      "execution_count": 32,
      "outputs": [
        {
          "output_type": "stream",
          "text": [
            "\u001b[0m\u001b[01;34msample_data\u001b[0m/  SPY.TLT.AP.csv  SPY.TLT.csv  YahooSPY.csv\n"
          ],
          "name": "stdout"
        }
      ]
    }
  ]
}