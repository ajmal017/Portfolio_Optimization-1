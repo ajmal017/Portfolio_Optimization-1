{
  "nbformat": 4,
  "nbformat_minor": 0,
  "metadata": {
    "colab": {
      "name": "sector_etfs.ipynb",
      "provenance": [],
      "authorship_tag": "ABX9TyPsd/CZHqDleM4jz3QJYZ0h",
      "include_colab_link": true
    },
    "kernelspec": {
      "name": "python3",
      "display_name": "Python 3"
    }
  },
  "cells": [
    {
      "cell_type": "markdown",
      "metadata": {
        "id": "view-in-github",
        "colab_type": "text"
      },
      "source": [
        "<a href=\"https://colab.research.google.com/github/armandordorica/Portfolio_Optimization/blob/master/sector_etfs.ipynb\" target=\"_parent\"><img src=\"https://colab.research.google.com/assets/colab-badge.svg\" alt=\"Open In Colab\"/></a>"
      ]
    },
    {
      "cell_type": "code",
      "metadata": {
        "id": "lljD3YWq8sP9",
        "colab_type": "code",
        "colab": {
          "base_uri": "https://localhost:8080/",
          "height": 342
        },
        "outputId": "3f2a32e7-cfdf-4b2b-bbd6-501856237af8"
      },
      "source": [
        "!pip install yfinance"
      ],
      "execution_count": 2,
      "outputs": [
        {
          "output_type": "stream",
          "text": [
            "Collecting yfinance\n",
            "  Downloading https://files.pythonhosted.org/packages/c2/31/8b374a12b90def92a4e27d0fc595fc43635f395984e36a075244d98bd265/yfinance-0.1.54.tar.gz\n",
            "Requirement already satisfied: pandas>=0.24 in /usr/local/lib/python3.6/dist-packages (from yfinance) (1.0.5)\n",
            "Requirement already satisfied: numpy>=1.15 in /usr/local/lib/python3.6/dist-packages (from yfinance) (1.18.5)\n",
            "Requirement already satisfied: requests>=2.20 in /usr/local/lib/python3.6/dist-packages (from yfinance) (2.23.0)\n",
            "Requirement already satisfied: multitasking>=0.0.7 in /usr/local/lib/python3.6/dist-packages (from yfinance) (0.0.9)\n",
            "Requirement already satisfied: python-dateutil>=2.6.1 in /usr/local/lib/python3.6/dist-packages (from pandas>=0.24->yfinance) (2.8.1)\n",
            "Requirement already satisfied: pytz>=2017.2 in /usr/local/lib/python3.6/dist-packages (from pandas>=0.24->yfinance) (2018.9)\n",
            "Requirement already satisfied: chardet<4,>=3.0.2 in /usr/local/lib/python3.6/dist-packages (from requests>=2.20->yfinance) (3.0.4)\n",
            "Requirement already satisfied: urllib3!=1.25.0,!=1.25.1,<1.26,>=1.21.1 in /usr/local/lib/python3.6/dist-packages (from requests>=2.20->yfinance) (1.24.3)\n",
            "Requirement already satisfied: idna<3,>=2.5 in /usr/local/lib/python3.6/dist-packages (from requests>=2.20->yfinance) (2.10)\n",
            "Requirement already satisfied: certifi>=2017.4.17 in /usr/local/lib/python3.6/dist-packages (from requests>=2.20->yfinance) (2020.6.20)\n",
            "Requirement already satisfied: six>=1.5 in /usr/local/lib/python3.6/dist-packages (from python-dateutil>=2.6.1->pandas>=0.24->yfinance) (1.12.0)\n",
            "Building wheels for collected packages: yfinance\n",
            "  Building wheel for yfinance (setup.py) ... \u001b[?25l\u001b[?25hdone\n",
            "  Created wheel for yfinance: filename=yfinance-0.1.54-py2.py3-none-any.whl size=22409 sha256=e0ff8003e06f4f4c126c136f0ae20f81664169546ea4d0fa5e7dbb7356211e67\n",
            "  Stored in directory: /root/.cache/pip/wheels/f9/e3/5b/ec24dd2984b12d61e0abf26289746c2436a0e7844f26f2515c\n",
            "Successfully built yfinance\n",
            "Installing collected packages: yfinance\n",
            "Successfully installed yfinance-0.1.54\n"
          ],
          "name": "stdout"
        }
      ]
    },
    {
      "cell_type": "code",
      "metadata": {
        "id": "FwF-Yvg08mln",
        "colab_type": "code",
        "colab": {}
      },
      "source": [
        "from datetime import datetime, timedelta\n",
        "from pandas_datareader import data as pdr\n",
        "\n",
        "import yfinance as yf\n",
        "import pandas as pd\n",
        "\n",
        "\n",
        "class Stock: \n",
        "  def __init__(self, stock_name, start_dt, end_dt):\n",
        "    yf.pdr_override() # <== that's all it takes :-)\n",
        "\n",
        "    self.stock_name = stock_name \n",
        "    self.start_dt = start_dt\n",
        "    self.end_dt = end_dt \n",
        "    self.data = pdr.get_data_yahoo(self.stock_name, start=self.start_dt, end=self.end_dt)\n",
        "\n",
        "    self.ticker = yf.Ticker(self.stock_name)\n",
        "    self.beta = self.ticker.info['beta']\n",
        "\n",
        "    self.timeseries = self.data['Close']\n",
        "    self.dates = self.timeseries.index.to_frame()\n",
        "    # self.one_year_return = self.get_annual_return(1)\n",
        "    # self.two_year_return = self.get_annual_return(2)\n",
        "    # self.five_year_return = self.get_annual_return(5)\n",
        "\n",
        "  def get_annual_return(self, num_years):\n",
        "    period = 365 *num_years\n",
        "    print(\"Period:{}\".format(period))\n",
        "    end = max(self.timeseries.index)\n",
        "    print(\"end:{}\".format(end))\n",
        "  \n",
        "    start = end - timedelta(days=period)\n",
        "    try: \n",
        "      start = self.dates[self.dates['Date']<=start].iloc[-1].Date\n",
        "      print(\"start:{}\".format(start))\n",
        "\n",
        "      ending_balance = self.timeseries.loc[end]\n",
        "      beginning_balance = self.timeseries.loc[start]  \n",
        "\n",
        "      return ((ending_balance - beginning_balance)/beginning_balance)/(period//365)\n",
        "\n",
        "    except:\n",
        "      print(\"\\n Start date:{} is not available!\".format(start))\n",
        "\n",
        "  def get_monthly_return(self, num_months):\n",
        "    period = 30 *num_months\n",
        "    print(\"Period:{}\".format(period))\n",
        "    end = max(self.timeseries.index)\n",
        "    print(\"end:{}\".format(end))\n",
        "  \n",
        "    start = end - timedelta(days=period)\n",
        "    try: \n",
        "      start = self.dates[self.dates['Date']<=start].iloc[-1].Date\n",
        "      print(\"start:{}\".format(start))\n",
        "\n",
        "      ending_balance = self.timeseries.loc[end]\n",
        "      beginning_balance = self.timeseries.loc[start]  \n",
        "\n",
        "      return ((ending_balance - beginning_balance)/beginning_balance)/(period//30)\n",
        "\n",
        "    except:\n",
        "      print(\"\\n Start date:{} is not available!\".format(start))\n",
        "\n",
        "  \n",
        "  def get_monthly_std(self, num_months): \n",
        "    period = 30 *num_months\n",
        "    print(\"Period:{}\".format(period))\n",
        "    end = max(self.timeseries.index)\n",
        "    print(\"end:{}\".format(end))\n",
        "  \n",
        "    start = end - timedelta(days=period)\n",
        "    try: \n",
        "\n",
        "      std_dev = self.data.loc[start:end]['Close'].std()\n",
        "\n",
        "      print(\"start:{}\".format(start))\n",
        "\n",
        "      return std_dev\n",
        "\n",
        "    except:\n",
        "      print(\"\\n Start date:{} is not available!\".format(start))\n",
        "\n",
        "  \n",
        "  \n",
        "  def plot(self):\n",
        "    self.timeseries.plot()\n",
        "    plt.title(self.stock_name)"
      ],
      "execution_count": 62,
      "outputs": []
    },
    {
      "cell_type": "markdown",
      "metadata": {
        "id": "QA6PiU-lMfvF",
        "colab_type": "text"
      },
      "source": [
        "### **Input your list of Stocks or ETFs here**"
      ]
    },
    {
      "cell_type": "code",
      "metadata": {
        "id": "_Z50_biGGgMR",
        "colab_type": "code",
        "colab": {}
      },
      "source": [
        "sector_etfs = ['IGV', 'IYJ', 'FDN', 'SMH', 'PBS', 'KBE', 'IYW', 'KIE', 'ITA', 'IHI', 'ITB', 'IYT', 'XLB', 'IYZ', 'KCE', 'XLP', 'VNQ', 'IHE', 'PBJ', 'IBB', 'IEZ', 'XLU', 'XOP', 'XRT', 'IHF']"
      ],
      "execution_count": 40,
      "outputs": []
    },
    {
      "cell_type": "code",
      "metadata": {
        "id": "iEiNhG_yG6DY",
        "colab_type": "code",
        "colab": {
          "base_uri": "https://localhost:8080/",
          "height": 1000
        },
        "outputId": "bf0559b0-5ddf-4b76-f32e-a0301e28c43f"
      },
      "source": [
        "three_mth_returns = []\n",
        "for etf in sector_etfs: \n",
        "  etf_yahoo = Stock(etf, '2020-01-01', '2020-07-01')\n",
        "  three_mth_returns.append(etf_yahoo.get_monthly_return(3))"
      ],
      "execution_count": 41,
      "outputs": [
        {
          "output_type": "stream",
          "text": [
            "[*********************100%***********************]  1 of 1 completed\n",
            "Period:90\n",
            "end:2020-06-30 00:00:00\n",
            "start:2020-04-01 00:00:00\n",
            "[*********************100%***********************]  1 of 1 completed\n",
            "Period:90\n",
            "end:2020-06-30 00:00:00\n",
            "start:2020-04-01 00:00:00\n",
            "[*********************100%***********************]  1 of 1 completed\n",
            "Period:90\n",
            "end:2020-06-30 00:00:00\n",
            "start:2020-04-01 00:00:00\n",
            "[*********************100%***********************]  1 of 1 completed\n",
            "Period:90\n",
            "end:2020-06-30 00:00:00\n",
            "start:2020-04-01 00:00:00\n",
            "[*********************100%***********************]  1 of 1 completed\n",
            "Period:90\n",
            "end:2020-06-30 00:00:00\n",
            "start:2020-04-01 00:00:00\n",
            "[*********************100%***********************]  1 of 1 completed\n",
            "Period:90\n",
            "end:2020-06-30 00:00:00\n",
            "start:2020-04-01 00:00:00\n",
            "[*********************100%***********************]  1 of 1 completed\n",
            "Period:90\n",
            "end:2020-06-30 00:00:00\n",
            "start:2020-04-01 00:00:00\n",
            "[*********************100%***********************]  1 of 1 completed\n",
            "Period:90\n",
            "end:2020-06-30 00:00:00\n",
            "start:2020-04-01 00:00:00\n",
            "[*********************100%***********************]  1 of 1 completed\n",
            "Period:90\n",
            "end:2020-06-30 00:00:00\n",
            "start:2020-04-01 00:00:00\n",
            "[*********************100%***********************]  1 of 1 completed\n",
            "Period:90\n",
            "end:2020-06-30 00:00:00\n",
            "start:2020-04-01 00:00:00\n",
            "[*********************100%***********************]  1 of 1 completed\n",
            "Period:90\n",
            "end:2020-06-30 00:00:00\n",
            "start:2020-04-01 00:00:00\n",
            "[*********************100%***********************]  1 of 1 completed\n",
            "Period:90\n",
            "end:2020-06-30 00:00:00\n",
            "start:2020-04-01 00:00:00\n",
            "[*********************100%***********************]  1 of 1 completed\n",
            "Period:90\n",
            "end:2020-06-30 00:00:00\n",
            "start:2020-04-01 00:00:00\n",
            "[*********************100%***********************]  1 of 1 completed\n",
            "Period:90\n",
            "end:2020-06-30 00:00:00\n",
            "start:2020-04-01 00:00:00\n",
            "[*********************100%***********************]  1 of 1 completed\n",
            "Period:90\n",
            "end:2020-06-30 00:00:00\n",
            "start:2020-04-01 00:00:00\n",
            "[*********************100%***********************]  1 of 1 completed\n",
            "Period:90\n",
            "end:2020-06-30 00:00:00\n",
            "start:2020-04-01 00:00:00\n",
            "[*********************100%***********************]  1 of 1 completed\n",
            "Period:90\n",
            "end:2020-06-30 00:00:00\n",
            "start:2020-04-01 00:00:00\n",
            "[*********************100%***********************]  1 of 1 completed\n",
            "Period:90\n",
            "end:2020-06-30 00:00:00\n",
            "start:2020-04-01 00:00:00\n",
            "[*********************100%***********************]  1 of 1 completed\n",
            "Period:90\n",
            "end:2020-06-30 00:00:00\n",
            "start:2020-04-01 00:00:00\n",
            "[*********************100%***********************]  1 of 1 completed\n",
            "Period:90\n",
            "end:2020-06-30 00:00:00\n",
            "start:2020-04-01 00:00:00\n",
            "[*********************100%***********************]  1 of 1 completed\n",
            "Period:90\n",
            "end:2020-06-30 00:00:00\n",
            "start:2020-04-01 00:00:00\n",
            "[*********************100%***********************]  1 of 1 completed\n",
            "Period:90\n",
            "end:2020-06-30 00:00:00\n",
            "start:2020-04-01 00:00:00\n",
            "[*********************100%***********************]  1 of 1 completed\n",
            "Period:90\n",
            "end:2020-06-30 00:00:00\n",
            "start:2020-04-01 00:00:00\n",
            "[*********************100%***********************]  1 of 1 completed\n",
            "Period:90\n",
            "end:2020-06-30 00:00:00\n",
            "start:2020-04-01 00:00:00\n",
            "[*********************100%***********************]  1 of 1 completed\n",
            "Period:90\n",
            "end:2020-06-30 00:00:00\n",
            "start:2020-04-01 00:00:00\n"
          ],
          "name": "stdout"
        }
      ]
    },
    {
      "cell_type": "code",
      "metadata": {
        "id": "Gf-s6_yGJ6Rv",
        "colab_type": "code",
        "colab": {
          "base_uri": "https://localhost:8080/",
          "height": 1000
        },
        "outputId": "786db2d0-382c-440b-ec21-5f28ba6291f8"
      },
      "source": [
        "three_mth_stddevs = []\n",
        "for etf in sector_etfs: \n",
        "  etf_yahoo = Stock(etf, '2020-01-01', '2020-07-01')\n",
        "  three_mth_stddevs.append(etf_yahoo.get_monthly_std(3))"
      ],
      "execution_count": 71,
      "outputs": [
        {
          "output_type": "stream",
          "text": [
            "[*********************100%***********************]  1 of 1 completed\n",
            "Period:90\n",
            "end:2020-06-30 00:00:00\n",
            "start:2020-04-01 00:00:00\n",
            "[*********************100%***********************]  1 of 1 completed\n",
            "Period:90\n",
            "end:2020-06-30 00:00:00\n",
            "start:2020-04-01 00:00:00\n",
            "[*********************100%***********************]  1 of 1 completed\n",
            "Period:90\n",
            "end:2020-06-30 00:00:00\n",
            "start:2020-04-01 00:00:00\n",
            "[*********************100%***********************]  1 of 1 completed\n",
            "Period:90\n",
            "end:2020-06-30 00:00:00\n",
            "start:2020-04-01 00:00:00\n",
            "[*********************100%***********************]  1 of 1 completed\n",
            "Period:90\n",
            "end:2020-06-30 00:00:00\n",
            "start:2020-04-01 00:00:00\n",
            "[*********************100%***********************]  1 of 1 completed\n",
            "Period:90\n",
            "end:2020-06-30 00:00:00\n",
            "start:2020-04-01 00:00:00\n",
            "[*********************100%***********************]  1 of 1 completed\n",
            "Period:90\n",
            "end:2020-06-30 00:00:00\n",
            "start:2020-04-01 00:00:00\n",
            "[*********************100%***********************]  1 of 1 completed\n",
            "Period:90\n",
            "end:2020-06-30 00:00:00\n",
            "start:2020-04-01 00:00:00\n",
            "[*********************100%***********************]  1 of 1 completed\n",
            "Period:90\n",
            "end:2020-06-30 00:00:00\n",
            "start:2020-04-01 00:00:00\n",
            "[*********************100%***********************]  1 of 1 completed\n",
            "Period:90\n",
            "end:2020-06-30 00:00:00\n",
            "start:2020-04-01 00:00:00\n",
            "[*********************100%***********************]  1 of 1 completed\n",
            "Period:90\n",
            "end:2020-06-30 00:00:00\n",
            "start:2020-04-01 00:00:00\n",
            "[*********************100%***********************]  1 of 1 completed\n",
            "Period:90\n",
            "end:2020-06-30 00:00:00\n",
            "start:2020-04-01 00:00:00\n",
            "[*********************100%***********************]  1 of 1 completed\n",
            "Period:90\n",
            "end:2020-06-30 00:00:00\n",
            "start:2020-04-01 00:00:00\n",
            "[*********************100%***********************]  1 of 1 completed\n",
            "Period:90\n",
            "end:2020-06-30 00:00:00\n",
            "start:2020-04-01 00:00:00\n",
            "[*********************100%***********************]  1 of 1 completed\n",
            "Period:90\n",
            "end:2020-06-30 00:00:00\n",
            "start:2020-04-01 00:00:00\n",
            "[*********************100%***********************]  1 of 1 completed\n",
            "Period:90\n",
            "end:2020-06-30 00:00:00\n",
            "start:2020-04-01 00:00:00\n",
            "[*********************100%***********************]  1 of 1 completed\n",
            "Period:90\n",
            "end:2020-06-30 00:00:00\n",
            "start:2020-04-01 00:00:00\n",
            "[*********************100%***********************]  1 of 1 completed\n",
            "Period:90\n",
            "end:2020-06-30 00:00:00\n",
            "start:2020-04-01 00:00:00\n",
            "[*********************100%***********************]  1 of 1 completed\n",
            "Period:90\n",
            "end:2020-06-30 00:00:00\n",
            "start:2020-04-01 00:00:00\n",
            "[*********************100%***********************]  1 of 1 completed\n",
            "Period:90\n",
            "end:2020-06-30 00:00:00\n",
            "start:2020-04-01 00:00:00\n",
            "[*********************100%***********************]  1 of 1 completed\n",
            "Period:90\n",
            "end:2020-06-30 00:00:00\n",
            "start:2020-04-01 00:00:00\n",
            "[*********************100%***********************]  1 of 1 completed\n",
            "Period:90\n",
            "end:2020-06-30 00:00:00\n",
            "start:2020-04-01 00:00:00\n",
            "[*********************100%***********************]  1 of 1 completed\n",
            "Period:90\n",
            "end:2020-06-30 00:00:00\n",
            "start:2020-04-01 00:00:00\n",
            "[*********************100%***********************]  1 of 1 completed\n",
            "Period:90\n",
            "end:2020-06-30 00:00:00\n",
            "start:2020-04-01 00:00:00\n",
            "[*********************100%***********************]  1 of 1 completed\n",
            "Period:90\n",
            "end:2020-06-30 00:00:00\n",
            "start:2020-04-01 00:00:00\n"
          ],
          "name": "stdout"
        }
      ]
    },
    {
      "cell_type": "code",
      "metadata": {
        "id": "UHW0PB1PIM93",
        "colab_type": "code",
        "colab": {
          "base_uri": "https://localhost:8080/",
          "height": 766
        },
        "outputId": "2c6b9018-481b-4c40-8b76-bee7f9b29d17"
      },
      "source": [
        "d = {'sector_etfs': sector_etfs, 'three_mth_returns': three_mth_returns, 'three_mth_stddevs':three_mth_stddevs}\n",
        "df = pd.DataFrame(data=d)\n",
        "df"
      ],
      "execution_count": 72,
      "outputs": [
        {
          "output_type": "execute_result",
          "data": {
            "text/html": [
              "<div>\n",
              "<style scoped>\n",
              "    .dataframe tbody tr th:only-of-type {\n",
              "        vertical-align: middle;\n",
              "    }\n",
              "\n",
              "    .dataframe tbody tr th {\n",
              "        vertical-align: top;\n",
              "    }\n",
              "\n",
              "    .dataframe thead th {\n",
              "        text-align: right;\n",
              "    }\n",
              "</style>\n",
              "<table border=\"1\" class=\"dataframe\">\n",
              "  <thead>\n",
              "    <tr style=\"text-align: right;\">\n",
              "      <th></th>\n",
              "      <th>sector_etfs</th>\n",
              "      <th>three_mth_returns</th>\n",
              "      <th>three_mth_stddevs</th>\n",
              "    </tr>\n",
              "  </thead>\n",
              "  <tbody>\n",
              "    <tr>\n",
              "      <th>0</th>\n",
              "      <td>IGV</td>\n",
              "      <td>0.139683</td>\n",
              "      <td>23.194377</td>\n",
              "    </tr>\n",
              "    <tr>\n",
              "      <th>1</th>\n",
              "      <td>IYJ</td>\n",
              "      <td>0.092035</td>\n",
              "      <td>10.720990</td>\n",
              "    </tr>\n",
              "    <tr>\n",
              "      <th>2</th>\n",
              "      <td>FDN</td>\n",
              "      <td>0.145332</td>\n",
              "      <td>14.727207</td>\n",
              "    </tr>\n",
              "    <tr>\n",
              "      <th>3</th>\n",
              "      <td>SMH</td>\n",
              "      <td>0.124165</td>\n",
              "      <td>10.811516</td>\n",
              "    </tr>\n",
              "    <tr>\n",
              "      <th>4</th>\n",
              "      <td>PBS</td>\n",
              "      <td>0.145428</td>\n",
              "      <td>3.046055</td>\n",
              "    </tr>\n",
              "    <tr>\n",
              "      <th>5</th>\n",
              "      <td>KBE</td>\n",
              "      <td>0.084526</td>\n",
              "      <td>2.947731</td>\n",
              "    </tr>\n",
              "    <tr>\n",
              "      <th>6</th>\n",
              "      <td>IYW</td>\n",
              "      <td>0.128053</td>\n",
              "      <td>19.749924</td>\n",
              "    </tr>\n",
              "    <tr>\n",
              "      <th>7</th>\n",
              "      <td>KIE</td>\n",
              "      <td>0.054610</td>\n",
              "      <td>1.700605</td>\n",
              "    </tr>\n",
              "    <tr>\n",
              "      <th>8</th>\n",
              "      <td>ITA</td>\n",
              "      <td>0.069002</td>\n",
              "      <td>13.110297</td>\n",
              "    </tr>\n",
              "    <tr>\n",
              "      <th>9</th>\n",
              "      <td>IHI</td>\n",
              "      <td>0.080978</td>\n",
              "      <td>11.831293</td>\n",
              "    </tr>\n",
              "    <tr>\n",
              "      <th>10</th>\n",
              "      <td>ITB</td>\n",
              "      <td>0.220341</td>\n",
              "      <td>5.887190</td>\n",
              "    </tr>\n",
              "    <tr>\n",
              "      <th>11</th>\n",
              "      <td>IYT</td>\n",
              "      <td>0.078685</td>\n",
              "      <td>11.275265</td>\n",
              "    </tr>\n",
              "    <tr>\n",
              "      <th>12</th>\n",
              "      <td>XLB</td>\n",
              "      <td>0.103387</td>\n",
              "      <td>3.931022</td>\n",
              "    </tr>\n",
              "    <tr>\n",
              "      <th>13</th>\n",
              "      <td>IYZ</td>\n",
              "      <td>0.048331</td>\n",
              "      <td>1.092903</td>\n",
              "    </tr>\n",
              "    <tr>\n",
              "      <th>14</th>\n",
              "      <td>KCE</td>\n",
              "      <td>0.096540</td>\n",
              "      <td>4.038739</td>\n",
              "    </tr>\n",
              "    <tr>\n",
              "      <th>15</th>\n",
              "      <td>XLP</td>\n",
              "      <td>0.031684</td>\n",
              "      <td>1.370267</td>\n",
              "    </tr>\n",
              "    <tr>\n",
              "      <th>16</th>\n",
              "      <td>VNQ</td>\n",
              "      <td>0.067780</td>\n",
              "      <td>4.879719</td>\n",
              "    </tr>\n",
              "    <tr>\n",
              "      <th>17</th>\n",
              "      <td>IHE</td>\n",
              "      <td>0.062265</td>\n",
              "      <td>6.241401</td>\n",
              "    </tr>\n",
              "    <tr>\n",
              "      <th>18</th>\n",
              "      <td>PBJ</td>\n",
              "      <td>0.048966</td>\n",
              "      <td>0.970846</td>\n",
              "    </tr>\n",
              "    <tr>\n",
              "      <th>19</th>\n",
              "      <td>IBB</td>\n",
              "      <td>0.105662</td>\n",
              "      <td>8.412603</td>\n",
              "    </tr>\n",
              "    <tr>\n",
              "      <th>20</th>\n",
              "      <td>IEZ</td>\n",
              "      <td>0.184717</td>\n",
              "      <td>1.274973</td>\n",
              "    </tr>\n",
              "    <tr>\n",
              "      <th>21</th>\n",
              "      <td>XLU</td>\n",
              "      <td>0.027842</td>\n",
              "      <td>2.307957</td>\n",
              "    </tr>\n",
              "    <tr>\n",
              "      <th>22</th>\n",
              "      <td>XOP</td>\n",
              "      <td>0.227019</td>\n",
              "      <td>7.781352</td>\n",
              "    </tr>\n",
              "    <tr>\n",
              "      <th>23</th>\n",
              "      <td>XRT</td>\n",
              "      <td>0.176597</td>\n",
              "      <td>4.479257</td>\n",
              "    </tr>\n",
              "    <tr>\n",
              "      <th>24</th>\n",
              "      <td>IHF</td>\n",
              "      <td>0.071682</td>\n",
              "      <td>10.717144</td>\n",
              "    </tr>\n",
              "  </tbody>\n",
              "</table>\n",
              "</div>"
            ],
            "text/plain": [
              "   sector_etfs  three_mth_returns  three_mth_stddevs\n",
              "0          IGV           0.139683          23.194377\n",
              "1          IYJ           0.092035          10.720990\n",
              "2          FDN           0.145332          14.727207\n",
              "3          SMH           0.124165          10.811516\n",
              "4          PBS           0.145428           3.046055\n",
              "5          KBE           0.084526           2.947731\n",
              "6          IYW           0.128053          19.749924\n",
              "7          KIE           0.054610           1.700605\n",
              "8          ITA           0.069002          13.110297\n",
              "9          IHI           0.080978          11.831293\n",
              "10         ITB           0.220341           5.887190\n",
              "11         IYT           0.078685          11.275265\n",
              "12         XLB           0.103387           3.931022\n",
              "13         IYZ           0.048331           1.092903\n",
              "14         KCE           0.096540           4.038739\n",
              "15         XLP           0.031684           1.370267\n",
              "16         VNQ           0.067780           4.879719\n",
              "17         IHE           0.062265           6.241401\n",
              "18         PBJ           0.048966           0.970846\n",
              "19         IBB           0.105662           8.412603\n",
              "20         IEZ           0.184717           1.274973\n",
              "21         XLU           0.027842           2.307957\n",
              "22         XOP           0.227019           7.781352\n",
              "23         XRT           0.176597           4.479257\n",
              "24         IHF           0.071682          10.717144"
            ]
          },
          "metadata": {
            "tags": []
          },
          "execution_count": 72
        }
      ]
    },
    {
      "cell_type": "code",
      "metadata": {
        "id": "nszxQxTfKaDQ",
        "colab_type": "code",
        "colab": {
          "base_uri": "https://localhost:8080/",
          "height": 637
        },
        "outputId": "96998b11-15a1-44e1-d768-378e885a5bd1"
      },
      "source": [
        "x = df['three_mth_returns']\n",
        "y = df['three_mth_stddevs']\n",
        "n = df['sector_etfs']\n",
        "\n",
        "fig, ax = plt.subplots(figsize=(20,10))\n",
        "ax.scatter(x, y)\n",
        "\n",
        "for i, txt in enumerate(n):\n",
        "    ax.annotate(txt, (x[i], y[i]))\n",
        "\n",
        "ax.set_ylabel('Return')\n",
        "ax.set_xlabel('Risk')\n",
        "ax.set_title(\"Sector ETFS distribution of risk and variance\")\n"
      ],
      "execution_count": 82,
      "outputs": [
        {
          "output_type": "execute_result",
          "data": {
            "text/plain": [
              "Text(0.5, 1.0, 'Sector ETFS distribution of risk and variance')"
            ]
          },
          "metadata": {
            "tags": []
          },
          "execution_count": 82
        },
        {
          "output_type": "display_data",
          "data": {
            "image/png": "[encoded data removed]",
            "text/plain": [
              "<Figure size 1440x720 with 1 Axes>"
            ]
          },
          "metadata": {
            "tags": [],
            "needs_background": "light"
          }
        }
      ]
    },
    {
      "cell_type": "markdown",
      "metadata": {
        "id": "0kIHj9bf-Flx",
        "colab_type": "text"
      },
      "source": [
        "### IGV - iShares S&P Software Industry Index"
      ]
    },
    {
      "cell_type": "code",
      "metadata": {
        "id": "1MKUal1T8ptB",
        "colab_type": "code",
        "colab": {
          "base_uri": "https://localhost:8080/",
          "height": 33
        },
        "outputId": "fdd1f87d-253a-4e22-d2d7-c0a81d2c0c1d"
      },
      "source": [
        "IGV = Stock ('IGV', '2012-01-01', '2020-07-01')"
      ],
      "execution_count": 63,
      "outputs": [
        {
          "output_type": "stream",
          "text": [
            "\r[*********************100%***********************]  1 of 1 completed\n"
          ],
          "name": "stdout"
        }
      ]
    },
    {
      "cell_type": "code",
      "metadata": {
        "id": "om1fG-0sIf49",
        "colab_type": "code",
        "colab": {
          "base_uri": "https://localhost:8080/",
          "height": 82
        },
        "outputId": "d40fb612-c46b-4b47-a4ea-fbe484310ffe"
      },
      "source": [
        "IGV.get_monthly_std(3)"
      ],
      "execution_count": 64,
      "outputs": [
        {
          "output_type": "stream",
          "text": [
            "Period:90\n",
            "end:2020-06-30 00:00:00\n",
            "start:2020-04-01 00:00:00\n"
          ],
          "name": "stdout"
        },
        {
          "output_type": "execute_result",
          "data": {
            "text/plain": [
              "23.194376756102262"
            ]
          },
          "metadata": {
            "tags": []
          },
          "execution_count": 64
        }
      ]
    },
    {
      "cell_type": "code",
      "metadata": {
        "id": "HS4-VP5TGJJW",
        "colab_type": "code",
        "colab": {
          "base_uri": "https://localhost:8080/",
          "height": 82
        },
        "outputId": "15a2e4f1-fa03-407c-fa2b-f2a9c277ca49"
      },
      "source": [
        "three_mth_return = IGV.get_monthly_return(3)\n",
        "three_mth_return"
      ],
      "execution_count": 33,
      "outputs": [
        {
          "output_type": "stream",
          "text": [
            "Period:90\n",
            "end:2020-06-30 00:00:00\n",
            "start:2020-04-01 00:00:00\n"
          ],
          "name": "stdout"
        },
        {
          "output_type": "execute_result",
          "data": {
            "text/plain": [
              "0.1396834963547813"
            ]
          },
          "metadata": {
            "tags": []
          },
          "execution_count": 33
        }
      ]
    },
    {
      "cell_type": "code",
      "metadata": {
        "id": "8kwHu7yFGRu0",
        "colab_type": "code",
        "colab": {
          "base_uri": "https://localhost:8080/",
          "height": 33
        },
        "outputId": "a644805f-d87d-4f3e-ef92-db788d1ad95f"
      },
      "source": [
        "three_mth_return"
      ],
      "execution_count": 34,
      "outputs": [
        {
          "output_type": "execute_result",
          "data": {
            "text/plain": [
              "0.1396834963547813"
            ]
          },
          "metadata": {
            "tags": []
          },
          "execution_count": 34
        }
      ]
    },
    {
      "cell_type": "code",
      "metadata": {
        "id": "7LKso39s8wQH",
        "colab_type": "code",
        "colab": {
          "base_uri": "https://localhost:8080/",
          "height": 33
        },
        "outputId": "a67296b1-cdfd-461b-fc72-85906c562cbf"
      },
      "source": [
        "IGV.one_year_return"
      ],
      "execution_count": 6,
      "outputs": [
        {
          "output_type": "execute_result",
          "data": {
            "text/plain": [
              "0.28144437207835676"
            ]
          },
          "metadata": {
            "tags": []
          },
          "execution_count": 6
        }
      ]
    },
    {
      "cell_type": "code",
      "metadata": {
        "id": "SacOcOha8woW",
        "colab_type": "code",
        "colab": {
          "base_uri": "https://localhost:8080/",
          "height": 33
        },
        "outputId": "f4e00d68-ffb8-4701-8506-4e80063e7638"
      },
      "source": [
        "IGV.two_year_return"
      ],
      "execution_count": 7,
      "outputs": [
        {
          "output_type": "execute_result",
          "data": {
            "text/plain": [
              "0.2779998122303526"
            ]
          },
          "metadata": {
            "tags": []
          },
          "execution_count": 7
        }
      ]
    },
    {
      "cell_type": "code",
      "metadata": {
        "id": "_CcLyUpG8zt-",
        "colab_type": "code",
        "colab": {
          "base_uri": "https://localhost:8080/",
          "height": 33
        },
        "outputId": "6cbe8102-305e-4a2a-89d0-d14d320e347f"
      },
      "source": [
        "IGV.five_year_return"
      ],
      "execution_count": 9,
      "outputs": [
        {
          "output_type": "execute_result",
          "data": {
            "text/plain": [
              "0.3707831412745578"
            ]
          },
          "metadata": {
            "tags": []
          },
          "execution_count": 9
        }
      ]
    },
    {
      "cell_type": "markdown",
      "metadata": {
        "id": "jpatkbK397sz",
        "colab_type": "text"
      },
      "source": [
        "### Market Vectors Semiconductor ETF"
      ]
    },
    {
      "cell_type": "code",
      "metadata": {
        "id": "x1XKnz6C81Ul",
        "colab_type": "code",
        "colab": {
          "base_uri": "https://localhost:8080/",
          "height": 180
        },
        "outputId": "c2a7d02e-46c3-4ea5-a2b4-b1bb99bb3692"
      },
      "source": [
        "SMH = Stock ('SMH', '2012-01-01', '2020-07-01')"
      ],
      "execution_count": 11,
      "outputs": [
        {
          "output_type": "stream",
          "text": [
            "\r[*********************100%***********************]  1 of 1 completed\n",
            "Period:365\n",
            "end:2020-06-30 00:00:00\n",
            "start:2019-07-01 00:00:00\n",
            "Period:730\n",
            "end:2020-06-30 00:00:00\n",
            "start:2018-06-29 00:00:00\n",
            "Period:1825\n",
            "end:2020-06-30 00:00:00\n",
            "start:2015-07-02 00:00:00\n"
          ],
          "name": "stdout"
        }
      ]
    },
    {
      "cell_type": "code",
      "metadata": {
        "id": "LlR1Kwm19eIp",
        "colab_type": "code",
        "colab": {
          "base_uri": "https://localhost:8080/",
          "height": 33
        },
        "outputId": "e3863e2d-482e-4f14-fc06-aecaddee55f1"
      },
      "source": [
        "SMH.one_year_return, SMH.five_year_return"
      ],
      "execution_count": 13,
      "outputs": [
        {
          "output_type": "execute_result",
          "data": {
            "text/plain": [
              "(0.34875100906469575, 0.354426727186923)"
            ]
          },
          "metadata": {
            "tags": []
          },
          "execution_count": 13
        }
      ]
    },
    {
      "cell_type": "markdown",
      "metadata": {
        "id": "_dTDc0DK94FH",
        "colab_type": "text"
      },
      "source": [
        "### iShares DJ U.S. Technology sector"
      ]
    },
    {
      "cell_type": "code",
      "metadata": {
        "id": "07P9p20Q9fsf",
        "colab_type": "code",
        "colab": {
          "base_uri": "https://localhost:8080/",
          "height": 196
        },
        "outputId": "b2d8cc31-35cc-4f73-8bc3-04aeb827751d"
      },
      "source": [
        "IYW = Stock ('IYW', '2012-01-01', '2020-07-01')\n",
        "IYW.one_year_return, IYW.five_year_return"
      ],
      "execution_count": 14,
      "outputs": [
        {
          "output_type": "stream",
          "text": [
            "\r[*********************100%***********************]  1 of 1 completed\n",
            "Period:365\n",
            "end:2020-06-30 00:00:00\n",
            "start:2019-07-01 00:00:00\n",
            "Period:730\n",
            "end:2020-06-30 00:00:00\n",
            "start:2018-06-29 00:00:00\n",
            "Period:1825\n",
            "end:2020-06-30 00:00:00\n",
            "start:2015-07-02 00:00:00\n"
          ],
          "name": "stdout"
        },
        {
          "output_type": "execute_result",
          "data": {
            "text/plain": [
              "(0.3425556268870849, 0.3126353454634857)"
            ]
          },
          "metadata": {
            "tags": []
          },
          "execution_count": 14
        }
      ]
    },
    {
      "cell_type": "code",
      "metadata": {
        "id": "fjHwoGeB91Jm",
        "colab_type": "code",
        "colab": {}
      },
      "source": [
        ""
      ],
      "execution_count": null,
      "outputs": []
    }
  ]
}