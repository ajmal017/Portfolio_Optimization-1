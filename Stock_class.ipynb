{
  "nbformat": 4,
  "nbformat_minor": 0,
  "metadata": {
    "colab": {
      "name": "Stock class.ipynb",
      "provenance": [],
      "authorship_tag": "ABX9TyO4TcDhhNsWIs2BUq87b/Na",
      "include_colab_link": true
    },
    "kernelspec": {
      "name": "python3",
      "display_name": "Python 3"
    }
  },
  "cells": [
    {
      "cell_type": "markdown",
      "metadata": {
        "id": "view-in-github",
        "colab_type": "text"
      },
      "source": [
        "<a href=\"https://colab.research.google.com/github/armandordorica/Portfolio_Optimization/blob/master/Stock_class.ipynb\" target=\"_parent\"><img src=\"https://colab.research.google.com/assets/colab-badge.svg\" alt=\"Open In Colab\"/></a>"
      ]
    },
    {
      "cell_type": "code",
      "metadata": {
        "id": "j8HjOajcB7F-",
        "colab_type": "code",
        "colab": {
          "base_uri": "https://localhost:8080/",
          "height": 342
        },
        "outputId": "e519b259-09f3-4400-ca48-c98f7d8e895b"
      },
      "source": [
        "!pip install yfinance"
      ],
      "execution_count": 2,
      "outputs": [
        {
          "output_type": "stream",
          "text": [
            "Collecting yfinance\n",
            "  Downloading https://files.pythonhosted.org/packages/c2/31/8b374a12b90def92a4e27d0fc595fc43635f395984e36a075244d98bd265/yfinance-0.1.54.tar.gz\n",
            "Requirement already satisfied: pandas>=0.24 in /usr/local/lib/python3.6/dist-packages (from yfinance) (1.0.5)\n",
            "Requirement already satisfied: numpy>=1.15 in /usr/local/lib/python3.6/dist-packages (from yfinance) (1.18.5)\n",
            "Requirement already satisfied: requests>=2.20 in /usr/local/lib/python3.6/dist-packages (from yfinance) (2.23.0)\n",
            "Requirement already satisfied: multitasking>=0.0.7 in /usr/local/lib/python3.6/dist-packages (from yfinance) (0.0.9)\n",
            "Requirement already satisfied: python-dateutil>=2.6.1 in /usr/local/lib/python3.6/dist-packages (from pandas>=0.24->yfinance) (2.8.1)\n",
            "Requirement already satisfied: pytz>=2017.2 in /usr/local/lib/python3.6/dist-packages (from pandas>=0.24->yfinance) (2018.9)\n",
            "Requirement already satisfied: idna<3,>=2.5 in /usr/local/lib/python3.6/dist-packages (from requests>=2.20->yfinance) (2.9)\n",
            "Requirement already satisfied: certifi>=2017.4.17 in /usr/local/lib/python3.6/dist-packages (from requests>=2.20->yfinance) (2020.6.20)\n",
            "Requirement already satisfied: chardet<4,>=3.0.2 in /usr/local/lib/python3.6/dist-packages (from requests>=2.20->yfinance) (3.0.4)\n",
            "Requirement already satisfied: urllib3!=1.25.0,!=1.25.1,<1.26,>=1.21.1 in /usr/local/lib/python3.6/dist-packages (from requests>=2.20->yfinance) (1.24.3)\n",
            "Requirement already satisfied: six>=1.5 in /usr/local/lib/python3.6/dist-packages (from python-dateutil>=2.6.1->pandas>=0.24->yfinance) (1.12.0)\n",
            "Building wheels for collected packages: yfinance\n",
            "  Building wheel for yfinance (setup.py) ... \u001b[?25l\u001b[?25hdone\n",
            "  Created wheel for yfinance: filename=yfinance-0.1.54-py2.py3-none-any.whl size=22409 sha256=33e4074f7e81b031ccfbce178d3dc20f082f3a63a08495fad2e84c2628b96ac4\n",
            "  Stored in directory: /root/.cache/pip/wheels/f9/e3/5b/ec24dd2984b12d61e0abf26289746c2436a0e7844f26f2515c\n",
            "Successfully built yfinance\n",
            "Installing collected packages: yfinance\n",
            "Successfully installed yfinance-0.1.54\n"
          ],
          "name": "stdout"
        }
      ]
    },
    {
      "cell_type": "code",
      "metadata": {
        "id": "qrVfkBlqB0hE",
        "colab_type": "code",
        "colab": {}
      },
      "source": [
        "from datetime import datetime, timedelta\n",
        "from pandas_datareader import data as pdr\n",
        "\n",
        "import yfinance as yf\n",
        "\n",
        "\n",
        "class Stock: \n",
        "  def __init__(self, stock_name, start_dt, end_dt):\n",
        "    yf.pdr_override() # <== that's all it takes :-)\n",
        "\n",
        "    self.stock_name = stock_name \n",
        "    self.start_dt = start_dt\n",
        "    self.end_dt = end_dt \n",
        "    self.data = pdr.get_data_yahoo(self.stock_name, start=self.start_dt, end=self.end_dt)\n",
        "\n",
        "    self.ticker = yf.Ticker(self.stock_name)\n",
        "    self.beta = self.ticker.info['beta']\n",
        "\n",
        "    self.timeseries = self.data['Close']\n",
        "    self.dates = self.timeseries.index.to_frame()\n",
        "    self.one_year_return = self.get_annual_return(1)\n",
        "    self.two_year_return = self.get_annual_return(2)\n",
        "    self.five_year_return = self.get_annual_return(5)\n",
        "\n",
        "  def get_annual_return(self, num_years):\n",
        "    period = 365 *num_years\n",
        "    print(\"Period:{}\".format(period))\n",
        "    end = max(self.timeseries.index)\n",
        "    print(\"end:{}\".format(end))\n",
        "  \n",
        "    start = end - timedelta(days=period)\n",
        "    try: \n",
        "      start = self.dates[self.dates['Date']<=start].iloc[-1].Date\n",
        "      print(\"start:{}\".format(start))\n",
        "\n",
        "      ending_balance = self.timeseries.loc[end]\n",
        "      beginning_balance = self.timeseries.loc[start]  \n",
        "\n",
        "      return ((ending_balance - beginning_balance)/beginning_balance)/(period//365)\n",
        "\n",
        "    except:\n",
        "      print(\"\\n Start date:{} is not available!\".format(start))\n",
        "  \n",
        "  def plot(self):\n",
        "    self.timeseries.plot()\n",
        "    plt.title(self.stock_name)\n",
        "\n",
        "     "
      ],
      "execution_count": 3,
      "outputs": []
    },
    {
      "cell_type": "code",
      "metadata": {
        "id": "3_LZkmFWB6ag",
        "colab_type": "code",
        "colab": {
          "base_uri": "https://localhost:8080/",
          "height": 180
        },
        "outputId": "0a7bc7a6-b5cb-45b8-b741-6b1470d68f2a"
      },
      "source": [
        "apple = Stock ('AAPL', '2012-01-01', '2020-07-01')"
      ],
      "execution_count": 4,
      "outputs": [
        {
          "output_type": "stream",
          "text": [
            "\r[*********************100%***********************]  1 of 1 completed\n",
            "Period:365\n",
            "end:2020-06-30 00:00:00\n",
            "start:2019-07-01 00:00:00\n",
            "Period:730\n",
            "end:2020-06-30 00:00:00\n",
            "start:2018-06-29 00:00:00\n",
            "Period:1825\n",
            "end:2020-06-30 00:00:00\n",
            "start:2015-07-02 00:00:00\n"
          ],
          "name": "stdout"
        }
      ]
    },
    {
      "cell_type": "code",
      "metadata": {
        "id": "VHCAk5nWCB0z",
        "colab_type": "code",
        "colab": {
          "base_uri": "https://localhost:8080/",
          "height": 33
        },
        "outputId": "1cdbde65-9748-4396-ef76-01ae67b695d3"
      },
      "source": [
        "apple.beta"
      ],
      "execution_count": 5,
      "outputs": [
        {
          "output_type": "execute_result",
          "data": {
            "text/plain": [
              "1.170435"
            ]
          },
          "metadata": {
            "tags": []
          },
          "execution_count": 5
        }
      ]
    },
    {
      "cell_type": "code",
      "metadata": {
        "id": "PAsodKEqCCrZ",
        "colab_type": "code",
        "colab": {
          "base_uri": "https://localhost:8080/",
          "height": 33
        },
        "outputId": "89be11af-166e-4731-de80-0e6abfae1fda"
      },
      "source": [
        "apple.one_year_return"
      ],
      "execution_count": 6,
      "outputs": [
        {
          "output_type": "execute_result",
          "data": {
            "text/plain": [
              "0.809972623514615"
            ]
          },
          "metadata": {
            "tags": []
          },
          "execution_count": 6
        }
      ]
    },
    {
      "cell_type": "code",
      "metadata": {
        "id": "BzuzzLr8CFA8",
        "colab_type": "code",
        "colab": {}
      },
      "source": [
        ""
      ],
      "execution_count": null,
      "outputs": []
    }
  ]
}