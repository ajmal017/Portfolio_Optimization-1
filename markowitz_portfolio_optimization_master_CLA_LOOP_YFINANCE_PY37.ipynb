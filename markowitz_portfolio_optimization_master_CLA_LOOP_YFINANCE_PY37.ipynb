{
  "nbformat": 4,
  "nbformat_minor": 0,
  "metadata": {
    "colab": {
      "name": "markowitz-portfolio-optimization-master.CLA_LOOP.YFINANCE.PY37.ipynb",
      "provenance": [],
      "authorship_tag": "ABX9TyOr9zHwXNc+gtIkra6PS5K+",
      "include_colab_link": true
    },
    "kernelspec": {
      "name": "python3",
      "display_name": "Python 3"
    }
  },
  "cells": [
    {
      "cell_type": "markdown",
      "metadata": {
        "id": "view-in-github",
        "colab_type": "text"
      },
      "source": [
        "<a href=\"https://colab.research.google.com/github/armandordorica/Portfolio_Optimization/blob/master/markowitz_portfolio_optimization_master_CLA_LOOP_YFINANCE_PY37.ipynb\" target=\"_parent\"><img src=\"https://colab.research.google.com/assets/colab-badge.svg\" alt=\"Open In Colab\"/></a>"
      ]
    },
    {
      "cell_type": "markdown",
      "metadata": {
        "id": "ncVUhV4xaAe4",
        "colab_type": "text"
      },
      "source": [
        "### Markowitz Portfolio Optimizer using Critical Line Algorithm"
      ]
    },
    {
      "cell_type": "code",
      "metadata": {
        "id": "8w2gxEn9IXQ3",
        "colab_type": "code",
        "colab": {
          "base_uri": "https://localhost:8080/",
          "height": 33
        },
        "outputId": "f69f9064-ee94-4022-f505-af9e9bfba040"
      },
      "source": [
        "from google.colab import drive\n",
        "drive.mount('/content/drive')"
      ],
      "execution_count": 1,
      "outputs": [
        {
          "output_type": "stream",
          "text": [
            "Mounted at /content/drive\n"
          ],
          "name": "stdout"
        }
      ]
    },
    {
      "cell_type": "code",
      "metadata": {
        "id": "FNP2zuzfSiEp",
        "colab_type": "code",
        "colab": {
          "base_uri": "https://localhost:8080/",
          "height": 33
        },
        "outputId": "07202e50-3581-4582-ec54-1e1297aab929"
      },
      "source": [
        "cd drive/My\\ Drive/u\\ of\\ t/APS\\ 1051\\ Portfolio\\ Optimization/Jupyter\\ Notebooks"
      ],
      "execution_count": 2,
      "outputs": [
        {
          "output_type": "stream",
          "text": [
            "/content/drive/My Drive/u of t/APS 1051 Portfolio Optimization/Jupyter Notebooks\n"
          ],
          "name": "stdout"
        }
      ]
    },
    {
      "cell_type": "code",
      "metadata": {
        "id": "5P3_hushSmTx",
        "colab_type": "code",
        "colab": {
          "base_uri": "https://localhost:8080/",
          "height": 98
        },
        "outputId": "d077cef0-1abc-4fc6-f8fc-7686fdc63c88"
      },
      "source": [
        "ls"
      ],
      "execution_count": 3,
      "outputs": [
        {
          "output_type": "stream",
          "text": [
            "FixYahoo.ipynb\n",
            "HarrysProblemLoop_MAINPROGRAM.ipynb\n",
            "HARRYS_PROBLEM_LOOP.py\n",
            "\u001b[0m\u001b[01;34mmarkowitz-portfolio-optimization-master.CLA_LOOP.YFINANCE.PY37\u001b[0m/\n",
            "\u001b[01;34mmarkowitz-portfolio-optimization-master.YFINANCE\u001b[0m/\n"
          ],
          "name": "stdout"
        }
      ]
    },
    {
      "cell_type": "code",
      "metadata": {
        "id": "Zjz_cVD8Q_5i",
        "colab_type": "code",
        "colab": {
          "base_uri": "https://localhost:8080/",
          "height": 362
        },
        "outputId": "6aa9b072-332d-46db-889e-f9d00293da7d"
      },
      "source": [
        "!pip install yfinance"
      ],
      "execution_count": 4,
      "outputs": [
        {
          "output_type": "stream",
          "text": [
            "Collecting yfinance\n",
            "  Downloading https://files.pythonhosted.org/packages/c2/31/8b374a12b90def92a4e27d0fc595fc43635f395984e36a075244d98bd265/yfinance-0.1.54.tar.gz\n",
            "Requirement already satisfied: pandas>=0.24 in /usr/local/lib/python3.6/dist-packages (from yfinance) (1.0.5)\n",
            "Requirement already satisfied: numpy>=1.15 in /usr/local/lib/python3.6/dist-packages (from yfinance) (1.18.5)\n",
            "Requirement already satisfied: requests>=2.20 in /usr/local/lib/python3.6/dist-packages (from yfinance) (2.23.0)\n",
            "Requirement already satisfied: multitasking>=0.0.7 in /usr/local/lib/python3.6/dist-packages (from yfinance) (0.0.9)\n",
            "Requirement already satisfied: python-dateutil>=2.6.1 in /usr/local/lib/python3.6/dist-packages (from pandas>=0.24->yfinance) (2.8.1)\n",
            "Requirement already satisfied: pytz>=2017.2 in /usr/local/lib/python3.6/dist-packages (from pandas>=0.24->yfinance) (2018.9)\n",
            "Requirement already satisfied: certifi>=2017.4.17 in /usr/local/lib/python3.6/dist-packages (from requests>=2.20->yfinance) (2020.6.20)\n",
            "Requirement already satisfied: urllib3!=1.25.0,!=1.25.1,<1.26,>=1.21.1 in /usr/local/lib/python3.6/dist-packages (from requests>=2.20->yfinance) (1.24.3)\n",
            "Requirement already satisfied: chardet<4,>=3.0.2 in /usr/local/lib/python3.6/dist-packages (from requests>=2.20->yfinance) (3.0.4)\n",
            "Requirement already satisfied: idna<3,>=2.5 in /usr/local/lib/python3.6/dist-packages (from requests>=2.20->yfinance) (2.9)\n",
            "Requirement already satisfied: six>=1.5 in /usr/local/lib/python3.6/dist-packages (from python-dateutil>=2.6.1->pandas>=0.24->yfinance) (1.12.0)\n",
            "Building wheels for collected packages: yfinance\n",
            "  Building wheel for yfinance (setup.py) ... \u001b[?25l\u001b[?25hdone\n",
            "  Created wheel for yfinance: filename=yfinance-0.1.54-py2.py3-none-any.whl size=22409 sha256=783dc6378cc3354ff27cdc41182677fcb1b71b5c28ed94bbc35204d09212e214\n",
            "  Stored in directory: /root/.cache/pip/wheels/f9/e3/5b/ec24dd2984b12d61e0abf26289746c2436a0e7844f26f2515c\n",
            "Successfully built yfinance\n",
            "Installing collected packages: yfinance\n",
            "Successfully installed yfinance-0.1.54\n"
          ],
          "name": "stdout"
        }
      ]
    },
    {
      "cell_type": "code",
      "metadata": {
        "id": "6auV6ogKRQD_",
        "colab_type": "code",
        "colab": {
          "base_uri": "https://localhost:8080/",
          "height": 163
        },
        "outputId": "be9b6709-27f4-409b-8bd9-4b9fbabffad0"
      },
      "source": [
        "!pip install cvxpy"
      ],
      "execution_count": 5,
      "outputs": [
        {
          "output_type": "stream",
          "text": [
            "Requirement already satisfied: cvxpy in /usr/local/lib/python3.6/dist-packages (1.0.31)\n",
            "Requirement already satisfied: ecos>=2 in /usr/local/lib/python3.6/dist-packages (from cvxpy) (2.0.7.post1)\n",
            "Requirement already satisfied: scipy>=1.1.0 in /usr/local/lib/python3.6/dist-packages (from cvxpy) (1.4.1)\n",
            "Requirement already satisfied: multiprocess in /usr/local/lib/python3.6/dist-packages (from cvxpy) (0.70.10)\n",
            "Requirement already satisfied: numpy>=1.15 in /usr/local/lib/python3.6/dist-packages (from cvxpy) (1.18.5)\n",
            "Requirement already satisfied: osqp>=0.4.1 in /usr/local/lib/python3.6/dist-packages (from cvxpy) (0.6.1)\n",
            "Requirement already satisfied: scs>=1.1.3 in /usr/local/lib/python3.6/dist-packages (from cvxpy) (2.1.2)\n",
            "Requirement already satisfied: dill>=0.3.2 in /usr/local/lib/python3.6/dist-packages (from multiprocess->cvxpy) (0.3.2)\n",
            "Requirement already satisfied: future in /usr/local/lib/python3.6/dist-packages (from osqp>=0.4.1->cvxpy) (0.16.0)\n"
          ],
          "name": "stdout"
        }
      ]
    },
    {
      "cell_type": "code",
      "metadata": {
        "id": "cNRJkX6VY8UK",
        "colab_type": "code",
        "colab": {
          "base_uri": "https://localhost:8080/",
          "height": 53
        },
        "outputId": "508913fe-7c65-42ed-edd2-1353b08671cc"
      },
      "source": [
        "cd markowitz-portfolio-optimization-master.CLA_LOOP.YFINANCE.PY37"
      ],
      "execution_count": 7,
      "outputs": [
        {
          "output_type": "stream",
          "text": [
            "/content/drive/My Drive/u of t/APS 1051 Portfolio Optimization/Jupyter Notebooks/markowitz-portfolio-optimization-master.CLA_LOOP.YFINANCE.PY37\n"
          ],
          "name": "stdout"
        }
      ]
    },
    {
      "cell_type": "code",
      "metadata": {
        "id": "zCFZY2ZDY_cD",
        "colab_type": "code",
        "colab": {
          "base_uri": "https://localhost:8080/",
          "height": 66
        },
        "outputId": "d4cde05e-9d7a-496c-d194-2cbdbcd8fa49"
      },
      "source": [
        "ls"
      ],
      "execution_count": 8,
      "outputs": [
        {
          "output_type": "stream",
          "text": [
            "CLA_Data.csv  main_CLA_loop_Python37_RUN_THIS.py  StockPrices.csv\n",
            "CLA_mod.py    \u001b[0m\u001b[01;34m__pycache__\u001b[0m/\n",
            "CLA_mod.pyc   README_INSTRUCTIONS.txt\n"
          ],
          "name": "stdout"
        }
      ]
    },
    {
      "cell_type": "markdown",
      "metadata": {
        "id": "KXzM-9j3Y59R",
        "colab_type": "text"
      },
      "source": [
        "# New Section"
      ]
    },
    {
      "cell_type": "code",
      "metadata": {
        "id": "p_nbepFzRTOH",
        "colab_type": "code",
        "colab": {
          "base_uri": "https://localhost:8080/",
          "height": 1000
        },
        "outputId": "3d1b829a-ffeb-4d10-8e05-f59c63d36b2b"
      },
      "source": [
        "# -*- coding: utf-8 -*-\n",
        "\"\"\"\n",
        "Created on Wed Dec 18 08:56:10 2019\n",
        "Written by Lopez de Prado\n",
        "This program runs in Python 2.7\n",
        "Applies Markowitz minimum variance weights and maximum sharpe ratio weights using Critical Line Algorithm\n",
        "https://dreamix.eu/blog/webothers/timeout-function-in-python-3\n",
        "\"\"\"\n",
        "\n",
        "import pandas as pd\n",
        "import numpy as np\n",
        "from pandas import Series, DataFrame\n",
        "import matplotlib.pyplot as plt\n",
        "import CLA_mod\n",
        "\n",
        "def plot2D(x,y,xLabel='',yLabel='',title='',pathChart=None):\n",
        "    import matplotlib.pyplot as mpl\n",
        "    fig=mpl.figure()\n",
        "    ax=fig.add_subplot(1,1,1) #one row, one column, first plot\n",
        "    ax.plot(x,y,color='blue')\n",
        "    ax.set_xlabel(xLabel)\n",
        "    ax.set_ylabel(yLabel,rotation=90)\n",
        "    mpl.xticks(rotation='vertical')\n",
        "    mpl.title(title)\n",
        "    if pathChart==None:\n",
        "        mpl.show()\n",
        "    else:\n",
        "        mpl.savefig(pathChart)\n",
        "    mpl.clf() # reset pylab\n",
        "    return\n",
        "\n",
        "#################################################################################\n",
        "## Read stock prices data from csv file\n",
        "#StockList = ['AAPL','IBM','MSFT','GOOG','QCOM']\t\t# Stock ticker names\n",
        "#price = pd.read_csv('StockPrices.csv')\n",
        "#price[\"Date\"]=pd.to_datetime(price[\"Date\"])\n",
        "#price.index = price[\"Date\"]\n",
        "#price = price.drop('Date',1)\n",
        "##################################################################################\n",
        "\n",
        "pd.core.common.is_list_like = pd.api.types.is_list_like #datareader problem probably fixed in next version of datareader\n",
        "from pandas_datareader import data as pdr\n",
        "import datetime as dt\n",
        "import yfinance as yf\n",
        "yf.pdr_override() # <== that's all it takes :-)\n",
        "#start, end = dt.datetime(2000, 1, 3), dt.datetime(2014, 12, 31)\n",
        "#StockList = ['AAPL','IBM','MSFT','GOOG','QCOM']\t\t# Stock ticker names\n",
        "\n",
        "start, end = dt.datetime(2009, 1, 30), dt.datetime(2020, 1, 30)\n",
        "StockList = ['AXP', 'AAPL', 'BA','CAT','CVX','CSCO','KO','DIS','XOM','GS', 'HD', 'IBM','INTC','JNJ','JPM','MCD','MRK','MSFT','NKE','PFE', 'PG', 'TRV','UTX','UNH', 'VZ','V','WMT','WBA']\n",
        "\n",
        "price = pd.DataFrame()\n",
        "for ticker in StockList:\n",
        "    price[ticker]  = pdr.get_data_yahoo(ticker, start=start, end=end).loc[:,'Close'] #breaks if 'Adj Close' prices are used\n",
        "\n",
        "\n",
        "interest_rate = 0.02/12\t\t# Fixed interest rate\n",
        "cash = .001\n",
        "# Specify number of days to shift\n",
        "shift = 20 #monthly rebalancing and return period\n",
        "lookback = 60\n",
        "T = 12 #months in a year\n",
        "# Compute returns over the time period specified by shift\n",
        "shift_returns = price/price.shift(shift) - 1\n",
        "\n",
        "NumStocks = len(StockList)\n",
        "\n",
        "# Compute mean\n",
        "shift_returns_mean_ewm = shift_returns.ewm(span=lookback).mean()\n",
        "shift_returns_mean_sma = shift_returns.rolling(window=lookback).mean()\n",
        "\n",
        "#covariance matrix construction\n",
        "arr = np.zeros(shift_returns.shape[0], dtype=object)\n",
        "for i in range(0, shift_returns.shape[0]-shift): \n",
        "    arr[i+shift]= shift_returns.iloc[i:i+shift].cov().fillna(value=0).to_numpy() \n",
        "\n",
        "shift_returns_copy = shift_returns.copy(deep=True)\n",
        "shift_returns_copy[\"covmatrix\"] = arr\n",
        "\n",
        "#lower and upper boundaries for CLA solver\n",
        "LB = np.zeros((NumStocks,1))\n",
        "UB = np.ones((NumStocks,1))\n",
        "\n",
        "# Variable Initialization\n",
        "start_date = '2009-06-01'\n",
        "index = shift_returns.index\n",
        "start_index = index.get_loc(start_date)\n",
        "end_date = index[-1]\n",
        "end_index = index.get_loc(end_date)\n",
        "date_index_iter = start_index\n",
        "StockList.append('InterestRate') ############################ ADD INTEREST RATE\n",
        "distribution = DataFrame(index=StockList)\n",
        "returns = Series(index=index)\n",
        "\n",
        "# Start Value\n",
        "total_value = 1.0\n",
        "returns[index[date_index_iter]] = total_value\n",
        "\n",
        "while date_index_iter + shift < end_index:\n",
        "    date = index[date_index_iter]\n",
        "    mean_cla = shift_returns_mean_ewm.loc[date].to_numpy().reshape(NumStocks,1)\n",
        "    covar_cla = shift_returns_copy[\"covmatrix\"].loc[date]\n",
        "    cla=CLA_mod.CLA(mean_cla,covar_cla,LB,UB)\n",
        "    br=0\n",
        "    cla.solve(br)\n",
        "    #Using Maximum Sharpe Ratio Weights\n",
        "    if br == 0:\n",
        "        sr,w_sr=cla.getMaxSR()\n",
        "    else:\n",
        "        sr=sr\n",
        "        w_sr=w_sr\n",
        "        \n",
        "    w_sr = (1-cash)*w_sr\n",
        "    w_sr = np.append(w_sr, cash)\n",
        "    portfolio_alloc = w_sr\n",
        "\n",
        "#    #using Minimum Variance Weights\n",
        "#    mv,w_mv=cla.getMinVar()\n",
        "#    w_mv = (1-cash)*w_mv\n",
        "#    w_mv = np.append(w_mv, cash)\n",
        "#    portfolio_alloc = w_mv\n",
        "\n",
        "    distribution[date.strftime('%Y-%m-%d')] = portfolio_alloc\n",
        "    \n",
        "    # Calculating portfolio return\n",
        "    date2 = index[date_index_iter+shift]\n",
        "    temp1 = price.loc[date2]/price.loc[date]\n",
        "    temp1.loc[StockList[-1]] = interest_rate+1 #StockList[-1] is \"InterestRate\"\n",
        "    \n",
        "    temp2 = Series(np.array(portfolio_alloc.ravel()).reshape(len(portfolio_alloc)),index=StockList)\n",
        "    total_value = np.sum(total_value*temp2*temp1)\n",
        "    \n",
        "\t# Increment Date\n",
        "    date_index_iter += shift\n",
        "    returns[index[date_index_iter]] = total_value\n",
        "\n",
        "# Remove dates that there are no trades from returns\n",
        "returns = returns[np.isfinite(returns)]\n",
        "\n",
        "\n",
        "# Plot portfolio allocation of last 10 periods\n",
        "ax = distribution.T.iloc[-10:].plot(kind='bar',stacked=True)\n",
        "plt.ylim([0,1])\n",
        "plt.xlabel('Date')\n",
        "plt.ylabel('distribution')\n",
        "plt.title('distribution vs. Time')\n",
        "ax.legend(loc='center left', bbox_to_anchor=(1, 0.5))\n",
        "# plt.savefig('allocation.png')\n",
        "\n",
        "\"\"\"\n",
        "# Plot stock prices and shifted returns\n",
        "fig, axes = plt.subplots(nrows=2,ncols=1)\n",
        "price.plot(ax=axes[0])\n",
        "shift_returns.plot(ax=axes[1])\n",
        "axes[0].set_title('Stock Prices')\n",
        "axes[0].set_xlabel('Date')\n",
        "axes[0].set_ylabel('Price')\n",
        "axes[0].legend(loc='center left', bbox_to_anchor=(1, 0.5))\n",
        "axes[1].set_title(str(shift)+ ' Day Shift returns')\n",
        "axes[1].set_xlabel('Date')\n",
        "axes[1].set_ylabel('returns ' + str(shift) + ' Days Apart')\n",
        "axes[1].legend(loc='center left', bbox_to_anchor=(1, 0.5))\n",
        "# plt.savefig('stocks.png', pad_inches=1)\n",
        "fig.tight_layout()\n",
        "plt.show()\n",
        "\"\"\"\n",
        "\n",
        "# Plot portfolio returns vs. time\n",
        "plt.figure()\n",
        "returns.plot()\n",
        "plt.xlabel('Date')\n",
        "plt.ylabel('Portolio acc. returns')\n",
        "plt.title('Portfolio acc. returns vs. Time')\n",
        "# plt.savefig('returns.png')\n",
        "print ('returns std=', returns.std())\n",
        "\n",
        "plt.show()\n",
        "\n",
        "df = pd.DataFrame(returns, index=returns.index, columns=['I'])\n",
        "df[\"returns\"]=(df.I-df.I.shift(1))/df.I.shift(1)\n",
        "start_date = df.iloc[0].name\n",
        "end_date = df.iloc[-1].name\n",
        "days_per_month = float(30) #since .days (see below) is calendar days, need to use 30 here\n",
        "months = float((end_date - start_date).days/days_per_month )\n",
        "periods = float(12) #12 months in a year\n",
        "start_val = float(df['I'].iat[0])\n",
        "end_val = float(df['I'].iat[-1])\n",
        "years = float(months)/float(periods)\n",
        "\n",
        "CAGR = ((((end_val/start_val)**(1/years)))-1)\n",
        "TotaAnnReturn = (end_val-start_val)/(start_val)/years\n",
        "\n",
        "try:\n",
        "    sharpe =  TotaAnnReturn/( (df.returns.std()) * np.sqrt(periods))\n",
        "except ZeroDivisionError:\n",
        "    sharpe = 0.0\n",
        "\n",
        "#this is a more conservataive estimate:\n",
        "try:\n",
        "    sharpe2 =  (df.returns.mean()/df.returns.std()) * np.sqrt(periods)\n",
        "except ZeroDivisionError:\n",
        "    sharpe2 = 0.0\n",
        "\n",
        "print (\"TotaAnnReturn in percent = %f\" %(TotaAnnReturn*100))\n",
        "print (\"CAGR in percent = %f\" %(CAGR*100))\n",
        "print (\"Sharpe Ratio = %f\" %(round(sharpe,2)))\n",
        "print (\"Sharpe2 Ratio = %f\" %(round(sharpe2,2)))\n",
        "\n",
        "\n",
        "##Annualized Efficient Frontier based on latest month\n",
        "#mu,sigma,weights=cla.efFrontier(100)\n",
        "#mu = np.power((1 + np.array(mu)),T) - 1\n",
        "#sigma=np.array(sigma)*np.sqrt(T)\n",
        "#plot2D(sigma,mu,'Annualized Risk','Annualized Expected Excess Return in Frac','CLA-derived Efficient Frontier in Frac')"
      ],
      "execution_count": 9,
      "outputs": [
        {
          "output_type": "stream",
          "text": [
            "/usr/local/lib/python3.6/dist-packages/pandas_datareader/compat/__init__.py:7: FutureWarning: pandas.util.testing is deprecated. Use the functions in the public API at pandas.testing instead.\n",
            "  from pandas.util.testing import assert_frame_equal\n"
          ],
          "name": "stderr"
        },
        {
          "output_type": "stream",
          "text": [
            "[*********************100%***********************]  1 of 1 completed\n",
            "[*********************100%***********************]  1 of 1 completed\n",
            "[*********************100%***********************]  1 of 1 completed\n",
            "[*********************100%***********************]  1 of 1 completed\n",
            "[*********************100%***********************]  1 of 1 completed\n",
            "[*********************100%***********************]  1 of 1 completed\n",
            "[*********************100%***********************]  1 of 1 completed\n",
            "[*********************100%***********************]  1 of 1 completed\n",
            "[*********************100%***********************]  1 of 1 completed\n",
            "[*********************100%***********************]  1 of 1 completed\n",
            "[*********************100%***********************]  1 of 1 completed\n",
            "[*********************100%***********************]  1 of 1 completed\n",
            "[*********************100%***********************]  1 of 1 completed\n",
            "[*********************100%***********************]  1 of 1 completed\n",
            "[*********************100%***********************]  1 of 1 completed\n",
            "[*********************100%***********************]  1 of 1 completed\n",
            "[*********************100%***********************]  1 of 1 completed\n",
            "[*********************100%***********************]  1 of 1 completed\n",
            "[*********************100%***********************]  1 of 1 completed\n",
            "[*********************100%***********************]  1 of 1 completed\n",
            "[*********************100%***********************]  1 of 1 completed\n",
            "[*********************100%***********************]  1 of 1 completed\n",
            "[*********************100%***********************]  1 of 1 completed\n",
            "[*********************100%***********************]  1 of 1 completed\n",
            "[*********************100%***********************]  1 of 1 completed\n",
            "[*********************100%***********************]  1 of 1 completed\n",
            "[*********************100%***********************]  1 of 1 completed\n",
            "[*********************100%***********************]  1 of 1 completed\n"
          ],
          "name": "stdout"
        },
        {
          "output_type": "stream",
          "text": [
            "/usr/local/lib/python3.6/dist-packages/ipykernel_launcher.py:93: DeprecationWarning: The default dtype for empty Series will be 'object' instead of 'float64' in a future version. Specify a dtype explicitly to silence this warning.\n"
          ],
          "name": "stderr"
        },
        {
          "output_type": "stream",
          "text": [
            "returns std= 1.0059317528889093\n"
          ],
          "name": "stdout"
        },
        {
          "output_type": "display_data",
          "data": {
            "image/png": "[encoded data removed]",
            "text/plain": [
              "<Figure size 432x288 with 1 Axes>"
            ]
          },
          "metadata": {
            "tags": [],
            "needs_background": "light"
          }
        },
        {
          "output_type": "display_data",
          "data": {
            "image/png": "[encoded data removed]",
            "text/plain": [
              "<Figure size 432x288 with 1 Axes>"
            ]
          },
          "metadata": {
            "tags": [],
            "needs_background": "light"
          }
        },
        {
          "output_type": "stream",
          "text": [
            "TotaAnnReturn in percent = 31.517226\n",
            "CAGR in percent = 14.713417\n",
            "Sharpe Ratio = 2.680000\n",
            "Sharpe2 Ratio = 1.190000\n"
          ],
          "name": "stdout"
        }
      ]
    },
    {
      "cell_type": "code",
      "metadata": {
        "id": "ncSIuVJWRWo_",
        "colab_type": "code",
        "colab": {
          "base_uri": "https://localhost:8080/",
          "height": 82
        },
        "outputId": "e0d1200f-34f9-4496-ab53-1b9415412a19"
      },
      "source": [
        "ls"
      ],
      "execution_count": null,
      "outputs": [
        {
          "output_type": "stream",
          "text": [
            "LICENSE               posdef.py                Report.pdf\n",
            "main_mod_RUN_THIS.py  \u001b[0m\u001b[01;34m__pycache__\u001b[0m/             \u001b[01;34msample_data\u001b[0m/\n",
            "markowitz_mod.py      README_INSTRUCTIONS.txt  StockPrices.csv\n",
            "markowitz_mod.pyc     README.md\n"
          ],
          "name": "stdout"
        }
      ]
    },
    {
      "cell_type": "code",
      "metadata": {
        "id": "mcaOIJLQRb6Y",
        "colab_type": "code",
        "colab": {}
      },
      "source": [
        ""
      ],
      "execution_count": null,
      "outputs": []
    }
  ]
}