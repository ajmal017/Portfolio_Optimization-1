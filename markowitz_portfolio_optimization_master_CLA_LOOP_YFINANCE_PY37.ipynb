{
  "nbformat": 4,
  "nbformat_minor": 0,
  "metadata": {
    "colab": {
      "name": "markowitz-portfolio-optimization-master.CLA_LOOP.YFINANCE.PY37.ipynb",
      "provenance": [],
      "authorship_tag": "ABX9TyMcdUnWGnyJC3MBGKWR7pAH",
      "include_colab_link": true
    },
    "kernelspec": {
      "name": "python3",
      "display_name": "Python 3"
    }
  },
  "cells": [
    {
      "cell_type": "markdown",
      "metadata": {
        "id": "view-in-github",
        "colab_type": "text"
      },
      "source": [
        "<a href=\"https://colab.research.google.com/github/armandordorica/Portfolio_Optimization/blob/master/markowitz_portfolio_optimization_master_CLA_LOOP_YFINANCE_PY37.ipynb\" target=\"_parent\"><img src=\"https://colab.research.google.com/assets/colab-badge.svg\" alt=\"Open In Colab\"/></a>"
      ]
    },
    {
      "cell_type": "markdown",
      "metadata": {
        "id": "ncVUhV4xaAe4",
        "colab_type": "text"
      },
      "source": [
        "### Markowitz Portfolio Optimizer using Critical Line Algorithm"
      ]
    },
    {
      "cell_type": "code",
      "metadata": {
        "id": "8w2gxEn9IXQ3",
        "colab_type": "code",
        "colab": {
          "base_uri": "https://localhost:8080/",
          "height": 118
        },
        "outputId": "834866c9-98ba-4085-cd94-7bf5a6b0cb5a"
      },
      "source": [
        "from google.colab import drive\n",
        "drive.mount('/content/drive')"
      ],
      "execution_count": 1,
      "outputs": [
        {
          "output_type": "stream",
          "text": [
            "Go to this URL in a browser: https://accounts.google.com/o/oauth2/auth?client_id=947318989803-6bn6qk8qdgf4n4g3pfee6491hc0brc4i.apps.googleusercontent.com&redirect_uri=urn%3aietf%3awg%3aoauth%3a2.0%3aoob&response_type=code&scope=email%20https%3a%2f%2fwww.googleapis.com%2fauth%2fdocs.test%20https%3a%2f%2fwww.googleapis.com%2fauth%2fdrive%20https%3a%2f%2fwww.googleapis.com%2fauth%2fdrive.photos.readonly%20https%3a%2f%2fwww.googleapis.com%2fauth%2fpeopleapi.readonly\n",
            "\n",
            "Enter your authorization code:\n",
            "··········\n",
            "Mounted at /content/drive\n"
          ],
          "name": "stdout"
        }
      ]
    },
    {
      "cell_type": "code",
      "metadata": {
        "id": "FNP2zuzfSiEp",
        "colab_type": "code",
        "colab": {
          "base_uri": "https://localhost:8080/",
          "height": 33
        },
        "outputId": "e2da91f1-3385-43a7-f8dc-bcccac56fd8c"
      },
      "source": [
        "cd drive/My\\ Drive/u\\ of\\ t/APS\\ 1051\\ Portfolio\\ Optimization/Jupyter\\ Notebooks"
      ],
      "execution_count": 2,
      "outputs": [
        {
          "output_type": "stream",
          "text": [
            "/content/drive/My Drive/u of t/APS 1051 Portfolio Optimization/Jupyter Notebooks\n"
          ],
          "name": "stdout"
        }
      ]
    },
    {
      "cell_type": "code",
      "metadata": {
        "id": "5P3_hushSmTx",
        "colab_type": "code",
        "colab": {
          "base_uri": "https://localhost:8080/",
          "height": 33
        },
        "outputId": "9a06b02e-972f-4d26-cca8-8bc1c32e63d2"
      },
      "source": [
        "cd markowitz-portfolio-optimization-master.CLA_LOOP.YFINANCE.PY37"
      ],
      "execution_count": 4,
      "outputs": [
        {
          "output_type": "stream",
          "text": [
            "/content/drive/My Drive/u of t/APS 1051 Portfolio Optimization/Jupyter Notebooks/markowitz-portfolio-optimization-master.CLA_LOOP.YFINANCE.PY37\n"
          ],
          "name": "stdout"
        }
      ]
    },
    {
      "cell_type": "code",
      "metadata": {
        "id": "lfM_mGDyGgJp",
        "colab_type": "code",
        "colab": {
          "base_uri": "https://localhost:8080/",
          "height": 66
        },
        "outputId": "c4931904-51ec-4101-aef3-c513d6fc1ac3"
      },
      "source": [
        "ls"
      ],
      "execution_count": 6,
      "outputs": [
        {
          "output_type": "stream",
          "text": [
            "CLA_Data.csv  main_CLA_loop_Python37_RUN_THIS.py  StockPrices.csv\n",
            "CLA_mod.py    \u001b[0m\u001b[01;34m__pycache__\u001b[0m/\n",
            "CLA_mod.pyc   README_INSTRUCTIONS.txt\n"
          ],
          "name": "stdout"
        }
      ]
    },
    {
      "cell_type": "code",
      "metadata": {
        "id": "Zjz_cVD8Q_5i",
        "colab_type": "code",
        "colab": {
          "base_uri": "https://localhost:8080/",
          "height": 342
        },
        "outputId": "fe1e6209-6a73-4aa1-b246-2b2586a69b51"
      },
      "source": [
        "!pip install yfinance"
      ],
      "execution_count": 7,
      "outputs": [
        {
          "output_type": "stream",
          "text": [
            "Collecting yfinance\n",
            "  Downloading https://files.pythonhosted.org/packages/c2/31/8b374a12b90def92a4e27d0fc595fc43635f395984e36a075244d98bd265/yfinance-0.1.54.tar.gz\n",
            "Requirement already satisfied: pandas>=0.24 in /usr/local/lib/python3.6/dist-packages (from yfinance) (1.0.5)\n",
            "Requirement already satisfied: numpy>=1.15 in /usr/local/lib/python3.6/dist-packages (from yfinance) (1.18.5)\n",
            "Requirement already satisfied: requests>=2.20 in /usr/local/lib/python3.6/dist-packages (from yfinance) (2.23.0)\n",
            "Requirement already satisfied: multitasking>=0.0.7 in /usr/local/lib/python3.6/dist-packages (from yfinance) (0.0.9)\n",
            "Requirement already satisfied: python-dateutil>=2.6.1 in /usr/local/lib/python3.6/dist-packages (from pandas>=0.24->yfinance) (2.8.1)\n",
            "Requirement already satisfied: pytz>=2017.2 in /usr/local/lib/python3.6/dist-packages (from pandas>=0.24->yfinance) (2018.9)\n",
            "Requirement already satisfied: idna<3,>=2.5 in /usr/local/lib/python3.6/dist-packages (from requests>=2.20->yfinance) (2.9)\n",
            "Requirement already satisfied: urllib3!=1.25.0,!=1.25.1,<1.26,>=1.21.1 in /usr/local/lib/python3.6/dist-packages (from requests>=2.20->yfinance) (1.24.3)\n",
            "Requirement already satisfied: chardet<4,>=3.0.2 in /usr/local/lib/python3.6/dist-packages (from requests>=2.20->yfinance) (3.0.4)\n",
            "Requirement already satisfied: certifi>=2017.4.17 in /usr/local/lib/python3.6/dist-packages (from requests>=2.20->yfinance) (2020.6.20)\n",
            "Requirement already satisfied: six>=1.5 in /usr/local/lib/python3.6/dist-packages (from python-dateutil>=2.6.1->pandas>=0.24->yfinance) (1.12.0)\n",
            "Building wheels for collected packages: yfinance\n",
            "  Building wheel for yfinance (setup.py) ... \u001b[?25l\u001b[?25hdone\n",
            "  Created wheel for yfinance: filename=yfinance-0.1.54-py2.py3-none-any.whl size=22409 sha256=ae24f8798203d255b320ddba6945d13fa4aa650c647b04528d28bf60d1302f5f\n",
            "  Stored in directory: /root/.cache/pip/wheels/f9/e3/5b/ec24dd2984b12d61e0abf26289746c2436a0e7844f26f2515c\n",
            "Successfully built yfinance\n",
            "Installing collected packages: yfinance\n",
            "Successfully installed yfinance-0.1.54\n"
          ],
          "name": "stdout"
        }
      ]
    },
    {
      "cell_type": "code",
      "metadata": {
        "id": "6auV6ogKRQD_",
        "colab_type": "code",
        "colab": {
          "base_uri": "https://localhost:8080/",
          "height": 163
        },
        "outputId": "775c4104-566c-4be3-c67f-6bf957e231ad"
      },
      "source": [
        "!pip install cvxpy"
      ],
      "execution_count": 8,
      "outputs": [
        {
          "output_type": "stream",
          "text": [
            "Requirement already satisfied: cvxpy in /usr/local/lib/python3.6/dist-packages (1.0.31)\n",
            "Requirement already satisfied: numpy>=1.15 in /usr/local/lib/python3.6/dist-packages (from cvxpy) (1.18.5)\n",
            "Requirement already satisfied: osqp>=0.4.1 in /usr/local/lib/python3.6/dist-packages (from cvxpy) (0.6.1)\n",
            "Requirement already satisfied: scipy>=1.1.0 in /usr/local/lib/python3.6/dist-packages (from cvxpy) (1.4.1)\n",
            "Requirement already satisfied: ecos>=2 in /usr/local/lib/python3.6/dist-packages (from cvxpy) (2.0.7.post1)\n",
            "Requirement already satisfied: multiprocess in /usr/local/lib/python3.6/dist-packages (from cvxpy) (0.70.10)\n",
            "Requirement already satisfied: scs>=1.1.3 in /usr/local/lib/python3.6/dist-packages (from cvxpy) (2.1.2)\n",
            "Requirement already satisfied: future in /usr/local/lib/python3.6/dist-packages (from osqp>=0.4.1->cvxpy) (0.16.0)\n",
            "Requirement already satisfied: dill>=0.3.2 in /usr/local/lib/python3.6/dist-packages (from multiprocess->cvxpy) (0.3.2)\n"
          ],
          "name": "stdout"
        }
      ]
    },
    {
      "cell_type": "code",
      "metadata": {
        "id": "zCFZY2ZDY_cD",
        "colab_type": "code",
        "colab": {
          "base_uri": "https://localhost:8080/",
          "height": 66
        },
        "outputId": "1aa24c8b-96ed-46e7-8c72-3c318040fc92"
      },
      "source": [
        "ls"
      ],
      "execution_count": 10,
      "outputs": [
        {
          "output_type": "stream",
          "text": [
            "CLA_Data.csv  main_CLA_loop_Python37_RUN_THIS.py  StockPrices.csv\n",
            "CLA_mod.py    \u001b[0m\u001b[01;34m__pycache__\u001b[0m/\n",
            "CLA_mod.pyc   README_INSTRUCTIONS.txt\n"
          ],
          "name": "stdout"
        }
      ]
    },
    {
      "cell_type": "markdown",
      "metadata": {
        "id": "KXzM-9j3Y59R",
        "colab_type": "text"
      },
      "source": [
        "# New Section"
      ]
    },
    {
      "cell_type": "code",
      "metadata": {
        "id": "p_nbepFzRTOH",
        "colab_type": "code",
        "colab": {
          "base_uri": "https://localhost:8080/",
          "height": 1000
        },
        "outputId": "8c15c62a-2ba8-4704-cfa5-428d52a33cfa"
      },
      "source": [
        "# -*- coding: utf-8 -*-\n",
        "\"\"\"\n",
        "Created on Wed Dec 18 08:56:10 2019\n",
        "Written by Lopez de Prado\n",
        "This program runs in Python 2.7\n",
        "Applies Markowitz minimum variance weights and maximum sharpe ratio weights using Critical Line Algorithm\n",
        "https://dreamix.eu/blog/webothers/timeout-function-in-python-3\n",
        "\"\"\"\n",
        "\n",
        "import pandas as pd\n",
        "import numpy as np\n",
        "from pandas import Series, DataFrame\n",
        "import matplotlib.pyplot as plt\n",
        "import CLA_mod\n",
        "\n",
        "def plot2D(x,y,xLabel='',yLabel='',title='',pathChart=None):\n",
        "    import matplotlib.pyplot as mpl\n",
        "    fig=mpl.figure()\n",
        "    ax=fig.add_subplot(1,1,1) #one row, one column, first plot\n",
        "    ax.plot(x,y,color='blue')\n",
        "    ax.set_xlabel(xLabel)\n",
        "    ax.set_ylabel(yLabel,rotation=90)\n",
        "    mpl.xticks(rotation='vertical')\n",
        "    mpl.title(title)\n",
        "    if pathChart==None:\n",
        "        mpl.show()\n",
        "    else:\n",
        "        mpl.savefig(pathChart)\n",
        "    mpl.clf() # reset pylab\n",
        "    return\n",
        "\n",
        "#################################################################################\n",
        "## Read stock prices data from csv file\n",
        "#StockList = ['AAPL','IBM','MSFT','GOOG','QCOM']\t\t# Stock ticker names\n",
        "#price = pd.read_csv('StockPrices.csv')\n",
        "#price[\"Date\"]=pd.to_datetime(price[\"Date\"])\n",
        "#price.index = price[\"Date\"]\n",
        "#price = price.drop('Date',1)\n",
        "##################################################################################\n",
        "\n",
        "pd.core.common.is_list_like = pd.api.types.is_list_like #datareader problem probably fixed in next version of datareader\n",
        "from pandas_datareader import data as pdr\n",
        "import datetime as dt\n",
        "import yfinance as yf\n",
        "yf.pdr_override() # <== that's all it takes :-)\n",
        "#start, end = dt.datetime(2000, 1, 3), dt.datetime(2014, 12, 31)\n",
        "#StockList = ['AAPL','IBM','MSFT','GOOG','QCOM']\t\t# Stock ticker names\n",
        "\n",
        "start, end = dt.datetime(2009, 1, 30), dt.datetime(2020, 1, 30)\n",
        "StockList = ['AXP', 'AAPL', 'BA','CAT','CVX','CSCO','KO','DIS','XOM','GS', 'HD', 'IBM','INTC','JNJ','JPM','MCD','MRK','MSFT','NKE','PFE', 'PG', 'TRV','UTX','UNH', 'VZ','V','WMT','WBA']\n",
        "\n",
        "# StockList= [\"XLB\",\"XLE\", \"XLF\", \"XLI\", \"XLK\", \"XLP\", \"XLU\", \"XLV\", \"XLY\"]\n",
        "\n",
        "\n",
        "\n",
        "\n",
        "price = pd.DataFrame()\n",
        "for ticker in StockList:\n",
        "    price[ticker]  = pdr.get_data_yahoo(ticker, start=start, end=end).loc[:,'Close'] #breaks if 'Adj Close' prices are used\n",
        "\n",
        "\n",
        "interest_rate = 0.02/12\t\t# Fixed interest rate\n",
        "cash = .10\n",
        "# Specify number of days to shift\n",
        "shift = 20 #monthly rebalancing and return period\n",
        "lookback = 60\n",
        "T = 12 #months in a year\n",
        "# Compute returns over the time period specified by shift\n",
        "shift_returns = price/price.shift(shift) - 1\n",
        "\n",
        "NumStocks = len(StockList)\n",
        "\n",
        "# Compute mean\n",
        "shift_returns_mean_ewm = shift_returns.ewm(span=lookback).mean()\n",
        "shift_returns_mean_sma = shift_returns.rolling(window=lookback).mean()\n",
        "\n",
        "#covariance matrix construction\n",
        "arr = np.zeros(shift_returns.shape[0], dtype=object)\n",
        "for i in range(0, shift_returns.shape[0]-shift): \n",
        "    arr[i+shift]= shift_returns.iloc[i:i+shift].cov().fillna(value=0).to_numpy() \n",
        "\n",
        "shift_returns_copy = shift_returns.copy(deep=True)\n",
        "shift_returns_copy[\"covmatrix\"] = arr\n",
        "\n",
        "#lower and upper boundaries for CLA solver\n",
        "LB = np.zeros((NumStocks,1))\n",
        "UB = np.ones((NumStocks,1))\n",
        "\n",
        "# Variable Initialization\n",
        "start_date = '2009-06-01'\n",
        "index = shift_returns.index\n",
        "start_index = index.get_loc(start_date)\n",
        "end_date = index[-1]\n",
        "end_index = index.get_loc(end_date)\n",
        "date_index_iter = start_index\n",
        "StockList.append('InterestRate') ############################ ADD INTEREST RATE\n",
        "distribution = DataFrame(index=StockList)\n",
        "returns = Series(index=index)\n",
        "\n",
        "# Start Value\n",
        "total_value = 1.0\n",
        "\n",
        "returns[index[date_index_iter]] = total_value\n",
        "\n",
        "while date_index_iter + shift < end_index:\n",
        "    date = index[date_index_iter]\n",
        "    mean_cla = shift_returns_mean_ewm.loc[date].to_numpy().reshape(NumStocks,1)\n",
        "    covar_cla = shift_returns_copy[\"covmatrix\"].loc[date]\n",
        "    cla=CLA_mod.CLA(mean_cla,covar_cla,LB,UB)\n",
        "    br=0\n",
        "    cla.solve(br)\n",
        "    #Using Maximum Sharpe Ratio Weights\n",
        "    if br == 0:\n",
        "        sr,w_sr=cla.getMaxSR()\n",
        "    else:\n",
        "        sr=sr\n",
        "        w_sr=w_sr\n",
        "        \n",
        "    w_sr = (1-cash)*w_sr\n",
        "    w_sr = np.append(w_sr, cash)\n",
        "    portfolio_alloc = w_sr\n",
        "\n",
        "#    #using Minimum Variance Weights\n",
        "#    mv,w_mv=cla.getMinVar()\n",
        "#    w_mv = (1-cash)*w_mv\n",
        "#    w_mv = np.append(w_mv, cash)\n",
        "#    portfolio_alloc = w_mv\n",
        "\n",
        "    distribution[date.strftime('%Y-%m-%d')] = portfolio_alloc\n",
        "    \n",
        "    # Calculating portfolio return\n",
        "    date2 = index[date_index_iter+shift]\n",
        "    temp1 = price.loc[date2]/price.loc[date]\n",
        "    temp1.loc[StockList[-1]] = interest_rate+1 #StockList[-1] is \"InterestRate\"\n",
        "    \n",
        "    temp2 = Series(np.array(portfolio_alloc.ravel()).reshape(len(portfolio_alloc)),index=StockList)\n",
        "    total_value = np.sum(total_value*temp2*temp1)\n",
        "    \n",
        "\t# Increment Date\n",
        "    date_index_iter += shift\n",
        "    returns[index[date_index_iter]] = total_value\n",
        "\n",
        "# Remove dates that there are no trades from returns\n",
        "returns = returns[np.isfinite(returns)]\n",
        "\n",
        "\n",
        "# Plot portfolio allocation of last 10 periods\n",
        "ax = distribution.T.iloc[-10:].plot(kind='bar',stacked=True)\n",
        "plt.ylim([0,1])\n",
        "plt.xlabel('Date')\n",
        "plt.ylabel('distribution')\n",
        "plt.title('distribution vs. Time')\n",
        "ax.legend(loc='center left', bbox_to_anchor=(1, 0.5))\n",
        "# plt.savefig('allocation.png')\n",
        "\n",
        "\"\"\"\n",
        "# Plot stock prices and shifted returns\n",
        "fig, axes = plt.subplots(nrows=2,ncols=1)\n",
        "price.plot(ax=axes[0])\n",
        "shift_returns.plot(ax=axes[1])\n",
        "axes[0].set_title('Stock Prices')\n",
        "axes[0].set_xlabel('Date')\n",
        "axes[0].set_ylabel('Price')\n",
        "axes[0].legend(loc='center left', bbox_to_anchor=(1, 0.5))\n",
        "axes[1].set_title(str(shift)+ ' Day Shift returns')\n",
        "axes[1].set_xlabel('Date')\n",
        "axes[1].set_ylabel('returns ' + str(shift) + ' Days Apart')\n",
        "axes[1].legend(loc='center left', bbox_to_anchor=(1, 0.5))\n",
        "# plt.savefig('stocks.png', pad_inches=1)\n",
        "fig.tight_layout()\n",
        "plt.show()\n",
        "\"\"\"\n",
        "\n",
        "# Plot portfolio returns vs. time\n",
        "plt.figure()\n",
        "returns.plot()\n",
        "plt.xlabel('Date')\n",
        "plt.ylabel('Portolio acc. returns')\n",
        "plt.title('Portfolio acc. returns vs. Time')\n",
        "# plt.savefig('returns.png')\n",
        "print ('returns std=', returns.std())\n",
        "\n",
        "plt.show()\n",
        "\n",
        "df = pd.DataFrame(returns, index=returns.index, columns=['I'])\n",
        "df[\"returns\"]=(df.I-df.I.shift(1))/df.I.shift(1)\n",
        "start_date = df.iloc[0].name\n",
        "end_date = df.iloc[-1].name\n",
        "days_per_month = float(30) #since .days (see below) is calendar days, need to use 30 here\n",
        "months = float((end_date - start_date).days/days_per_month )\n",
        "periods = float(12) #12 months in a year\n",
        "start_val = float(df['I'].iat[0])\n",
        "end_val = float(df['I'].iat[-1])\n",
        "years = float(months)/float(periods)\n",
        "\n",
        "CAGR = ((((end_val/start_val)**(1/years)))-1)\n",
        "TotaAnnReturn = (end_val-start_val)/(start_val)/years\n",
        "\n",
        "try:\n",
        "    sharpe =  TotaAnnReturn/( (df.returns.std()) * np.sqrt(periods))\n",
        "except ZeroDivisionError:\n",
        "    sharpe = 0.0\n",
        "\n",
        "#this is a more conservataive estimate:\n",
        "try:\n",
        "    sharpe2 =  (df.returns.mean()/df.returns.std()) * np.sqrt(periods)\n",
        "except ZeroDivisionError:\n",
        "    sharpe2 = 0.0\n",
        "\n",
        "print (\"TotaAnnReturn in percent = %f\" %(TotaAnnReturn*100))\n",
        "print (\"CAGR in percent = %f\" %(CAGR*100))\n",
        "print (\"Sharpe Ratio = %f\" %(round(sharpe,2)))\n",
        "print (\"Sharpe2 Ratio = %f\" %(round(sharpe2,2)))\n",
        "\n",
        "\n",
        "##Annualized Efficient Frontier based on latest month\n",
        "#mu,sigma,weights=cla.efFrontier(100)\n",
        "#mu = np.power((1 + np.array(mu)),T) - 1\n",
        "#sigma=np.array(sigma)*np.sqrt(T)\n",
        "#plot2D(sigma,mu,'Annualized Risk','Annualized Expected Excess Return in Frac','CLA-derived Efficient Frontier in Frac')"
      ],
      "execution_count": 39,
      "outputs": [
        {
          "output_type": "stream",
          "text": [
            "[*********************100%***********************]  1 of 1 completed\n",
            "[*********************100%***********************]  1 of 1 completed\n",
            "[*********************100%***********************]  1 of 1 completed\n",
            "[*********************100%***********************]  1 of 1 completed\n",
            "[*********************100%***********************]  1 of 1 completed\n",
            "[*********************100%***********************]  1 of 1 completed\n",
            "[*********************100%***********************]  1 of 1 completed\n",
            "[*********************100%***********************]  1 of 1 completed\n",
            "[*********************100%***********************]  1 of 1 completed\n",
            "[*********************100%***********************]  1 of 1 completed\n",
            "[*********************100%***********************]  1 of 1 completed\n",
            "[*********************100%***********************]  1 of 1 completed\n",
            "[*********************100%***********************]  1 of 1 completed\n",
            "[*********************100%***********************]  1 of 1 completed\n",
            "[*********************100%***********************]  1 of 1 completed\n",
            "[*********************100%***********************]  1 of 1 completed\n",
            "[*********************100%***********************]  1 of 1 completed\n",
            "[*********************100%***********************]  1 of 1 completed\n",
            "[*********************100%***********************]  1 of 1 completed\n",
            "[*********************100%***********************]  1 of 1 completed\n",
            "[*********************100%***********************]  1 of 1 completed\n",
            "[*********************100%***********************]  1 of 1 completed\n",
            "[*********************100%***********************]  1 of 1 completed\n",
            "[*********************100%***********************]  1 of 1 completed\n",
            "[*********************100%***********************]  1 of 1 completed\n",
            "[*********************100%***********************]  1 of 1 completed\n",
            "[*********************100%***********************]  1 of 1 completed\n",
            "[*********************100%***********************]  1 of 1 completed\n"
          ],
          "name": "stdout"
        },
        {
          "output_type": "stream",
          "text": [
            "/usr/local/lib/python3.6/dist-packages/ipykernel_launcher.py:98: DeprecationWarning: The default dtype for empty Series will be 'object' instead of 'float64' in a future version. Specify a dtype explicitly to silence this warning.\n"
          ],
          "name": "stderr"
        },
        {
          "output_type": "stream",
          "text": [
            "returns std= 0.8629531723541456\n"
          ],
          "name": "stdout"
        },
        {
          "output_type": "display_data",
          "data": {
            "image/png": "[encoded data removed]",
            "text/plain": [
              "<Figure size 432x288 with 1 Axes>"
            ]
          },
          "metadata": {
            "tags": [],
            "needs_background": "light"
          }
        },
        {
          "output_type": "display_data",
          "data": {
            "image/png": "[encoded data removed]",
            "text/plain": [
              "<Figure size 432x288 with 1 Axes>"
            ]
          },
          "metadata": {
            "tags": [],
            "needs_background": "light"
          }
        },
        {
          "output_type": "stream",
          "text": [
            "TotaAnnReturn in percent = 26.997234\n",
            "CAGR in percent = 13.472278\n",
            "Sharpe Ratio = 2.540000\n",
            "Sharpe2 Ratio = 1.210000\n"
          ],
          "name": "stdout"
        }
      ]
    },
    {
      "cell_type": "code",
      "metadata": {
        "id": "g69L4VjYHhd8",
        "colab_type": "code",
        "colab": {
          "base_uri": "https://localhost:8080/",
          "height": 33
        },
        "outputId": "72fb6717-6587-4d70-f5d0-f751a993af67"
      },
      "source": [
        "annualized_volatility = df.returns.std() * np.sqrt(periods)\n",
        "annualized_volatility"
      ],
      "execution_count": 40,
      "outputs": [
        {
          "output_type": "execute_result",
          "data": {
            "text/plain": [
              "0.10612918374714829"
            ]
          },
          "metadata": {
            "tags": []
          },
          "execution_count": 40
        }
      ]
    },
    {
      "cell_type": "code",
      "metadata": {
        "id": "tZcKWvDUHBZV",
        "colab_type": "code",
        "colab": {
          "base_uri": "https://localhost:8080/",
          "height": 76
        },
        "outputId": "85555c17-3a09-40aa-a671-4b9eba439e5f"
      },
      "source": [
        "dict = {\"TotaAnnReturn in percent\":[TotaAnnReturn*100], 'CAGR in percent':[CAGR], 'Sharpe Ratio': [round(sharpe,2)],\\\n",
        "        'Sharpe2 Ratio':[round(sharpe2,2)], 'interest_rate':[interest_rate],  'shift':[shift], 'lookback':[lookback], 'Annualized volatility':[annualized_volatility], 'cash':[cash]}\n",
        "output = pd.DataFrame(dict) \n",
        "output "
      ],
      "execution_count": 41,
      "outputs": [
        {
          "output_type": "execute_result",
          "data": {
            "text/html": [
              "<div>\n",
              "<style scoped>\n",
              "    .dataframe tbody tr th:only-of-type {\n",
              "        vertical-align: middle;\n",
              "    }\n",
              "\n",
              "    .dataframe tbody tr th {\n",
              "        vertical-align: top;\n",
              "    }\n",
              "\n",
              "    .dataframe thead th {\n",
              "        text-align: right;\n",
              "    }\n",
              "</style>\n",
              "<table border=\"1\" class=\"dataframe\">\n",
              "  <thead>\n",
              "    <tr style=\"text-align: right;\">\n",
              "      <th></th>\n",
              "      <th>TotaAnnReturn in percent</th>\n",
              "      <th>CAGR in percent</th>\n",
              "      <th>Sharpe Ratio</th>\n",
              "      <th>Sharpe2 Ratio</th>\n",
              "      <th>interest_rate</th>\n",
              "      <th>shift</th>\n",
              "      <th>lookback</th>\n",
              "      <th>Annualized volatility</th>\n",
              "      <th>cash</th>\n",
              "    </tr>\n",
              "  </thead>\n",
              "  <tbody>\n",
              "    <tr>\n",
              "      <th>0</th>\n",
              "      <td>26.997234</td>\n",
              "      <td>0.134723</td>\n",
              "      <td>2.54</td>\n",
              "      <td>1.21</td>\n",
              "      <td>0.001667</td>\n",
              "      <td>20</td>\n",
              "      <td>60</td>\n",
              "      <td>0.106129</td>\n",
              "      <td>0.1</td>\n",
              "    </tr>\n",
              "  </tbody>\n",
              "</table>\n",
              "</div>"
            ],
            "text/plain": [
              "   TotaAnnReturn in percent  CAGR in percent  ...  Annualized volatility  cash\n",
              "0                 26.997234         0.134723  ...               0.106129   0.1\n",
              "\n",
              "[1 rows x 9 columns]"
            ]
          },
          "metadata": {
            "tags": []
          },
          "execution_count": 41
        }
      ]
    },
    {
      "cell_type": "code",
      "metadata": {
        "id": "P4xsqetMH5NC",
        "colab_type": "code",
        "colab": {}
      },
      "source": [
        "# dict = {\"TotaAnnReturn in percent\":[TotaAnnReturn*100], 'CAGR in percent':[CAGR], 'Sharpe Ratio': [round(sharpe,2)],\\\n",
        "#         'Sharpe2 Ratio':[round(sharpe2,2)], 'interest_rate':[interest_rate],  'shift':[shift], 'lookback':[lookback], 'Annualized volatility':[annualized_volatility]}\n",
        "# output_summary = pd.DataFrame(dict) "
      ],
      "execution_count": 42,
      "outputs": []
    },
    {
      "cell_type": "code",
      "metadata": {
        "id": "ncSIuVJWRWo_",
        "colab_type": "code",
        "colab": {
          "base_uri": "https://localhost:8080/",
          "height": 248
        },
        "outputId": "17b35d3d-f305-440e-dca1-ec44d40b480e"
      },
      "source": [
        "output_summary = output_summary.append(output)\n",
        "output_summary"
      ],
      "execution_count": 43,
      "outputs": [
        {
          "output_type": "execute_result",
          "data": {
            "text/html": [
              "<div>\n",
              "<style scoped>\n",
              "    .dataframe tbody tr th:only-of-type {\n",
              "        vertical-align: middle;\n",
              "    }\n",
              "\n",
              "    .dataframe tbody tr th {\n",
              "        vertical-align: top;\n",
              "    }\n",
              "\n",
              "    .dataframe thead th {\n",
              "        text-align: right;\n",
              "    }\n",
              "</style>\n",
              "<table border=\"1\" class=\"dataframe\">\n",
              "  <thead>\n",
              "    <tr style=\"text-align: right;\">\n",
              "      <th></th>\n",
              "      <th>TotaAnnReturn in percent</th>\n",
              "      <th>CAGR in percent</th>\n",
              "      <th>Sharpe Ratio</th>\n",
              "      <th>Sharpe2 Ratio</th>\n",
              "      <th>interest_rate</th>\n",
              "      <th>shift</th>\n",
              "      <th>lookback</th>\n",
              "      <th>Annualized volatility</th>\n",
              "      <th>cash</th>\n",
              "    </tr>\n",
              "  </thead>\n",
              "  <tbody>\n",
              "    <tr>\n",
              "      <th>0</th>\n",
              "      <td>8.926210</td>\n",
              "      <td>0.064494</td>\n",
              "      <td>0.79</td>\n",
              "      <td>0.59</td>\n",
              "      <td>0.001667</td>\n",
              "      <td>20</td>\n",
              "      <td>60</td>\n",
              "      <td>0.113329</td>\n",
              "      <td>NaN</td>\n",
              "    </tr>\n",
              "    <tr>\n",
              "      <th>0</th>\n",
              "      <td>8.926210</td>\n",
              "      <td>0.064494</td>\n",
              "      <td>0.79</td>\n",
              "      <td>0.59</td>\n",
              "      <td>0.001667</td>\n",
              "      <td>20</td>\n",
              "      <td>60</td>\n",
              "      <td>0.113329</td>\n",
              "      <td>NaN</td>\n",
              "    </tr>\n",
              "    <tr>\n",
              "      <th>0</th>\n",
              "      <td>8.864236</td>\n",
              "      <td>0.064158</td>\n",
              "      <td>0.79</td>\n",
              "      <td>0.59</td>\n",
              "      <td>0.001667</td>\n",
              "      <td>20</td>\n",
              "      <td>60</td>\n",
              "      <td>0.112308</td>\n",
              "      <td>NaN</td>\n",
              "    </tr>\n",
              "    <tr>\n",
              "      <th>0</th>\n",
              "      <td>8.864236</td>\n",
              "      <td>0.064158</td>\n",
              "      <td>0.79</td>\n",
              "      <td>0.59</td>\n",
              "      <td>0.001667</td>\n",
              "      <td>20</td>\n",
              "      <td>60</td>\n",
              "      <td>0.112308</td>\n",
              "      <td>0.010</td>\n",
              "    </tr>\n",
              "    <tr>\n",
              "      <th>0</th>\n",
              "      <td>8.926210</td>\n",
              "      <td>0.064494</td>\n",
              "      <td>0.79</td>\n",
              "      <td>0.59</td>\n",
              "      <td>0.001667</td>\n",
              "      <td>20</td>\n",
              "      <td>60</td>\n",
              "      <td>0.113329</td>\n",
              "      <td>0.001</td>\n",
              "    </tr>\n",
              "    <tr>\n",
              "      <th>0</th>\n",
              "      <td>31.517226</td>\n",
              "      <td>0.147134</td>\n",
              "      <td>2.68</td>\n",
              "      <td>1.19</td>\n",
              "      <td>0.001667</td>\n",
              "      <td>20</td>\n",
              "      <td>60</td>\n",
              "      <td>0.117803</td>\n",
              "      <td>0.001</td>\n",
              "    </tr>\n",
              "    <tr>\n",
              "      <th>0</th>\n",
              "      <td>26.997234</td>\n",
              "      <td>0.134723</td>\n",
              "      <td>2.54</td>\n",
              "      <td>1.21</td>\n",
              "      <td>0.001667</td>\n",
              "      <td>20</td>\n",
              "      <td>60</td>\n",
              "      <td>0.106129</td>\n",
              "      <td>0.100</td>\n",
              "    </tr>\n",
              "  </tbody>\n",
              "</table>\n",
              "</div>"
            ],
            "text/plain": [
              "   TotaAnnReturn in percent  CAGR in percent  ...  Annualized volatility   cash\n",
              "0                  8.926210         0.064494  ...               0.113329    NaN\n",
              "0                  8.926210         0.064494  ...               0.113329    NaN\n",
              "0                  8.864236         0.064158  ...               0.112308    NaN\n",
              "0                  8.864236         0.064158  ...               0.112308  0.010\n",
              "0                  8.926210         0.064494  ...               0.113329  0.001\n",
              "0                 31.517226         0.147134  ...               0.117803  0.001\n",
              "0                 26.997234         0.134723  ...               0.106129  0.100\n",
              "\n",
              "[7 rows x 9 columns]"
            ]
          },
          "metadata": {
            "tags": []
          },
          "execution_count": 43
        }
      ]
    },
    {
      "cell_type": "code",
      "metadata": {
        "id": "mcaOIJLQRb6Y",
        "colab_type": "code",
        "colab": {}
      },
      "source": [
        "output_summary.reset_index(inplace=True)"
      ],
      "execution_count": 44,
      "outputs": []
    },
    {
      "cell_type": "code",
      "metadata": {
        "id": "aGQ8vhzELBi2",
        "colab_type": "code",
        "colab": {}
      },
      "source": [
        "output_summary.drop(2, inplace=True)"
      ],
      "execution_count": 50,
      "outputs": []
    },
    {
      "cell_type": "code",
      "metadata": {
        "id": "B4CXH5V0LC7j",
        "colab_type": "code",
        "colab": {
          "base_uri": "https://localhost:8080/",
          "height": 162
        },
        "outputId": "117a61ee-2d3a-4b61-8f61-3235d9498ee7"
      },
      "source": [
        "output_summary"
      ],
      "execution_count": 53,
      "outputs": [
        {
          "output_type": "execute_result",
          "data": {
            "text/html": [
              "<div>\n",
              "<style scoped>\n",
              "    .dataframe tbody tr th:only-of-type {\n",
              "        vertical-align: middle;\n",
              "    }\n",
              "\n",
              "    .dataframe tbody tr th {\n",
              "        vertical-align: top;\n",
              "    }\n",
              "\n",
              "    .dataframe thead th {\n",
              "        text-align: right;\n",
              "    }\n",
              "</style>\n",
              "<table border=\"1\" class=\"dataframe\">\n",
              "  <thead>\n",
              "    <tr style=\"text-align: right;\">\n",
              "      <th></th>\n",
              "      <th>index</th>\n",
              "      <th>TotaAnnReturn in percent</th>\n",
              "      <th>CAGR in percent</th>\n",
              "      <th>Sharpe Ratio</th>\n",
              "      <th>Sharpe2 Ratio</th>\n",
              "      <th>interest_rate</th>\n",
              "      <th>shift</th>\n",
              "      <th>lookback</th>\n",
              "      <th>Annualized volatility</th>\n",
              "      <th>cash</th>\n",
              "      <th>Composition</th>\n",
              "    </tr>\n",
              "  </thead>\n",
              "  <tbody>\n",
              "    <tr>\n",
              "      <th>3</th>\n",
              "      <td>0</td>\n",
              "      <td>8.864236</td>\n",
              "      <td>0.064158</td>\n",
              "      <td>0.79</td>\n",
              "      <td>0.59</td>\n",
              "      <td>0.001667</td>\n",
              "      <td>20</td>\n",
              "      <td>60</td>\n",
              "      <td>0.112308</td>\n",
              "      <td>0.010</td>\n",
              "      <td>Individual Stocks</td>\n",
              "    </tr>\n",
              "    <tr>\n",
              "      <th>4</th>\n",
              "      <td>0</td>\n",
              "      <td>8.926210</td>\n",
              "      <td>0.064494</td>\n",
              "      <td>0.79</td>\n",
              "      <td>0.59</td>\n",
              "      <td>0.001667</td>\n",
              "      <td>20</td>\n",
              "      <td>60</td>\n",
              "      <td>0.113329</td>\n",
              "      <td>0.001</td>\n",
              "      <td>Individual Stocks</td>\n",
              "    </tr>\n",
              "    <tr>\n",
              "      <th>5</th>\n",
              "      <td>0</td>\n",
              "      <td>31.517226</td>\n",
              "      <td>0.147134</td>\n",
              "      <td>2.68</td>\n",
              "      <td>1.19</td>\n",
              "      <td>0.001667</td>\n",
              "      <td>20</td>\n",
              "      <td>60</td>\n",
              "      <td>0.117803</td>\n",
              "      <td>0.001</td>\n",
              "      <td>Individual Stocks</td>\n",
              "    </tr>\n",
              "    <tr>\n",
              "      <th>6</th>\n",
              "      <td>0</td>\n",
              "      <td>26.997234</td>\n",
              "      <td>0.134723</td>\n",
              "      <td>2.54</td>\n",
              "      <td>1.21</td>\n",
              "      <td>0.001667</td>\n",
              "      <td>20</td>\n",
              "      <td>60</td>\n",
              "      <td>0.106129</td>\n",
              "      <td>0.100</td>\n",
              "      <td>Individual Stocks</td>\n",
              "    </tr>\n",
              "  </tbody>\n",
              "</table>\n",
              "</div>"
            ],
            "text/plain": [
              "   index  TotaAnnReturn in percent  ...   cash        Composition\n",
              "3      0                  8.864236  ...  0.010  Individual Stocks\n",
              "4      0                  8.926210  ...  0.001  Individual Stocks\n",
              "5      0                 31.517226  ...  0.001  Individual Stocks\n",
              "6      0                 26.997234  ...  0.100  Individual Stocks\n",
              "\n",
              "[4 rows x 11 columns]"
            ]
          },
          "metadata": {
            "tags": []
          },
          "execution_count": 53
        }
      ]
    },
    {
      "cell_type": "code",
      "metadata": {
        "id": "Mxpi1PgfLHlL",
        "colab_type": "code",
        "colab": {}
      },
      "source": [
        "output_summary['Composition'] = 'Individual Stocks'"
      ],
      "execution_count": 52,
      "outputs": []
    },
    {
      "cell_type": "code",
      "metadata": {
        "id": "bqCJuCNoLSwi",
        "colab_type": "code",
        "colab": {}
      },
      "source": [
        "output_summary.iloc[1, output_summary.columns.get_loc('Composition')] = 'ETFs'\n"
      ],
      "execution_count": 62,
      "outputs": []
    },
    {
      "cell_type": "code",
      "metadata": {
        "id": "tb7s4fxNLibH",
        "colab_type": "code",
        "colab": {}
      },
      "source": [
        "output_summary.drop('index', axis='columns', inplace=True)"
      ],
      "execution_count": 65,
      "outputs": []
    },
    {
      "cell_type": "code",
      "metadata": {
        "id": "GN5GGjnGLk_P",
        "colab_type": "code",
        "colab": {
          "base_uri": "https://localhost:8080/",
          "height": 162
        },
        "outputId": "661afc2a-a1f5-4810-ba9d-66acdae6370a"
      },
      "source": [
        "output_summary"
      ],
      "execution_count": 66,
      "outputs": [
        {
          "output_type": "execute_result",
          "data": {
            "text/html": [
              "<div>\n",
              "<style scoped>\n",
              "    .dataframe tbody tr th:only-of-type {\n",
              "        vertical-align: middle;\n",
              "    }\n",
              "\n",
              "    .dataframe tbody tr th {\n",
              "        vertical-align: top;\n",
              "    }\n",
              "\n",
              "    .dataframe thead th {\n",
              "        text-align: right;\n",
              "    }\n",
              "</style>\n",
              "<table border=\"1\" class=\"dataframe\">\n",
              "  <thead>\n",
              "    <tr style=\"text-align: right;\">\n",
              "      <th></th>\n",
              "      <th>TotaAnnReturn in percent</th>\n",
              "      <th>CAGR in percent</th>\n",
              "      <th>Sharpe Ratio</th>\n",
              "      <th>Sharpe2 Ratio</th>\n",
              "      <th>interest_rate</th>\n",
              "      <th>shift</th>\n",
              "      <th>lookback</th>\n",
              "      <th>Annualized volatility</th>\n",
              "      <th>cash</th>\n",
              "      <th>Composition</th>\n",
              "    </tr>\n",
              "  </thead>\n",
              "  <tbody>\n",
              "    <tr>\n",
              "      <th>3</th>\n",
              "      <td>8.864236</td>\n",
              "      <td>0.064158</td>\n",
              "      <td>0.79</td>\n",
              "      <td>0.59</td>\n",
              "      <td>0.001667</td>\n",
              "      <td>20</td>\n",
              "      <td>60</td>\n",
              "      <td>0.112308</td>\n",
              "      <td>0.010</td>\n",
              "      <td>ETFs</td>\n",
              "    </tr>\n",
              "    <tr>\n",
              "      <th>4</th>\n",
              "      <td>8.926210</td>\n",
              "      <td>0.064494</td>\n",
              "      <td>0.79</td>\n",
              "      <td>0.59</td>\n",
              "      <td>0.001667</td>\n",
              "      <td>20</td>\n",
              "      <td>60</td>\n",
              "      <td>0.113329</td>\n",
              "      <td>0.001</td>\n",
              "      <td>ETFs</td>\n",
              "    </tr>\n",
              "    <tr>\n",
              "      <th>5</th>\n",
              "      <td>31.517226</td>\n",
              "      <td>0.147134</td>\n",
              "      <td>2.68</td>\n",
              "      <td>1.19</td>\n",
              "      <td>0.001667</td>\n",
              "      <td>20</td>\n",
              "      <td>60</td>\n",
              "      <td>0.117803</td>\n",
              "      <td>0.001</td>\n",
              "      <td>Individual Stocks</td>\n",
              "    </tr>\n",
              "    <tr>\n",
              "      <th>6</th>\n",
              "      <td>26.997234</td>\n",
              "      <td>0.134723</td>\n",
              "      <td>2.54</td>\n",
              "      <td>1.21</td>\n",
              "      <td>0.001667</td>\n",
              "      <td>20</td>\n",
              "      <td>60</td>\n",
              "      <td>0.106129</td>\n",
              "      <td>0.100</td>\n",
              "      <td>Individual Stocks</td>\n",
              "    </tr>\n",
              "  </tbody>\n",
              "</table>\n",
              "</div>"
            ],
            "text/plain": [
              "   TotaAnnReturn in percent  CAGR in percent  ...   cash        Composition\n",
              "3                  8.864236         0.064158  ...  0.010               ETFs\n",
              "4                  8.926210         0.064494  ...  0.001               ETFs\n",
              "5                 31.517226         0.147134  ...  0.001  Individual Stocks\n",
              "6                 26.997234         0.134723  ...  0.100  Individual Stocks\n",
              "\n",
              "[4 rows x 10 columns]"
            ]
          },
          "metadata": {
            "tags": []
          },
          "execution_count": 66
        }
      ]
    },
    {
      "cell_type": "code",
      "metadata": {
        "id": "DScBkZE4Lw_E",
        "colab_type": "code",
        "colab": {}
      },
      "source": [
        ""
      ],
      "execution_count": null,
      "outputs": []
    }
  ]
}