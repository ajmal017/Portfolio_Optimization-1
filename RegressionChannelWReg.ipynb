{
  "nbformat": 4,
  "nbformat_minor": 0,
  "metadata": {
    "colab": {
      "name": "RegressionChannelWReg.ipynb",
      "provenance": [],
      "authorship_tag": "ABX9TyMXm5Uc9FQRy+GASh4yaEZE",
      "include_colab_link": true
    },
    "kernelspec": {
      "name": "python3",
      "display_name": "Python 3"
    }
  },
  "cells": [
    {
      "cell_type": "markdown",
      "metadata": {
        "id": "view-in-github",
        "colab_type": "text"
      },
      "source": [
        "<a href=\"https://colab.research.google.com/github/armandordorica/Portfolio_Optimization/blob/master/RegressionChannelWReg.ipynb\" target=\"_parent\"><img src=\"https://colab.research.google.com/assets/colab-badge.svg\" alt=\"Open In Colab\"/></a>"
      ]
    },
    {
      "cell_type": "code",
      "metadata": {
        "id": "TNBJTmdqjbU4",
        "colab_type": "code",
        "colab": {
          "base_uri": "https://localhost:8080/",
          "height": 118
        },
        "outputId": "70868f8c-1303-4ea2-be3b-48638c118e90"
      },
      "source": [
        "from google.colab import drive\n",
        "drive.mount('/content/drive')"
      ],
      "execution_count": 2,
      "outputs": [
        {
          "output_type": "stream",
          "text": [
            "Go to this URL in a browser: https://accounts.google.com/o/oauth2/auth?client_id=947318989803-6bn6qk8qdgf4n4g3pfee6491hc0brc4i.apps.googleusercontent.com&redirect_uri=urn%3aietf%3awg%3aoauth%3a2.0%3aoob&response_type=code&scope=email%20https%3a%2f%2fwww.googleapis.com%2fauth%2fdocs.test%20https%3a%2f%2fwww.googleapis.com%2fauth%2fdrive%20https%3a%2f%2fwww.googleapis.com%2fauth%2fdrive.photos.readonly%20https%3a%2f%2fwww.googleapis.com%2fauth%2fpeopleapi.readonly\n",
            "\n",
            "Enter your authorization code:\n",
            "··········\n",
            "Mounted at /content/drive\n"
          ],
          "name": "stdout"
        }
      ]
    },
    {
      "cell_type": "code",
      "metadata": {
        "id": "hotkEIWhjhlo",
        "colab_type": "code",
        "colab": {
          "base_uri": "https://localhost:8080/",
          "height": 33
        },
        "outputId": "272e3e5c-19b0-4aec-ef6c-3b73e74af6f1"
      },
      "source": [
        "cd drive/My\\ Drive/u\\ of\\ t/APS\\ 1051\\ Portfolio\\ Optimization/Session\\ 6"
      ],
      "execution_count": 4,
      "outputs": [
        {
          "output_type": "stream",
          "text": [
            "/content/drive/My Drive/u of t/APS 1051 Portfolio Optimization/Session 6\n"
          ],
          "name": "stdout"
        }
      ]
    },
    {
      "cell_type": "code",
      "metadata": {
        "id": "004iNdKJjpik",
        "colab_type": "code",
        "colab": {
          "base_uri": "https://localhost:8080/",
          "height": 33
        },
        "outputId": "b4f49b84-c80d-4b9d-d010-60295a50dc4d"
      },
      "source": [
        "cd  REGRESSIONCHANNELSINGLEASSETPROGRAMS/"
      ],
      "execution_count": 6,
      "outputs": [
        {
          "output_type": "stream",
          "text": [
            "/content/drive/My Drive/u of t/APS 1051 Portfolio Optimization/Session 6/REGRESSIONCHANNELSINGLEASSETPROGRAMS\n"
          ],
          "name": "stdout"
        }
      ]
    },
    {
      "cell_type": "code",
      "metadata": {
        "id": "KA3LgKrZjtlb",
        "colab_type": "code",
        "colab": {
          "base_uri": "https://localhost:8080/",
          "height": 33
        },
        "outputId": "c0502cc6-3a37-4ae7-9548-fbde0e3842da"
      },
      "source": [
        "ls"
      ],
      "execution_count": 7,
      "outputs": [
        {
          "output_type": "stream",
          "text": [
            "\u001b[0m\u001b[01;34m1.Introduction\u001b[0m/  \u001b[01;34m2.MoreAdvanced\u001b[0m/\n"
          ],
          "name": "stdout"
        }
      ]
    },
    {
      "cell_type": "code",
      "metadata": {
        "id": "XQ2jI4PTju6I",
        "colab_type": "code",
        "colab": {
          "base_uri": "https://localhost:8080/",
          "height": 33
        },
        "outputId": "01c06763-68df-4366-b4fb-9305e4e2ecf7"
      },
      "source": [
        "cd 2.MoreAdvanced/"
      ],
      "execution_count": 8,
      "outputs": [
        {
          "output_type": "stream",
          "text": [
            "/content/drive/My Drive/u of t/APS 1051 Portfolio Optimization/Session 6/REGRESSIONCHANNELSINGLEASSETPROGRAMS/2.MoreAdvanced\n"
          ],
          "name": "stdout"
        }
      ]
    },
    {
      "cell_type": "code",
      "metadata": {
        "id": "bdWuZksljxur",
        "colab_type": "code",
        "colab": {
          "base_uri": "https://localhost:8080/",
          "height": 82
        },
        "outputId": "74f63742-d46a-43a7-eecd-d162f6de2b75"
      },
      "source": [
        "ls"
      ],
      "execution_count": 9,
      "outputs": [
        {
          "output_type": "stream",
          "text": [
            "detrendPrice.py  RegressionChannelWReg_GUIDE.mp3  \u001b[0m\u001b[01;34mResults\u001b[0m/\n",
            "functions.py     RegressionChannelWReg_GUIDE.txt  Untitled0.ipynb\n",
            "IYE.csv          RegressionChannelWReg.pptx       WhiteRealityCheckFor1.py\n",
            "\u001b[01;34m__pycache__\u001b[0m/     RegressionChannelWReg.py\n"
          ],
          "name": "stdout"
        }
      ]
    },
    {
      "cell_type": "code",
      "metadata": {
        "id": "Nzx1hjsKj16g",
        "colab_type": "code",
        "colab": {
          "base_uri": "https://localhost:8080/",
          "height": 362
        },
        "outputId": "2ab4515a-58c2-4399-ed0c-2af3920a87ff"
      },
      "source": [
        "!pip install yfinance"
      ],
      "execution_count": 11,
      "outputs": [
        {
          "output_type": "stream",
          "text": [
            "Collecting yfinance\n",
            "  Downloading https://files.pythonhosted.org/packages/c2/31/8b374a12b90def92a4e27d0fc595fc43635f395984e36a075244d98bd265/yfinance-0.1.54.tar.gz\n",
            "Requirement already satisfied: pandas>=0.24 in /usr/local/lib/python3.6/dist-packages (from yfinance) (1.0.5)\n",
            "Requirement already satisfied: numpy>=1.15 in /usr/local/lib/python3.6/dist-packages (from yfinance) (1.18.5)\n",
            "Requirement already satisfied: requests>=2.20 in /usr/local/lib/python3.6/dist-packages (from yfinance) (2.23.0)\n",
            "Requirement already satisfied: multitasking>=0.0.7 in /usr/local/lib/python3.6/dist-packages (from yfinance) (0.0.9)\n",
            "Requirement already satisfied: python-dateutil>=2.6.1 in /usr/local/lib/python3.6/dist-packages (from pandas>=0.24->yfinance) (2.8.1)\n",
            "Requirement already satisfied: pytz>=2017.2 in /usr/local/lib/python3.6/dist-packages (from pandas>=0.24->yfinance) (2018.9)\n",
            "Requirement already satisfied: certifi>=2017.4.17 in /usr/local/lib/python3.6/dist-packages (from requests>=2.20->yfinance) (2020.6.20)\n",
            "Requirement already satisfied: idna<3,>=2.5 in /usr/local/lib/python3.6/dist-packages (from requests>=2.20->yfinance) (2.9)\n",
            "Requirement already satisfied: chardet<4,>=3.0.2 in /usr/local/lib/python3.6/dist-packages (from requests>=2.20->yfinance) (3.0.4)\n",
            "Requirement already satisfied: urllib3!=1.25.0,!=1.25.1,<1.26,>=1.21.1 in /usr/local/lib/python3.6/dist-packages (from requests>=2.20->yfinance) (1.24.3)\n",
            "Requirement already satisfied: six>=1.5 in /usr/local/lib/python3.6/dist-packages (from python-dateutil>=2.6.1->pandas>=0.24->yfinance) (1.12.0)\n",
            "Building wheels for collected packages: yfinance\n",
            "  Building wheel for yfinance (setup.py) ... \u001b[?25l\u001b[?25hdone\n",
            "  Created wheel for yfinance: filename=yfinance-0.1.54-py2.py3-none-any.whl size=22409 sha256=f43e4703fb9531e95c73436c13690e4033bc0940c15e95123de692f7ffa1d26b\n",
            "  Stored in directory: /root/.cache/pip/wheels/f9/e3/5b/ec24dd2984b12d61e0abf26289746c2436a0e7844f26f2515c\n",
            "Successfully built yfinance\n",
            "Installing collected packages: yfinance\n",
            "Successfully installed yfinance-0.1.54\n"
          ],
          "name": "stdout"
        }
      ]
    },
    {
      "cell_type": "code",
      "metadata": {
        "id": "RHguuMs1jPuL",
        "colab_type": "code",
        "colab": {}
      },
      "source": [
        "# -*- coding: utf-8 -*-\n",
        "\"\"\"\n",
        "SEE RegressionChannelWReg.pptx\n",
        "SEE RegressionChannelWReg_GUIDE.txt\n",
        "SEE RegressionChannelWReg_GUIDE.mp3\n",
        "\n",
        "\"\"\"\n",
        "import functions as ff\n",
        "import matplotlib.pyplot as plt\n",
        "from numpy import log, polyfit, sqrt, std, subtract\n",
        "from datetime import datetime\n",
        "import pandas as pd\n",
        "import numpy as np\n",
        "pd.core.common.is_list_like = pd.api.types.is_list_like #datareader problem probably fixed in next version of datareader\n",
        "from pandas_datareader import data as pdr\n",
        "import yfinance as yf\n",
        "yf.pdr_override() # <== that's all it takes :-)\n",
        "import detrendPrice\n",
        "import WhiteRealityCheckFor1\n",
        "\n",
        "start_date = '2000-01-01' \n",
        "end_date = '2019-06-01'\n",
        "#end_date = datetime.now() \n"
      ],
      "execution_count": 12,
      "outputs": []
    },
    {
      "cell_type": "markdown",
      "metadata": {
        "id": "YZuN5WQqkMqV",
        "colab_type": "text"
      },
      "source": [
        "* Below is the I-Y-E ETF, the iShares Dow Jones US Energy Sector ETF.\n",
        "* This is a particularly volatile ETF, as the prices of oil suffer violent changes.\n",
        "\n",
        "* `entryZScore = 2` - Sets the gauge of the regression channel to 2 standard deviations at either side of the mean.\n",
        "  * The reason for this wide gauge is the extremely high volatility of the I=Y-E ETF.\n",
        "  * Setting the entryZscore depends on two conditions, the first being the risk tolerance of the user, the lower the entryZscore, the more risk-tolerant.\n",
        "  * The second condition is the actual dispersion of the price movement, which needs to be large enough for the selected `entryZscore`."
      ]
    },
    {
      "cell_type": "code",
      "metadata": {
        "id": "FrKF27dHjVna",
        "colab_type": "code",
        "colab": {}
      },
      "source": [
        "\n",
        "symbol = 'IYE' \n",
        "entryZscore = 2 # gauge of regression channel\n"
      ],
      "execution_count": 13,
      "outputs": []
    },
    {
      "cell_type": "markdown",
      "metadata": {
        "id": "W5Xf4vEWlKtl",
        "colab_type": "text"
      },
      "source": [
        "\n",
        "# `exitZscore` Sets the exit of all trades to the center of the regression channel.\n"
      ]
    },
    {
      "cell_type": "code",
      "metadata": {
        "id": "3PX0pX38lN4o",
        "colab_type": "code",
        "colab": {}
      },
      "source": [
        "exitZscore = -.0\n"
      ],
      "execution_count": 16,
      "outputs": []
    },
    {
      "cell_type": "markdown",
      "metadata": {
        "id": "oDLbjzJZlSIx",
        "colab_type": "text"
      },
      "source": [
        "**This is the lookback window for all calculations.**\n",
        "\n",
        "* To avoid the standard deviation from whiplashing too much,\n",
        "a long enough window is recommended. 40 is the minimum for this."
      ]
    },
    {
      "cell_type": "code",
      "metadata": {
        "id": "uHGFV_6qlO_i",
        "colab_type": "code",
        "colab": {}
      },
      "source": [
        "\n",
        "window = 40 #lookback for moving average or regression #40\n",
        "shorts = 0 #shorts possible or not\n",
        "regression = 1 # regression or moving average in the calculation of the Z-value\n",
        "complex_entrance = 0 #2 day criterium for entering a position\n",
        "forbidden = 0 #area of Z-value where no trades should be open\n",
        "delay = 1 #1 for instant execution, 2 for one day delay\n",
        "log_price = 1 #use the log of price for the calculation of Z input\n",
        "tcost=10/10000*0\n"
      ],
      "execution_count": null,
      "outputs": []
    },
    {
      "cell_type": "code",
      "metadata": {
        "id": "KKBBWktJkFKF",
        "colab_type": "code",
        "colab": {
          "base_uri": "https://localhost:8080/",
          "height": 33
        },
        "outputId": "2445191a-234b-44da-cd5d-51bb4e8d0c8c"
      },
      "source": [
        "\n",
        "\n",
        "msg = \"\" \n",
        "address = symbol + '.csv'\n",
        "  \n",
        "\n",
        "try:\n",
        "    dfP = pdr.get_data_yahoo(symbol, start=start_date, end=end_date)\n",
        "    dfP.to_csv(address, header = True, index=True, encoding='utf-8')\n",
        "except Exception:\n",
        "    msg = \"yahoo problem\"\n",
        "    dfP = pd.DataFrame()\n",
        "\n",
        "dfP = pd.read_csv(address, parse_dates=['Date'])\n",
        "dfP = dfP.sort_values(by='Date')\n",
        "dfP.set_index('Date', inplace = True)\n"
      ],
      "execution_count": 14,
      "outputs": [
        {
          "output_type": "stream",
          "text": [
            "\r[*********************100%***********************]  1 of 1 completed\n"
          ],
          "name": "stdout"
        }
      ]
    },
    {
      "cell_type": "code",
      "metadata": {
        "id": "HRiyPXVQkyR7",
        "colab_type": "code",
        "colab": {
          "base_uri": "https://localhost:8080/",
          "height": 428
        },
        "outputId": "8c210153-04e3-4c8f-d744-501268571755"
      },
      "source": [
        "\n",
        "#dfP['Adj Close'].plot()\n",
        "#plt.show()\n",
        "\n",
        "dfP = dfP.assign(LOG_ADJ_CLOSE = np.log(dfP['Adj Close'])) \n",
        "dfP = dfP.assign(TIME = pd.Series(np.arange(dfP.shape[0])).values) \n",
        "\n",
        "if log_price == 1:\n",
        "    price_column = 'LOG_ADJ_CLOSE'\n",
        "else:\n",
        "    price_column = 'Adj Close'\n",
        "\n",
        "#rolling regression instead of moving average\n",
        "a = np.array([np.nan] * len(dfP))\n",
        "b = [np.nan] * len(dfP)  # If betas required.\n",
        "y_ = dfP[price_column].values\n",
        "x_ = dfP[['TIME']].assign(constant=1).values\n",
        "for n in range(window, len(dfP)):\n",
        "    y = y_[(n - window):n]\n",
        "    X = x_[(n - window):n]\n",
        "    # betas = Inverse(X'.X).X'.y\n",
        "    betas = np.linalg.pinv(X.T.dot(X)).dot(X.T).dot(y)\n",
        "    y_hat = betas.dot(x_[n, :])\n",
        "    a[n] = y_hat\n",
        "    b[n] = betas.tolist()  # If betas required.\n",
        "\n",
        "dfP = dfP.assign(y_hat = pd.Series(a).values)\n",
        "    \n",
        "if regression == 1:\n",
        "    mean = dfP['y_hat']\n",
        "else:\n",
        "    mean = dfP[price_column].rolling(window=window).mean()\n",
        "\n",
        "std_dev = dfP[price_column].rolling(window=window).std()\n",
        "dfP['zScore'] = (dfP[price_column]-mean)/std_dev\n",
        "dfP['mean'] = mean\n",
        "dfP['stdev'] = std_dev\n",
        "dfP['LB'] = mean - entryZscore*std_dev\n",
        "dfP['UB'] = mean + entryZscore*std_dev\n",
        "\n",
        "\n",
        "#dfP['zScore'].plot()\n",
        "#plt.show()\n",
        "\n",
        "#set up num_units_long  \n",
        "if complex_entrance == 1:           \n",
        "    dfP['long_entry'] = ((dfP.zScore > - entryZscore) & ( dfP.zScore.shift(1) < - entryZscore)) \n",
        "    dfP['long_exit'] = ((dfP.zScore < - exitZscore) & (dfP.zScore.shift(1) > - exitZscore)) \n",
        "else:\n",
        "    dfP['long_entry'] = ((dfP.zScore <  -entryZscore))\n",
        "    dfP['long_exit'] = ((dfP.zScore >  -exitZscore))\n",
        "\n",
        "\n",
        "dfP = dfP.assign(long_forbidden = pd.Series(np.zeros(dfP.shape[0])).values)\n",
        "dfP.loc[(dfP.zScore < - (entryZscore+1)) & (dfP.zScore.shift(1) > - (entryZscore+1)),'long_forbidden'] = 1 \n",
        "\n",
        "\n",
        "dfP['num_units_long'] = np.nan #it is important to start with nan in this column otherwise padding wont work\n",
        "dfP.loc[dfP['long_entry'],'num_units_long'] = 1 \n",
        "dfP.loc[dfP['long_exit'],'num_units_long'] = 0 \n",
        "if forbidden == 1:\n",
        "    dfP.loc[dfP['long_forbidden']==1, 'num_units_long']= 0   \n",
        "dfP.iat[0,dfP.columns.get_loc(\"num_units_long\")]= 0\n",
        "dfP['num_units_long'] = dfP['num_units_long'].fillna(method='pad') \n",
        "\n",
        "#set up num units short \n",
        "if complex_entrance == 1:\n",
        "    dfP['short_entry'] = ((dfP.zScore <  entryZscore) & ( dfP.zScore.shift(1) > entryZscore))\n",
        "    dfP['short_exit'] = ((dfP.zScore > exitZscore) & (dfP.zScore.shift(1) < exitZscore))\n",
        "else:\n",
        "    dfP['short_entry'] = ((dfP.zScore >  entryZscore))\n",
        "    dfP['short_exit'] = ((dfP.zScore <  exitZscore))\n",
        "\n",
        "\n",
        "dfP = dfP.assign(short_forbidden = pd.Series(np.zeros(dfP.shape[0])).values)\n",
        "dfP.loc[(dfP.zScore >  entryZscore+1) & (dfP.zScore.shift(1) <  entryZscore+1),'short_forbidden'] = 1 \n",
        "\n",
        "dfP['num_units_short'] = np.nan \n",
        "dfP.loc[dfP['short_entry'],'num_units_short'] = -1 \n",
        "dfP.loc[dfP['short_exit'],'num_units_short'] = 0\n",
        "if forbidden == 1:\n",
        "    dfP.loc[dfP['short_forbidden']==1, 'num_units_short']= 0 \n",
        "dfP.iat[0,dfP.columns.get_loc(\"num_units_short\")]= 0\n",
        "dfP['num_units_short'] = dfP['num_units_short'].fillna(method='pad')\n",
        "dfP['num_units'] = dfP['num_units_long']*(1-tcost) +  dfP['num_units_short']*shorts*(1-tcost)\n",
        "\n",
        "#log return calculation & cummulative return\n",
        "#dfP['log_rets'] = np.log(dfP['Adj Close']/dfP['Adj Close'].shift(1))\n",
        "#dfP['port_rets'] = dfP['log_rets'] * dfP['num_units'].shift(2) \n",
        "#dfP['cum_rets'] = dfP['log_rets'].cumsum()\n",
        "#dfP['cum_rets'] = dfP['cum_rets'] + 1\n",
        "\n",
        "#pct return calculation & cummulative return\n",
        "dfP['pct_ch'] = (dfP['Adj Close']-dfP['Adj Close'].shift(1))/abs(dfP['Adj Close'].shift(1)) \n",
        "dfP['port_rets'] = dfP['pct_ch'] * dfP['num_units'].shift(delay) \n",
        "dfP = dfP.assign(I =np.cumprod(1+dfP['port_rets'])) \n",
        "dfP.iat[0,dfP.columns.get_loc('I')]= 1\n",
        "\n",
        "title=symbol\n",
        "plt.plot(dfP['I'])\n",
        "plt.ylabel(symbol)\n",
        "plt.show()\n",
        "#plt.savefig(r'Results\\%s.png' %(title))\n",
        "#plt['Close']()\n",
        "\n",
        "start = 1\n",
        "start_val = start\n",
        "end_val = dfP['I'].iat[-1]\n",
        "\n",
        "start_date = dfP.iloc[0].name\n",
        "end_date = dfP.iloc[-1].name\n",
        "days = (end_date - start_date).days    \n",
        "\n",
        "#for daily data\n",
        "periods = 360 #360\n",
        "trading_periods = 272 #252\n",
        "\n",
        "TotaAnnReturn = (end_val-start_val)/start_val/(days/periods)\n",
        "TotaAnnReturn_trading = (end_val-start_val)/start_val/(days/trading_periods)\n",
        "\n",
        "years = days/periods\n",
        "CAGR = ((end_val/start_val)**(1/years))-1\n",
        "\n",
        "\n",
        "try:\n",
        "    sharpe =  (dfP['port_rets'].mean()/ (dfP['port_rets'].std()) * np.sqrt(periods))\n",
        "except ZeroDivisionError:\n",
        "    sharpe = 0.0\n",
        "\n",
        "print (\"TotaAnnReturn = %f\" %(TotaAnnReturn*100))\n",
        "print (\"CAGR = %f\" %(CAGR*100))\n",
        "print (\"Sharpe Ratio = %f\" %(round(sharpe,2)))\n",
        "\n",
        "#Detrending Prices and Returns and white reality check\n",
        "dfP['Det_Adj_Close'] = detrendPrice.detrendPrice(dfP['Adj Close']).values\n",
        "dfP['Det_pct_ch'] = (dfP['Det_Adj_Close']-dfP['Det_Adj_Close'].shift(1))/abs(dfP['Det_Adj_Close'].shift(1)) \n",
        "dfP['Det_port_rets'] = dfP['Det_pct_ch'] * dfP['num_units'].shift(delay) \n",
        "WhiteRealityCheckFor1.bootstrap(dfP['Det_port_rets'])\n",
        "\n",
        "\n",
        "dfP.to_csv(r'Results\\dfP.csv', header = True, index=True, encoding='utf-8')\n",
        "\n",
        "\"\"\"\n",
        "df = pd.read_csv(address, parse_dates=['Date'])\n",
        "df = df.sort_values(by='Date')\n",
        "df.set_index('Date', inplace = True)\n",
        "df = pd.DataFrame(data=df[\"Adj Close\"], index=df.index)\n",
        "arr = np.array(df['Adj Close'].values)\n",
        "\"\"\"\n"
      ],
      "execution_count": 18,
      "outputs": [
        {
          "output_type": "display_data",
          "data": {
            "image/png": "[encoded data removed]",
            "text/plain": [
              "<Figure size 432x288 with 1 Axes>"
            ]
          },
          "metadata": {
            "tags": [],
            "needs_background": "light"
          }
        },
        {
          "output_type": "stream",
          "text": [
            "TotaAnnReturn = 5.485891\n",
            "CAGR = 3.816417\n",
            "Sharpe Ratio = 0.410000\n",
            "average return 0.000305\n",
            "[-0.00047545  0.00048937]\n",
            "Do not reject Ho = The population distribution of rule returns has an expected value of zero or less (because p_value is not small enough)\n",
            "p_value:\n",
            "0.1028\n"
          ],
          "name": "stdout"
        },
        {
          "output_type": "execute_result",
          "data": {
            "application/vnd.google.colaboratory.intrinsic": {
              "type": "string"
            },
            "text/plain": [
              "'\\ndf = pd.read_csv(address, parse_dates=[\\'Date\\'])\\ndf = df.sort_values(by=\\'Date\\')\\ndf.set_index(\\'Date\\', inplace = True)\\ndf = pd.DataFrame(data=df[\"Adj Close\"], index=df.index)\\narr = np.array(df[\\'Adj Close\\'].values)\\n'"
            ]
          },
          "metadata": {
            "tags": []
          },
          "execution_count": 18
        }
      ]
    },
    {
      "cell_type": "markdown",
      "metadata": {
        "id": "24PopTpXoNnh",
        "colab_type": "text"
      },
      "source": [
        "**The following two functions are used to determine if shorts are possible**"
      ]
    },
    {
      "cell_type": "code",
      "metadata": {
        "id": "wGVMvOQQoNG2",
        "colab_type": "code",
        "colab": {}
      },
      "source": [
        "\n",
        "#the following two functions are used to determine if shorts are possible\n",
        "arr= dfP[\"Adj Close\"][-800:].values #need at least 800\n",
        "\n",
        "ro = ff.vratio(arr, lag = 5, cor = 'hom')\n",
        "print ('vratio =',ro[0])  \n",
        "print ('zscore =',ro[1]) \n",
        "print ('pval =', ro[2]) \n",
        "print(\"If series is a random walk, vratio = 1\")\n",
        "print(\"If vratio != 1, e.g. .4 (<1) and zscore is greater than 1.64 for 1-tailed @ 95% cert, series is probably mean reverting\")\n",
        "print(\"If vratio != 1, e.g. 1.2 (>1) and zscore greater than 1.64  for 1-tailed @ 95% cert, probably a persistent series\")\n",
        "#When the v-ratio is less than one, the p-val ouput captures the significance level, you want it to be low, 10% or less.\n",
        "#When the v-ratio is more than one, the p-val ouput captures the confidence level (oddly enough), you want it to be high, 90% or more.\n"
      ],
      "execution_count": null,
      "outputs": []
    },
    {
      "cell_type": "markdown",
      "metadata": {
        "id": "1uki9L3lnB9R",
        "colab_type": "text"
      },
      "source": [
        "### **V-ratio and mean reverting**\n",
        "* If the vratio test confirms the series could be mean reverting, it makes sense to look at the halflife of the series.\n",
        "* `halflife` multiplied by 2 tells us how long to wait till the process reaches the long term mean. \n",
        "* The halflife is one of the few ways we have of estimating a reasonable lookback window.\n",
        "  * Needs to have as input the prices or the residuals or the difference of the logs of the prices (i.e.log returns)"
      ]
    },
    {
      "cell_type": "markdown",
      "metadata": {
        "id": "_jGaJdzgnTI3",
        "colab_type": "text"
      },
      "source": [
        "If the series is mean reverting, you can set the lookback (=window, line 25) to a small multiple of the halflife.\n",
        "For now, keep shorts = 0."
      ]
    },
    {
      "cell_type": "code",
      "metadata": {
        "id": "ZIW-WQxZk2aw",
        "colab_type": "code",
        "colab": {}
      },
      "source": [
        "\n",
        "\n",
        "halflife = ff.half_life(arr)\n",
        "print (\"\\nHalflife = %f\" %halflife)\n",
        "\n",
        "\n"
      ],
      "execution_count": null,
      "outputs": []
    }
  ]
}